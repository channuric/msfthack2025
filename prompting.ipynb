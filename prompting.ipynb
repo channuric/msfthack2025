{
  "cells": [
    {
      "cell_type": "code",
      "source": [
        "#!pip install openai"
      ],
      "outputs": [],
      "execution_count": 22,
      "metadata": {
        "gather": {
          "logged": 1750989393745
        }
      }
    },
    {
      "cell_type": "code",
      "source": [
        "import requests\n",
        "from bs4 import BeautifulSoup\n",
        "import re\n",
        "import json\n",
        " \n",
        "url = \"https://learn.microsoft.com/en-us/azure/ai-services/openai/tutorials/embeddings?tabs=python-new%2Ccommand-line&pivots=programming-language-python\"\n",
        "response = requests.get(url)\n",
        "soup = BeautifulSoup(response.text, \"html.parser\")\n",
        "content = soup.get_text()"
      ],
      "outputs": [],
      "execution_count": 23,
      "metadata": {
        "gather": {
          "logged": 1750989394008
        }
      }
    },
    {
      "cell_type": "code",
      "source": [
        "from azure.identity import DefaultAzureCredential\n",
        "from openai import AzureOpenAI\n",
        " \n",
        " \n",
        " \n",
        "token = DefaultAzureCredential().get_token(\"https://cognitiveservices.azure.com/.default\").token\n",
        " \n",
        "endpoint = \"https://aoai-l-eastus2.openai.azure.com/\"\n",
        "model_name = \"gpt-4.1\"\n",
        "deployment_name = \"gpt-4.1\"\n",
        "api_version = \"2024-12-01-preview\"\n",
        " \n",
        "llm = AzureOpenAI(\n",
        "    api_version=api_version,\n",
        "    azure_endpoint=endpoint,\n",
        "    api_key=token,\n",
        ")"
      ],
      "outputs": [],
      "execution_count": 24,
      "metadata": {
        "gather": {
          "logged": 1750989394536
        }
      }
    },
    {
      "cell_type": "code",
      "source": [
        "import requests\n",
        "from bs4 import BeautifulSoup, Comment\n",
        "import re\n",
        "\n",
        "def scrape_sections(url):\n",
        "    \"\"\"\n",
        "    Fetch URL, parse its main content, and split into sections at the first <h1> then each <h2>.\n",
        "    Returns a list of dicts:\n",
        "      [\n",
        "        {\n",
        "          \"title\" : \"Heading Text\",\n",
        "          \"tag\": \"h1\"|\"h2\",\n",
        "          \"text\": \"...clean plain text under heading...\",\n",
        "          \"images\": [...all <img> tags as strings...],\n",
        "          \"img_alt\": [...alt text from images...],\n",
        "          \"tables\": [...all <table>...</table> as strings...],\n",
        "          \"codes\": [...all <code>...</code> as strings...]\n",
        "        },\n",
        "        ...\n",
        "      ]\n",
        "    \"\"\"\n",
        "    # 1) Fetch and parse the page\n",
        "    resp = requests.get(url)\n",
        "    resp.raise_for_status()\n",
        "    soup = BeautifulSoup(resp.text, \"html.parser\")\n",
        "\n",
        "    # 2) Locate main content\n",
        "    main = (\n",
        "        soup.find(\"main\")\n",
        "        or soup.find(id=\"main\")\n",
        "        or soup.find(\"content\")\n",
        "        or soup.body\n",
        "    )\n",
        "    if main is None:\n",
        "        return []\n",
        "\n",
        "    # 3) Identify the first <h1> and all following <h2> tags\n",
        "    all_heads = main.find_all([\"h1\", \"h2\"])\n",
        "    sections = []\n",
        "    seen_h1 = False\n",
        "    for tag in all_heads:\n",
        "        if tag.name == \"h1\" and not seen_h1:\n",
        "            sections.append(tag)\n",
        "            seen_h1 = True\n",
        "        elif tag.name == \"h2\" and seen_h1:\n",
        "            sections.append(tag)\n",
        "\n",
        "    # 4) Extract content under each heading\n",
        "    output = []\n",
        "    for idx, heading in enumerate(sections):\n",
        "        end_tag = sections[idx + 1] if idx + 1 < len(sections) else None\n",
        "\n",
        "        content_nodes = []\n",
        "        for elem in heading.next_elements:\n",
        "            if elem == end_tag:\n",
        "                break\n",
        "            if isinstance(elem, str) or getattr(elem, 'name', None):\n",
        "                content_nodes.append(elem)\n",
        "\n",
        "        section_html = \"\".join(str(n) for n in content_nodes)\n",
        "        section_soup = BeautifulSoup(section_html, \"html.parser\")\n",
        "\n",
        "        # Remove scripts, styles, and comments\n",
        "        for tag in section_soup([\"script\", \"style\"]):\n",
        "            tag.decompose()\n",
        "        for comment in section_soup.find_all(string=lambda text: isinstance(text, Comment)):\n",
        "            comment.extract()\n",
        "\n",
        "        # Extract clean text\n",
        "        plain_text = section_soup.get_text(separator=\" \", strip=True)\n",
        "        plain_text = re.sub(r'\\s+', ' ', plain_text)\n",
        "        plain_text = re.sub(r'(Feedback\\s*){2,}', 'Feedback ', plain_text)\n",
        "        plain_text = re.sub(r'(\\d{4}-\\d{2}-\\d{2}\\s*){2,}', r'\\1', plain_text)\n",
        "\n",
        "        # Extract other elements\n",
        "        heading_text = heading.get_text(strip=True)\n",
        "        img_alt = [img.get(\"alt\", \"\") for img in section_soup.find_all(\"img\")]\n",
        "        images = [str(img) for img in section_soup.find_all(\"img\")]\n",
        "        tables = [str(tbl) for tbl in section_soup.find_all(\"table\")]\n",
        "        codes = [str(code) for code in section_soup.find_all(\"code\")]\n",
        "\n",
        "        info = {\n",
        "            \"title\": heading_text,\n",
        "            \"tag\": heading.name,\n",
        "            \"text\": plain_text,\n",
        "            \"images\": images,\n",
        "            \"img_alt\": img_alt,\n",
        "            \"tables\": tables,\n",
        "            \"codes\": codes\n",
        "        }\n",
        "        output.append(info)\n",
        "\n",
        "    return output\n"
      ],
      "outputs": [],
      "execution_count": 25,
      "metadata": {
        "gather": {
          "logged": 1750989394633
        }
      }
    },
    {
      "cell_type": "code",
      "source": [
        "sections = scrape_sections(\"https://learn.microsoft.com/en-us/azure/load-balancer/gateway-overview\")\n",
        "# for sec in sections:\n",
        "#     for title, data in sec.items():\n",
        "#         print(title, data[\"tag\"], \"→\", data[\"text\"][:80], \"…\")\n",
        "#         print(\"Images:\", data[\"images\"])\n",
        "#         print(\"Tables:\", data[\"tables\"])\n",
        "#         print(\"Codes:\", data[\"codes\"])\n",
        "#         print(\"Image Alts:\", data[\"img_alt\"])\n",
        "#         print()\n"
      ],
      "outputs": [],
      "execution_count": 26,
      "metadata": {
        "gather": {
          "logged": 1750989394923
        }
      }
    },
    {
      "cell_type": "code",
      "source": [
        "import re\n",
        "\n",
        "paragraph = sections[1][\"text\"]\n",
        "second_sentence_start = sections[2][\"text\"][:20]\n",
        "\n",
        "# Escape special regex characters\n",
        "escaped_sentence_start = re.escape(second_sentence_start)\n",
        "\n",
        "pattern = fr\"^(.*?)(?={escaped_sentence_start}.*?\\.)\"\n",
        "\n",
        "match = re.search(pattern, paragraph)\n",
        "\n",
        "if match:\n",
        "    sections[1][\"text\"] = match.group(1)\n",
        "else:\n",
        "    print(\"No match found.\")\n"
      ],
      "outputs": [],
      "execution_count": 27,
      "metadata": {
        "gather": {
          "logged": 1750989395005
        }
      }
    },
    {
      "cell_type": "code",
      "source": [
        "sections"
      ],
      "outputs": [
        {
          "output_type": "execute_result",
          "execution_count": 28,
          "data": {
            "text/plain": "[{'title': 'Gateway Load Balancer',\n  'tag': 'h1',\n  'text': 'Gateway Load Balancer 2024-08-26 Feedback 2024-08-26 Feedback In this article',\n  'images': [],\n  'img_alt': [],\n  'tables': [],\n  'codes': []},\n {'title': 'In this article',\n  'tag': 'h2',\n  'text': \"In this article Gateway Load Balancer is a SKU of the Azure Load Balancer portfolio catered for high performance and high availability scenarios with third-party Network Virtual Appliances (NVAs). With the capabilities of Gateway Load Balancer, you can easily deploy, scale, and manage NVAs. Chaining a Gateway Load Balancer to your public endpoint only requires one selection. You can insert appliances transparently for different kinds of scenarios such as: Firewalls Advanced packet analytics Intrusion detection and prevention systems Traffic mirroring DDoS protection Custom appliances With Gateway Load Balancer, you can easily add or remove advanced network functionality without extra management overhead. It provides the bump-in-the-wire technology you need to ensure all traffic to and from a public endpoint is first sent to the appliance before your application. In scenarios with NVAs, it's especially important that flows are symmetrical. Gateway Load Balancer maintains flow stickiness to a specific instance in the backend pool along with flow symmetry. As a result, a consistent route to your network virtual appliance is ensured â\\x80\\x93 without further manual configuration. As a result, packets traverse the same network path in both directions and appliances that need this key capability are able to function seamlessly. The health probe listens across all ports and routes traffic to the backend instances using the HA ports rule. Traffic sent to and from Gateway Load Balancer uses the VXLAN protocol. \",\n  'images': ['<img alt=\"Diagram of gateway load balancer\" data-linktype=\"relative-path\" src=\"media/gateway-overview/gateway-load-balancer-diagram.png\"/>'],\n  'img_alt': ['Diagram of gateway load balancer'],\n  'tables': [],\n  'codes': ['<code>Microsoft.Network/loadBalancers/frontendIPConfigurations/join/action</code>']},\n {'title': 'Benefits',\n  'tag': 'h2',\n  'text': 'Benefits Gateway Load Balancer has the following benefits: Gateway Load Balancer has the following benefits: Integrate virtual appliances transparently into the network path. Easily add or remove network virtual appliances in the network path. Scale with ease while managing costs. Improve network virtual appliance availability. Chain applications across tenants and subscriptions Integrate virtual appliances transparently into the network path. Integrate virtual appliances transparently into the network path. Integrate virtual appliances transparently into the network path. Easily add or remove network virtual appliances in the network path. Easily add or remove network virtual appliances in the network path. Easily add or remove network virtual appliances in the network path. Scale with ease while managing costs. Scale with ease while managing costs. Scale with ease while managing costs. Improve network virtual appliance availability. Improve network virtual appliance availability. Improve network virtual appliance availability. Chain applications across tenants and subscriptions Chain applications across tenants and subscriptions Chain applications across tenants and subscriptions',\n  'images': [],\n  'img_alt': [],\n  'tables': [],\n  'codes': []},\n {'title': 'Configuration and supported scenarios',\n  'tag': 'h2',\n  'text': 'Configuration and supported scenarios A Standard Public Load Balancer or a Standard IP configuration of a virtual machine can be chained to a Gateway Load Balancer. \"Chaining\" refers to the load balancer frontend or NIC IP configuration containing a reference to a Gateway Load Balancer frontend IP configuration. Once the Gateway Load Balancer is chained to a consumer resource, no additional configuration such as UDRs is needed to ensure traffic to and from the application endpoint is sent to the Gateway Load Balancer. A Standard Public Load Balancer or a Standard IP configuration of a virtual machine can be chained to a Gateway Load Balancer. \"Chaining\" refers to the load balancer frontend or NIC IP configuration containing a reference to a Gateway Load Balancer frontend IP configuration. Once the Gateway Load Balancer is chained to a consumer resource, no additional configuration such as UDRs is needed to ensure traffic to and from the application endpoint is sent to the Gateway Load Balancer. Gateway Load Balancer supports both inbound and outbound traffic inspection. For inserting NVAs in the path of outbound traffic with Standard Load Balancer, Gateway Load Balancer must be chained to the frontend IP configurations selected in the configured outbound rules. Gateway Load Balancer supports both inbound and outbound traffic inspection. For inserting NVAs in the path of outbound traffic with Standard Load Balancer, Gateway Load Balancer must be chained to the frontend IP configurations selected in the configured outbound rules. Note Configuring a Gateway Load Balancer\\'s frontend IP as the next hop in user-defined routes (UDRs) is not supported. Gateway Load Balancer resources must be chained/referenced by a supported consumer resource such as a Standard Public Load Balancer or Standard NIC IP configuration. Note Note Configuring a Gateway Load Balancer\\'s frontend IP as the next hop in user-defined routes (UDRs) is not supported. Gateway Load Balancer resources must be chained/referenced by a supported consumer resource such as a Standard Public Load Balancer or Standard NIC IP configuration. Configuring a Gateway Load Balancer\\'s frontend IP as the next hop in user-defined routes (UDRs) is not supported. Gateway Load Balancer resources must be chained/referenced by a supported consumer resource such as a Standard Public Load Balancer or Standard NIC IP configuration.',\n  'images': [],\n  'img_alt': [],\n  'tables': [],\n  'codes': []},\n {'title': 'Data path diagram',\n  'tag': 'h2',\n  'text': 'Data path diagram With Gateway Load Balancer, traffic intended for the consumer application through a Standard Load Balancer will be encapsulated with VXLAN headers and forwarded first to the Gateway Load Balancer and its configured NVAs in the backend pool. The traffic then returns to the consumer resource (in this case a Standard Load Balancer) and arrives at the consumer application virtual machines with its source IP preserved. The consumer virtual network and provider virtual network can be in different subscriptions or tenants, reducing management overhead. With Gateway Load Balancer, traffic intended for the consumer application through a Standard Load Balancer will be encapsulated with VXLAN headers and forwarded first to the Gateway Load Balancer and its configured NVAs in the backend pool. The traffic then returns to the consumer resource (in this case a Standard Load Balancer) and arrives at the consumer application virtual machines with its source IP preserved. The consumer virtual network and provider virtual network can be in different subscriptions or tenants, reducing management overhead. Figure: Diagram of gateway load balancer. Figure: Diagram of gateway load balancer. Figure: Diagram of gateway load balancer.',\n  'images': ['<img alt=\"Diagram of gateway load balancer\" data-linktype=\"relative-path\" src=\"media/gateway-overview/gateway-load-balancer-diagram.png\"/>',\n   '<img alt=\"Diagram of gateway load balancer\" data-linktype=\"relative-path\" src=\"media/gateway-overview/gateway-load-balancer-diagram.png\"/>',\n   '<img alt=\"Diagram of gateway load balancer\" data-linktype=\"relative-path\" src=\"media/gateway-overview/gateway-load-balancer-diagram.png\"/>'],\n  'img_alt': ['Diagram of gateway load balancer',\n   'Diagram of gateway load balancer',\n   'Diagram of gateway load balancer'],\n  'tables': [],\n  'codes': []},\n {'title': 'Components',\n  'tag': 'h2',\n  'text': 'Components Gateway Load Balancer consists of the following components: Gateway Load Balancer consists of the following components: Frontend IP configuration - The IP address of your Gateway Load Balancer. This IP is private only. Load-balancing rules - A load balancer rule is used to define how incoming traffic is distributed toâ\\x80¯allâ\\x80¯the instances within the backend pool. A load-balancing rule maps a given frontend IP configuration and port to multiple backend IP addresses and ports. Gateway Load Balancer rules can only be HA port rules. A Gateway Load Balancer rule can be associated with up to two backend pools. Backend pool(s) - The group of virtual machines or instances in a Virtual Machine Scale Set that is serving the incoming request. To scale cost-effectively to meet high volumes of incoming traffic, computing guidelines generally recommend adding more instances to the backend pool. Load Balancer instantly reconfigures itself via automatic reconfiguration when you scale instances up or down. Adding or removing VMs from the backend pool reconfigures the load balancer without extra operations. The scope of the backend pool is any virtual machine in a single virtual network. Tunnel interfaces - Gateway Load balancer backend pools have another component called the tunnel interfaces. The tunnel interface enables the appliances in the backend to ensure network flows are handled as expected. Each backend pool can have up to two tunnel interfaces. Tunnel interfaces can be either internal or external. For traffic coming to your backend pool, you should use the external type. For traffic going from your appliance to the application, you should use the internal type. Chain - A Gateway Load Balancer can be referenced by a Standard Public Load Balancer frontend or a Standard Public IP configuration on a virtual machine. The addition of advanced networking capabilities in a specific sequence is known as service chaining. As a result, this reference is called a chain. A Cross tenant chain involves chaining a Load Balancer frontend or Public IP configuration to a Gateway Load Balancer that is in another subscription. For cross tenant chaining, users need: Permission for the resource provider operation Microsoft.Network/loadBalancers/frontendIPConfigurations/join/action . Guest access to the subscription of the Gateway Load Balancer. Frontend IP configuration - The IP address of your Gateway Load Balancer. This IP is private only. Frontend IP configuration - The IP address of your Gateway Load Balancer. This IP is private only. Frontend IP configuration Frontend IP configuration - The IP address of your Gateway Load Balancer. This IP is private only. Load-balancing rules - A load balancer rule is used to define how incoming traffic is distributed toâ\\x80¯allâ\\x80¯the instances within the backend pool. A load-balancing rule maps a given frontend IP configuration and port to multiple backend IP addresses and ports. Gateway Load Balancer rules can only be HA port rules. A Gateway Load Balancer rule can be associated with up to two backend pools. Load-balancing rules - A load balancer rule is used to define how incoming traffic is distributed toâ\\x80¯allâ\\x80¯the instances within the backend pool. A load-balancing rule maps a given frontend IP configuration and port to multiple backend IP addresses and ports. Load-balancing rules Load-balancing rules - A load balancer rule is used to define how incoming traffic is distributed toâ\\x80¯allâ\\x80¯the instances within the backend pool. A load-balancing rule maps a given frontend IP configuration and port to multiple backend IP addresses and ports. Gateway Load Balancer rules can only be HA port rules. A Gateway Load Balancer rule can be associated with up to two backend pools. Gateway Load Balancer rules can only be HA port rules. Gateway Load Balancer rules can only be HA port rules. Gateway Load Balancer rules can only be HA port rules. A Gateway Load Balancer rule can be associated with up to two backend pools. A Gateway Load Balancer rule can be associated with up to two backend pools. A Gateway Load Balancer rule can be associated with up to two backend pools. Backend pool(s) - The group of virtual machines or instances in a Virtual Machine Scale Set that is serving the incoming request. To scale cost-effectively to meet high volumes of incoming traffic, computing guidelines generally recommend adding more instances to the backend pool. Load Balancer instantly reconfigures itself via automatic reconfiguration when you scale instances up or down. Adding or removing VMs from the backend pool reconfigures the load balancer without extra operations. The scope of the backend pool is any virtual machine in a single virtual network. Backend pool(s) - The group of virtual machines or instances in a Virtual Machine Scale Set that is serving the incoming request. To scale cost-effectively to meet high volumes of incoming traffic, computing guidelines generally recommend adding more instances to the backend pool. Load Balancer instantly reconfigures itself via automatic reconfiguration when you scale instances up or down. Adding or removing VMs from the backend pool reconfigures the load balancer without extra operations. The scope of the backend pool is any virtual machine in a single virtual network. Backend pool(s) Backend pool(s) - The group of virtual machines or instances in a Virtual Machine Scale Set that is serving the incoming request. To scale cost-effectively to meet high volumes of incoming traffic, computing guidelines generally recommend adding more instances to the backend pool. Load Balancer instantly reconfigures itself via automatic reconfiguration when you scale instances up or down. Adding or removing VMs from the backend pool reconfigures the load balancer without extra operations. The scope of the backend pool is any virtual machine in a single virtual network. Tunnel interfaces - Gateway Load balancer backend pools have another component called the tunnel interfaces. The tunnel interface enables the appliances in the backend to ensure network flows are handled as expected. Each backend pool can have up to two tunnel interfaces. Tunnel interfaces can be either internal or external. For traffic coming to your backend pool, you should use the external type. For traffic going from your appliance to the application, you should use the internal type. Tunnel interfaces - Gateway Load balancer backend pools have another component called the tunnel interfaces. The tunnel interface enables the appliances in the backend to ensure network flows are handled as expected. Each backend pool can have up to two tunnel interfaces. Tunnel interfaces can be either internal or external. For traffic coming to your backend pool, you should use the external type. For traffic going from your appliance to the application, you should use the internal type. Tunnel interfaces Tunnel interfaces - Gateway Load balancer backend pools have another component called the tunnel interfaces. The tunnel interface enables the appliances in the backend to ensure network flows are handled as expected. Each backend pool can have up to two tunnel interfaces. Tunnel interfaces can be either internal or external. For traffic coming to your backend pool, you should use the external type. For traffic going from your appliance to the application, you should use the internal type. Chain - A Gateway Load Balancer can be referenced by a Standard Public Load Balancer frontend or a Standard Public IP configuration on a virtual machine. The addition of advanced networking capabilities in a specific sequence is known as service chaining. As a result, this reference is called a chain. A Cross tenant chain involves chaining a Load Balancer frontend or Public IP configuration to a Gateway Load Balancer that is in another subscription. For cross tenant chaining, users need: Permission for the resource provider operation Microsoft.Network/loadBalancers/frontendIPConfigurations/join/action . Guest access to the subscription of the Gateway Load Balancer. Chain - A Gateway Load Balancer can be referenced by a Standard Public Load Balancer frontend or a Standard Public IP configuration on a virtual machine. The addition of advanced networking capabilities in a specific sequence is known as service chaining. As a result, this reference is called a chain. A Cross tenant chain involves chaining a Load Balancer frontend or Public IP configuration to a Gateway Load Balancer that is in another subscription. For cross tenant chaining, users need: Chain Chain - A Gateway Load Balancer can be referenced by a Standard Public Load Balancer frontend or a Standard Public IP configuration on a virtual machine. The addition of advanced networking capabilities in a specific sequence is known as service chaining. As a result, this reference is called a chain. A Cross tenant chain involves chaining a Load Balancer frontend or Public IP configuration to a Gateway Load Balancer that is in another subscription. For cross tenant chaining, users need: Permission for the resource provider operation Microsoft.Network/loadBalancers/frontendIPConfigurations/join/action . Guest access to the subscription of the Gateway Load Balancer. Permission for the resource provider operation Microsoft.Network/loadBalancers/frontendIPConfigurations/join/action . Permission for the resource provider operation Microsoft.Network/loadBalancers/frontendIPConfigurations/join/action Microsoft.Network/loadBalancers/frontendIPConfigurations/join/action. Guest access to the subscription of the Gateway Load Balancer. Guest access to the subscription of the Gateway Load Balancer.',\n  'images': [],\n  'img_alt': [],\n  'tables': [],\n  'codes': ['<code>Microsoft.Network/loadBalancers/frontendIPConfigurations/join/action</code>',\n   '<code>Microsoft.Network/loadBalancers/frontendIPConfigurations/join/action</code>',\n   '<code>Microsoft.Network/loadBalancers/frontendIPConfigurations/join/action</code>',\n   '<code>Microsoft.Network/loadBalancers/frontendIPConfigurations/join/action</code>',\n   '<code>Microsoft.Network/loadBalancers/frontendIPConfigurations/join/action</code>']},\n {'title': 'Pricing',\n  'tag': 'h2',\n  'text': 'Pricing For pricing, see Load Balancer pricing . For pricing, see Load Balancer pricing Load Balancer pricing.',\n  'images': [],\n  'img_alt': [],\n  'tables': [],\n  'codes': []},\n {'title': 'Limitations',\n  'tag': 'h2',\n  'text': \"Limitations Gateway Load Balancer doesn't work with the Global Load Balancer tier. Cross-tenant chaining isn't supported through the Azure portal. Gateway Load Balancer doesn't work with the Global Load Balancer tier. Gateway Load Balancer doesn't work with the Global Load Balancer tier. Cross-tenant chaining isn't supported through the Azure portal. Cross-tenant chaining isn't supported through the Azure portal.\",\n  'images': [],\n  'img_alt': [],\n  'tables': [],\n  'codes': []},\n {'title': 'Next steps',\n  'tag': 'h2',\n  'text': 'Next steps See Create a Gateway Load Balancer using the Azure portal to create a gateway load balancer. Learn how to use Gateway Load Balancer for outbound connectivity scenarios . Learn more about Azure Load Balancer . See Create a Gateway Load Balancer using the Azure portal to create a gateway load balancer. See Create a Gateway Load Balancer using the Azure portal Create a Gateway Load Balancer using the Azure portal to create a gateway load balancer. Learn how to use Gateway Load Balancer for outbound connectivity scenarios . Learn how to use Gateway Load Balancer for outbound connectivity scenarios Gateway Load Balancer for outbound connectivity scenarios. Learn more about Azure Load Balancer . Learn more about Azure Load Balancer Azure Load Balancer. feedback section Feedback Was this page helpful? Yes No Provide product feedback | Get help at Microsoft Q&A',\n  'images': [],\n  'img_alt': [],\n  'tables': [],\n  'codes': []},\n {'title': 'Feedback',\n  'tag': 'h2',\n  'text': 'Feedback Was this page helpful? Yes No Was this page helpful? Was this page helpful? Yes No Yes Yes Yes No No No Provide product feedback | Get help at Microsoft Q&A Provide product feedback Provide product feedback Provide product feedback | | Get help at Microsoft Q&A Get help at Microsoft Q&A Get help at Microsoft Q&A end feedback section Additional resources',\n  'images': [],\n  'img_alt': [],\n  'tables': [],\n  'codes': []},\n {'title': 'Additional resources',\n  'tag': 'h2',\n  'text': 'Additional resources In this article Additional resources In this article Additional resources In this article Additional resources In this article In this article In this article Additional resources Additional resources Additional resources en-us Your Privacy Choices Theme Light Dark High contrast Previous Versions Blog Contribute Privacy Terms of Use Trademarks © Microsoft 2025 en-us Your Privacy Choices Theme Light Dark High contrast Previous Versions Blog Contribute Privacy Terms of Use Trademarks © Microsoft 2025 en-us Your Privacy Choices Theme Light Dark High contrast en-us en-us en-us Your Privacy Choices Your Privacy Choices Your Privacy Choices Your Privacy Choices Theme Light Dark High contrast Theme Light Dark High contrast Theme Theme Theme Light Dark High contrast Light Dark High contrast Light Light Light Light Dark Dark Dark Dark High contrast High contrast High contrast High contrast Previous Versions Blog Contribute Privacy Terms of Use Trademarks © Microsoft 2025 Previous Versions Previous Versions Previous Versions Blog Blog Blog Contribute Contribute Contribute Privacy Privacy Privacy Terms of Use Terms of Use Terms of Use Trademarks Trademarks Trademarks © Microsoft 2025 © Microsoft 2025',\n  'images': [],\n  'img_alt': [],\n  'tables': [],\n  'codes': []}]"
          },
          "metadata": {}
        }
      ],
      "execution_count": 28,
      "metadata": {
        "gather": {
          "logged": 1750989399299
        }
      }
    },
    {
      "cell_type": "code",
      "source": [
        "#First determine the field/topic and difficult terms\n",
        "\n",
        "# Then pass into the summarization llm. If intermediate, then assume user is professional in the field\n",
        "# or topic, but don't know about this particualr project. If begginer, then unfamilier with field\n",
        "# in general. For both cases, we tell it to determine if the user's background would allow them to know\n",
        "# each difficult term, and define it if they wouldn't know. Of course have it summarize everything too"
      ],
      "outputs": [],
      "execution_count": 7,
      "metadata": {
        "gather": {
          "logged": 1750987955344
        }
      }
    },
    {
      "cell_type": "code",
      "source": [
        "#Then pass all of that into the judge along with the original chunk and the entire page's content \n",
        "# (from all chunks). For each of the following, have a single iteration to check if it fulfills that \n",
        "# requirement. If not, refine. Then return after all iterations\n",
        "\n",
        "#Requirements: No hallucinations, didn't leave any necessary information out. No irrelevent info. Did it lose the meaning\n"
      ],
      "outputs": [],
      "execution_count": 8,
      "metadata": {
        "gather": {
          "logged": 1750987955417
        }
      }
    },
    {
      "cell_type": "code",
      "source": [
        "full_webpage_text = \"\\n\\n\".join([\n",
        "        f\"{section['title']}\\n{section['text']}\"\n",
        "        for section in sections\n",
        "    ])"
      ],
      "outputs": [],
      "execution_count": 9,
      "metadata": {
        "gather": {
          "logged": 1750987955494
        }
      }
    },
    {
      "cell_type": "code",
      "source": [
        "difficulty_detection_prompt = \"\"\"You are a 'difficultly detection' LLm. You are a component of a larger process designed to simplifiy texts. \n",
        "\n",
        "## Context\n",
        "### The first LLM of this process is to identify the topic as well as difficult terms and the purpose of the document, the next LLM revises the text based on the user's expertise in the field to make it more comprehensible and easier to read, and the last LLM iteratively improves on the summarization to ensure certain quality requirements are met. \n",
        "\n",
        "**You are the first step in this process, and so your job is to identify the topic and the difficult terms and the overall purpose of the document.**\n",
        "\n",
        "## Instructions\n",
        " - You will be provided two bits of information: The full webpage text where the chunk comes from, and the specific text chunk that will later be summarized.\n",
        "\n",
        " - You may also be given the alternate text for images or tables if those were present in the section chunk. If those are empty, assume there were no images or tables.\n",
        "\n",
        " - **Generate the difficult terms from the text chink. If the tables or alternate image text are available, consider them as part of the text chunk, and use them for listing the difficult terms as well**\n",
        "\n",
        " - **Use the full webpage text to detemine the topic. DO NOT USE IT FOR THE DIFFICULT TERMS LIST. Also use the full webpage text to determine the purpose of the text.**\n",
        "\n",
        " - Format your response as a valid JSON string, where strings are wrapped in double quotes, using backslash escapes.\n",
        "\n",
        "**Structure your response according to the following template: {{\"topic\" : \"__topic__\", \"purpose_of_document\" : \"__purpose__\", \"difficult_terms\" : []}}**\n",
        "\n",
        "The topic and purpose must be returned as strings, and the difficult terms must be a list of just the terms. Do not include any other information.\n",
        "\n",
        "\"\"\""
      ],
      "outputs": [],
      "execution_count": 10,
      "metadata": {
        "gather": {
          "logged": 1750987955561
        }
      }
    },
    {
      "cell_type": "code",
      "source": [
        "for section in sections:\n",
        "    specific_text = section[\"text\"]\n",
        "    tables = section[\"tables\"]\n",
        "    image_alt_text = section[\"img_alt\"]\n",
        "\n",
        "    response = llm.chat.completions.create(\n",
        "    model= deployment_name,\n",
        "    messages=[\n",
        "        {\n",
        "        \"role\":\"system\",\n",
        "        \"content\": difficulty_detection_prompt\n",
        "        },\n",
        "        {\n",
        "        \"role\":\"user\",\n",
        "        \"content\": f\"## Full Webpage Text\\n{full_webpage_text}\\n## Specific Text\\n{specific_text}\\n## Tables\\n{tables}\\n## Image Alt Texts\\n{image_alt_text}\\n\"\n",
        "        }\n",
        "    ],\n",
        "    max_tokens=4096\n",
        "    )\n",
        "\n",
        "    response_content = response.choices[0].message.content\n",
        "\n",
        "    pattern = r'\\{(?:[^{}]|(?:\\\\{[^{}]*\\\\}))*\\}'\n",
        "    cleaned_response = re.findall(pattern, response_content)[0]\n",
        "\n",
        "    cleaned_response_json = json.loads(cleaned_response)\n",
        "\n",
        "    section[\"topic_difficult_terms\"] = cleaned_response_json\n"
      ],
      "outputs": [],
      "execution_count": 11,
      "metadata": {
        "gather": {
          "logged": 1750987971623
        }
      }
    },
    {
      "cell_type": "code",
      "source": [
        "def intermediate_rewrite(sections):\n",
        "    \n",
        "    token = DefaultAzureCredential().get_token(\"https://cognitiveservices.azure.com/.default\").token\n",
        "    \n",
        "    endpoint = \"https://aoai-l-eastus2.openai.azure.com/\"\n",
        "    model_name = \"gpt-4.1\"\n",
        "    deployment_name = \"gpt-4.1\"\n",
        "    api_version = \"2024-12-01-preview\"\n",
        "    \n",
        "    llm = AzureOpenAI(\n",
        "        api_version=api_version,\n",
        "        azure_endpoint=endpoint,\n",
        "        api_key=token,\n",
        "    )\n",
        "\n",
        "\n",
        "    system_prompt = \"\"\"\n",
        "    You are a content revision and teaching assistant. You are a component of a larger process designed to simplify complicated documentations.\n",
        "\n",
        "    ## Context\n",
        "    You are given a section of a technical documentation and the content of the whole page for context. Your task is to simplify the content of that section only, making it easier to understand for a user who is a professional or student in the field, but not familiar with this particular topic.\n",
        "\n",
        "    ## Instructions\n",
        "    - **You need to re-write the content given in 'text' only**\n",
        "    - You have access to the section title ('title'), text content ('text'), image alt ('image_alt') texts of the images within the section, the main topic of the page ('topic'), the purpose of the document (purpose_of_document), the difficult terms in the document (difficult_terms).\n",
        "    - Use simple language and short sentences.\n",
        "    - Do not add any new information and do not omit any existing information, except the CODE. **OMIT ALL CODE** \\\n",
        "    - Analyse the purpose of the document in \"purpose_of_document\" to decide if you need to explain the difficult terms given in \"difficult_terms\" appearing within that section, for example if it is an instructional document, don't explain the difficult terms; if it's a tutorial, explain a bit depending on the professional/student's potential knowledge.\n",
        "    - Assume that after the revised section content, the ORIGINAL code, then the images, then the original tables will be displayed, in that order. **Integrate ONLY the references and explanations to them in the revised content, RETURN ONLY PLAIN TEXT CONTENT.**\n",
        "    - If 'text' is empty, return empty string.\n",
        "\n",
        "    - **Return just the revised section content AS PLAIN TEXT, without any additional text or explanations.**\n",
        "    \"\"\"\n",
        "\n",
        "    for section in sections:\n",
        "        # 1) Build a structured payload\n",
        "        payload = {\n",
        "            \"title\": section[\"title\"],\n",
        "            \"text\": section['text'],\n",
        "            \"img_alt\": section[\"img_alt\"],\n",
        "            \"topic\": section[\"topic_difficult_terms\"][\"topic\"],\n",
        "            \"purpose_of_document\": section[\"topic_difficult_terms\"][\"purpose_of_document\"],\n",
        "            \"difficult_terms\": section[\"topic_difficult_terms\"][\"difficult_terms\"],\n",
        "        }\n",
        "\n",
        "        # 2) Serialize to JSON\n",
        "        user_content = json.dumps(payload)\n",
        "\n",
        "        # 3) Send to the LLM\n",
        "        response = llm.chat.completions.create(\n",
        "            model=deployment_name,\n",
        "            messages=[\n",
        "                {\"role\": \"system\", \"content\": system_prompt},\n",
        "                {\"role\": \"user\",   \"content\": user_content}\n",
        "            ],\n",
        "            max_tokens=4096,\n",
        "            temperature=1.0,\n",
        "            top_p=1.0,\n",
        "        )\n",
        "\n",
        "\n",
        "        section['intermediate_level_text'] = response.choices[0].message.content"
      ],
      "outputs": [],
      "execution_count": 12,
      "metadata": {
        "gather": {
          "logged": 1750987971710
        }
      }
    },
    {
      "cell_type": "code",
      "source": [
        "intermediate_rewrite(sections)"
      ],
      "outputs": [],
      "execution_count": 13,
      "metadata": {
        "gather": {
          "logged": 1750987985930
        }
      }
    },
    {
      "cell_type": "code",
      "source": [
        "def beginner_rewrite(sections):\n",
        "    \n",
        "    token = DefaultAzureCredential().get_token(\"https://cognitiveservices.azure.com/.default\").token\n",
        "    \n",
        "    endpoint = \"https://aoai-l-eastus2.openai.azure.com/\"\n",
        "    model_name = \"gpt-4.1\"\n",
        "    deployment_name = \"gpt-4.1\"\n",
        "    api_version = \"2024-12-01-preview\"\n",
        "    \n",
        "    llm = AzureOpenAI(\n",
        "        api_version=api_version,\n",
        "        azure_endpoint=endpoint,\n",
        "        api_key=token,\n",
        "    )\n",
        "\n",
        "\n",
        "    system_prompt = \"\"\"\n",
        "    You are a content revision and teaching assistant. You are a component of a larger process designed to simplify complicated documentations.\n",
        "\n",
        "    ## Context\n",
        "    You are given a section of a technical documentation and the content of the whole page for context. Your task is to simplify the content of that section only, making it so simple and easy to understand that even a user who is **Zero knowledge** of the field, **No familiarity** with the topic.\n",
        "\n",
        "    ## Instructions\n",
        "    - **You need to re-write the content given in 'text' only**\n",
        "    - You have access to the section title ('title'), text content ('text'), image alt ('image_alt') texts of the images within the section, the main topic of the page ('topic'), the purpose of the document ('purpose_of_document'), the difficult terms in the document ('difficult_terms').\n",
        "    - Use extremely simple language, examples and short sentences, fit for anyone with basic education to understand.\n",
        "    - Do not add any new information and do not omit any existing information, except the CODE. **OMIT ALL CODE FROM TEXT** \\\n",
        "    - Analyse the purpose of the document in \"purpose_of_document\" and explain the difficult terms given in \"difficult_terms\" appearing within that section keeping the purpose in mind.\n",
        "    - Assume that after the revised section content, the ORIGINAL code, then the images, then the original tables will be displayed, in that order. **Integrate ONLY the references and explanations to them in the revised content, RETURN ONLY PLAIN TEXT CONTENT.**\n",
        "    - If 'text' is empty, return empty string.\n",
        "\n",
        "    - **Return just the revised section content AS PLAIN TEXT, without any additional text or explanations.**\n",
        "    \"\"\"\n",
        "\n",
        "    for section in sections:\n",
        "        # 1) Build a structured payload\n",
        "        payload = {\n",
        "            \"title\": section[\"title\"],\n",
        "            \"text\": section['text'],\n",
        "            \"img_alt\": section[\"img_alt\"],\n",
        "            \"topic\": section[\"topic_difficult_terms\"][\"topic\"],\n",
        "            \"purpose_of_document\": section[\"topic_difficult_terms\"][\"purpose_of_document\"],\n",
        "            \"difficult_terms\": section[\"topic_difficult_terms\"][\"difficult_terms\"],\n",
        "        }\n",
        "\n",
        "        # 2) Serialize to JSON\n",
        "        user_content = json.dumps(payload)\n",
        "\n",
        "        # 3) Send to the LLM\n",
        "        response = llm.chat.completions.create(\n",
        "            model=deployment_name,\n",
        "            messages=[\n",
        "                {\"role\": \"system\", \"content\": system_prompt},\n",
        "                {\"role\": \"user\",   \"content\": user_content}\n",
        "            ],\n",
        "            max_tokens=4096,\n",
        "            temperature=1.0,\n",
        "            top_p=1.0,\n",
        "        )\n",
        "\n",
        "\n",
        "        section['beginner_level_text'] = response.choices[0].message.content"
      ],
      "outputs": [],
      "execution_count": 14,
      "metadata": {
        "gather": {
          "logged": 1750987986015
        }
      }
    },
    {
      "cell_type": "code",
      "source": [
        "beginner_rewrite(sections)"
      ],
      "outputs": [],
      "execution_count": 15,
      "metadata": {
        "gather": {
          "logged": 1750988014739
        }
      }
    },
    {
      "cell_type": "code",
      "source": [
        "sections"
      ],
      "outputs": [
        {
          "output_type": "execute_result",
          "execution_count": 16,
          "data": {
            "text/plain": "[{'title': 'Gateway Load Balancer',\n  'tag': 'h1',\n  'text': 'Gateway Load Balancer 2024-08-26 Feedback 2024-08-26 Feedback In this article',\n  'images': [],\n  'img_alt': [],\n  'tables': [],\n  'codes': [],\n  'topic_difficult_terms': {'topic': 'Azure Gateway Load Balancer',\n   'purpose_of_document': 'To explain the features, components, configuration, scenarios, limitations, and use cases of the Azure Gateway Load Balancer for integrating Network Virtual Appliances and managing network traffic.',\n   'difficult_terms': []},\n  'intermediate_level_text': 'Gateway Load Balancer\\n\\nThis article is about the Azure Gateway Load Balancer.',\n  'beginner_level_text': 'Gateway Load Balancer\\n\\nThis article talks about Gateway Load Balancer. It includes information about what it is, what it can do, its parts, how to set it up, where it can be used, and some things it cannot do. It also gives real-life examples of how you can use it. This tool helps connect other network devices and manage how data moves through your network.'},\n {'title': 'In this article',\n  'tag': 'h2',\n  'text': \"In this article Gateway Load Balancer is a SKU of the Azure Load Balancer portfolio catered for high performance and high availability scenarios with third-party Network Virtual Appliances (NVAs). With the capabilities of Gateway Load Balancer, you can easily deploy, scale, and manage NVAs. Chaining a Gateway Load Balancer to your public endpoint only requires one selection. You can insert appliances transparently for different kinds of scenarios such as: Firewalls Advanced packet analytics Intrusion detection and prevention systems Traffic mirroring DDoS protection Custom appliances With Gateway Load Balancer, you can easily add or remove advanced network functionality without extra management overhead. It provides the bump-in-the-wire technology you need to ensure all traffic to and from a public endpoint is first sent to the appliance before your application. In scenarios with NVAs, it's especially important that flows are symmetrical. Gateway Load Balancer maintains flow stickiness to a specific instance in the backend pool along with flow symmetry. As a result, a consistent route to your network virtual appliance is ensured â\\x80\\x93 without further manual configuration. As a result, packets traverse the same network path in both directions and appliances that need this key capability are able to function seamlessly. The health probe listens across all ports and routes traffic to the backend instances using the HA ports rule. Traffic sent to and from Gateway Load Balancer uses the VXLAN protocol. \",\n  'images': ['<img alt=\"Diagram of gateway load balancer\" data-linktype=\"relative-path\" src=\"media/gateway-overview/gateway-load-balancer-diagram.png\"/>'],\n  'img_alt': ['Diagram of gateway load balancer'],\n  'tables': [],\n  'codes': ['<code>Microsoft.Network/loadBalancers/frontendIPConfigurations/join/action</code>'],\n  'topic_difficult_terms': {'topic': 'Azure Gateway Load Balancer',\n   'purpose_of_document': 'To explain what the Azure Gateway Load Balancer is, its use cases, how it integrates with network virtual appliances, and the benefits and capabilities it provides for high performance and high availability networking scenarios.',\n   'difficult_terms': ['SKU',\n    'Azure Load Balancer',\n    'Network Virtual Appliances (NVAs)',\n    'Chaining',\n    'Firewalls',\n    'Advanced packet analytics',\n    'Intrusion detection and prevention systems',\n    'Traffic mirroring',\n    'DDoS protection',\n    'Bump-in-the-wire technology',\n    'Flows are symmetrical',\n    'Flow stickiness',\n    'Backend pool',\n    'Flow symmetry',\n    'Health probe',\n    'HA ports rule',\n    'VXLAN protocol']},\n  'intermediate_level_text': \"In this article, Gateway Load Balancer is introduced as a type (SKU) of Azure Load Balancer designed for high performance and high availability when using third-party Network Virtual Appliances (NVAs). With Gateway Load Balancer, you can quickly deploy, scale, and manage NVAs. You only need to make one selection to add a Gateway Load Balancer to your public endpoint.\\n\\nYou can use Gateway Load Balancer to insert network appliances like firewalls, tools for analyzing network traffic, systems that detect and prevent attacks, tools for copying (mirroring) traffic, DDoS protection, and custom appliances. This can be done without adding extra work for managing the network. Gateway Load Balancer uses a method called bump-in-the-wire. This means all traffic to and from a public endpoint is sent through the NVA before reaching your application.\\n\\nIt's important for traffic to flow in both directions using the same path, especially when using NVAs. Gateway Load Balancer makes sure that connections (flows) always go to the same server (instance) in the backend pool and that the way traffic flows is kept the same in both directions. This way, network appliances that rely on this behavior work without needing extra setup.\\n\\nGateway Load Balancer uses a health probe that checks all ports and routes traffic to the backend using the HA ports rule. The VXLAN protocol is used for sending traffic to and from the Gateway Load Balancer.\\n\\nYou can see a diagram of Gateway Load Balancer in the image below.\",\n  'beginner_level_text': 'This article is about the Gateway Load Balancer, which is a special type of tool from Azure that helps manage network traffic. It is useful for high-speed and always-available situations and works well with other network tools called Network Virtual Appliances (NVAs). \\n\\nNVAs are software tools that help control and protect your network, like virtual firewalls or traffic monitors.\\n\\nWith Gateway Load Balancer, you can set up, grow, and control these network tools easily. If you want to connect a Gateway Load Balancer to your public website or app, you just make one simple choice. This makes it easy to add tools that do things like: block dangerous traffic (firewalls), study traffic in detail (advanced packet analytics), protect against hackers (intrusion detection and prevention), copy traffic for checking (traffic mirroring), guard against attacks that overload your service (DDoS protection), or use custom tools you build yourself.\\n\\nYou can add or remove these tools whenever you want, and it does not make your network harder to manage. The Gateway Load Balancer uses a method called \"bump-in-the-wire,\" which means all the traffic to and from your app goes through your security tool first.\\n\\nIt is important that traffic flows in and out in the same way (\"flows are symmetrical\") for everything to work well. The Gateway Load Balancer sends each user\\'s traffic always through the same network tool (\"flow stickiness\"), making sure both incoming and outgoing traffic take the same path (\"flow symmetry\"). This keeps things running smoothly, without you needing to set it up each time.\\n\\nTo check if everything is working, a system (\"health probe\") watches all the network “doors” (ports) and manages traffic using an easy rule. The Gateway Load Balancer uses a way of sending information called VXLAN protocol, which lets the network tools talk to each other.\\n\\n[Look at the diagram of the gateway load balancer for a simple picture of how this works.]'},\n {'title': 'Benefits',\n  'tag': 'h2',\n  'text': 'Benefits Gateway Load Balancer has the following benefits: Gateway Load Balancer has the following benefits: Integrate virtual appliances transparently into the network path. Easily add or remove network virtual appliances in the network path. Scale with ease while managing costs. Improve network virtual appliance availability. Chain applications across tenants and subscriptions Integrate virtual appliances transparently into the network path. Integrate virtual appliances transparently into the network path. Integrate virtual appliances transparently into the network path. Easily add or remove network virtual appliances in the network path. Easily add or remove network virtual appliances in the network path. Easily add or remove network virtual appliances in the network path. Scale with ease while managing costs. Scale with ease while managing costs. Scale with ease while managing costs. Improve network virtual appliance availability. Improve network virtual appliance availability. Improve network virtual appliance availability. Chain applications across tenants and subscriptions Chain applications across tenants and subscriptions Chain applications across tenants and subscriptions',\n  'images': [],\n  'img_alt': [],\n  'tables': [],\n  'codes': [],\n  'topic_difficult_terms': {'topic': 'Azure Gateway Load Balancer overview and functionality',\n   'purpose_of_document': 'To explain what the Gateway Load Balancer is, its features, benefits, supported scenarios, limitations, pricing, and configuration options within the Azure cloud platform.',\n   'difficult_terms': ['virtual appliances',\n    'network path',\n    'network virtual appliances',\n    'availability',\n    'scale',\n    'tenants',\n    'subscriptions']},\n  'intermediate_level_text': 'Gateway Load Balancer offers several benefits:\\n\\n- It lets you add virtual appliances (such as firewalls or monitoring tools) into your network without changing your existing network setup.\\n- You can easily add or remove these network virtual appliances as needed.\\n- The service helps you scale up or down while keeping costs under control.\\n- It makes your network virtual appliances more reliable and keeps them available.\\n- You can connect applications and services across different Azure tenants and subscriptions.',\n  'beginner_level_text': \"Here are the main benefits of using Gateway Load Balancer:\\n\\n- You can add security or monitoring tools (called virtual appliances) into your network without any complicated setup. These tools can work in the background, and users won't even notice they are there.\\n- You can easily add or remove these virtual appliances whenever you want, without disturbing your network.\\n- You can make your network grow or shrink easily (this is called scaling), and you can manage your money at the same time, so you do not spend more than needed.\\n- Your network tools (virtual appliances) will work more reliably, so your network is available and running most of the time.\\n- You can let different users or groups (called tenants) and different account types (called subscriptions) use applications together in a connected way. \\n\\nExplanation of difficult terms:\\n- Virtual appliances: These are software tools that help protect or manage your network.\\n- Network path: This is the route that data travels along in your network.\\n- Network virtual appliances: These are tools (virtual appliances) that are used in your network.\\n- Availability: This means how often your network and its tools are working and ready to use.\\n- Scale: This means making your network larger or smaller, as needed.\\n- Tenants: Different users or groups using the same computer system.\\n- Subscriptions: Different accounts or payment plans within the system.\"},\n {'title': 'Configuration and supported scenarios',\n  'tag': 'h2',\n  'text': 'Configuration and supported scenarios A Standard Public Load Balancer or a Standard IP configuration of a virtual machine can be chained to a Gateway Load Balancer. \"Chaining\" refers to the load balancer frontend or NIC IP configuration containing a reference to a Gateway Load Balancer frontend IP configuration. Once the Gateway Load Balancer is chained to a consumer resource, no additional configuration such as UDRs is needed to ensure traffic to and from the application endpoint is sent to the Gateway Load Balancer. A Standard Public Load Balancer or a Standard IP configuration of a virtual machine can be chained to a Gateway Load Balancer. \"Chaining\" refers to the load balancer frontend or NIC IP configuration containing a reference to a Gateway Load Balancer frontend IP configuration. Once the Gateway Load Balancer is chained to a consumer resource, no additional configuration such as UDRs is needed to ensure traffic to and from the application endpoint is sent to the Gateway Load Balancer. Gateway Load Balancer supports both inbound and outbound traffic inspection. For inserting NVAs in the path of outbound traffic with Standard Load Balancer, Gateway Load Balancer must be chained to the frontend IP configurations selected in the configured outbound rules. Gateway Load Balancer supports both inbound and outbound traffic inspection. For inserting NVAs in the path of outbound traffic with Standard Load Balancer, Gateway Load Balancer must be chained to the frontend IP configurations selected in the configured outbound rules. Note Configuring a Gateway Load Balancer\\'s frontend IP as the next hop in user-defined routes (UDRs) is not supported. Gateway Load Balancer resources must be chained/referenced by a supported consumer resource such as a Standard Public Load Balancer or Standard NIC IP configuration. Note Note Configuring a Gateway Load Balancer\\'s frontend IP as the next hop in user-defined routes (UDRs) is not supported. Gateway Load Balancer resources must be chained/referenced by a supported consumer resource such as a Standard Public Load Balancer or Standard NIC IP configuration. Configuring a Gateway Load Balancer\\'s frontend IP as the next hop in user-defined routes (UDRs) is not supported. Gateway Load Balancer resources must be chained/referenced by a supported consumer resource such as a Standard Public Load Balancer or Standard NIC IP configuration.',\n  'images': [],\n  'img_alt': [],\n  'tables': [],\n  'codes': [],\n  'topic_difficult_terms': {'topic': 'Azure Gateway Load Balancer configuration and integration scenarios',\n   'purpose_of_document': 'To explain how to configure and connect (chain) Gateway Load Balancer with supported resources, including specific scenarios, requirements, and limitations for integrating it into Azure network architecture.',\n   'difficult_terms': ['Standard Public Load Balancer',\n    'Standard IP configuration',\n    'chaining',\n    'NIC IP configuration',\n    'consumer resource',\n    'UDRs',\n    'inbound and outbound traffic inspection',\n    'NVAs',\n    'frontend IP configurations',\n    'outbound rules',\n    'user-defined routes',\n    'Standard NIC IP configuration']},\n  'intermediate_level_text': 'A Standard Public Load Balancer or a Standard IP configuration on a virtual machine can connect (chain) to a Gateway Load Balancer. Chaining means that the load balancer’s frontend or the NIC’s IP configuration includes a reference to the Gateway Load Balancer’s frontend IP configuration. \\n\\nOnce you chain the Gateway Load Balancer to a resource, you do not need extra settings like user-defined routes (UDRs) to direct traffic between the app and the Gateway Load Balancer.\\n\\nGateway Load Balancer can inspect both incoming (inbound) and outgoing (outbound) network traffic. If you want to add network virtual appliances (NVAs) for checking outgoing traffic with a Standard Load Balancer, the Gateway Load Balancer must be chained to the frontend IP configurations used in the outbound rules.\\n\\nYou cannot set the Gateway Load Balancer’s frontend IP as the next hop in user-defined routes (UDRs). Gateway Load Balancer must always be connected or referenced by a supported resource, such as a Standard Public Load Balancer or a Standard NIC IP configuration.',\n  'beginner_level_text': 'You can connect a Standard Public Load Balancer or the Standard IP setting of a virtual machine to a Gateway Load Balancer. This connection is called \"chaining.\" \\n\\nChaining means you set up the load balancer or the network card\\'s (NIC) IP settings so that they point to the Gateway Load Balancer. After you set up this connection, you do not have to do anything extra, like creating new rules, to make sure that all traffic (information going in and out) gets sent through the Gateway Load Balancer.\\n\\nGateway Load Balancer can check and control both incoming (inbound) and outgoing (outbound) traffic. If you want to add network appliances (NVAs) to manage outgoing traffic, you need to make sure the Gateway Load Balancer is connected to the correct front-end IPs that are picked in the outgoing traffic rules.\\n\\nImportant: You cannot set the Gateway Load Balancer’s front-end IP address as the next destination in user-made routing rules (UDRs). The Gateway Load Balancer must be connected by referencing it in a supported resource like a Standard Public Load Balancer or a Standard NIC IP configuration.\\n\\nTerms explained:\\n- Standard Public Load Balancer: A service that helps distribute internet traffic to your resources.\\n- Standard IP configuration: The basic settings that give your virtual machines or load balancers their internet addresses.\\n- Chaining: Linking one service to another so that traffic passes through both.\\n- NIC IP configuration: The settings for the network card in your virtual machine that control its internet addresses.\\n- Consumer resource: The actual resource (like a load balancer or virtual machine) that uses or connects to the Gateway Load Balancer.\\n- UDRs (user-defined routes): Custom paths you can set to control how traffic moves in your network.\\n- Inbound and outbound traffic inspection: Checking and possibly filtering information coming into or out of your network.\\n- NVAs (network virtual appliances): Special devices (can be virtual, like a firewall) added to manage or secure network traffic.\\n- Frontend IP configurations: The public-facing addresses that accept or send traffic.\\n- Outbound rules: The rules that decide how information leaving your network is handled.\\n- Standard NIC IP configuration: The basic settings for the network card in a virtual machine.'},\n {'title': 'Data path diagram',\n  'tag': 'h2',\n  'text': 'Data path diagram With Gateway Load Balancer, traffic intended for the consumer application through a Standard Load Balancer will be encapsulated with VXLAN headers and forwarded first to the Gateway Load Balancer and its configured NVAs in the backend pool. The traffic then returns to the consumer resource (in this case a Standard Load Balancer) and arrives at the consumer application virtual machines with its source IP preserved. The consumer virtual network and provider virtual network can be in different subscriptions or tenants, reducing management overhead. With Gateway Load Balancer, traffic intended for the consumer application through a Standard Load Balancer will be encapsulated with VXLAN headers and forwarded first to the Gateway Load Balancer and its configured NVAs in the backend pool. The traffic then returns to the consumer resource (in this case a Standard Load Balancer) and arrives at the consumer application virtual machines with its source IP preserved. The consumer virtual network and provider virtual network can be in different subscriptions or tenants, reducing management overhead. Figure: Diagram of gateway load balancer. Figure: Diagram of gateway load balancer. Figure: Diagram of gateway load balancer.',\n  'images': ['<img alt=\"Diagram of gateway load balancer\" data-linktype=\"relative-path\" src=\"media/gateway-overview/gateway-load-balancer-diagram.png\"/>',\n   '<img alt=\"Diagram of gateway load balancer\" data-linktype=\"relative-path\" src=\"media/gateway-overview/gateway-load-balancer-diagram.png\"/>',\n   '<img alt=\"Diagram of gateway load balancer\" data-linktype=\"relative-path\" src=\"media/gateway-overview/gateway-load-balancer-diagram.png\"/>'],\n  'img_alt': ['Diagram of gateway load balancer',\n   'Diagram of gateway load balancer',\n   'Diagram of gateway load balancer'],\n  'tables': [],\n  'codes': [],\n  'topic_difficult_terms': {'topic': 'Azure Gateway Load Balancer',\n   'purpose_of_document': 'To explain the features, configuration, operations, and scenarios of use for Azure Gateway Load Balancer, and help users understand its functionality and deployment.',\n   'difficult_terms': ['Standard Load Balancer',\n    'VXLAN headers',\n    'Gateway Load Balancer',\n    'NVAs',\n    'backend pool',\n    'consumer resource',\n    'source IP preserved',\n    'consumer virtual network',\n    'provider virtual network',\n    'subscriptions',\n    'tenants',\n    'management overhead']},\n  'intermediate_level_text': 'When using Gateway Load Balancer, traffic for the consumer application goes through a Standard Load Balancer first. This traffic is wrapped with VXLAN headers and sent to the Gateway Load Balancer. The Gateway Load Balancer then sends the traffic to its Network Virtual Appliances (NVAs) in the backend pool. After processing, the traffic goes back to the Standard Load Balancer and reaches the consumer application virtual machines. The original source IP address is kept unchanged.\\n\\nThe consumer virtual network and the provider virtual network can be in different subscriptions or tenants. This makes management easier.\\n\\nSee the diagram for a visual representation of how Gateway Load Balancer handles traffic.',\n  'beginner_level_text': \"This section explains how traffic moves when using a Gateway Load Balancer in Azure.\\n\\nWhen someone wants to use your application, their traffic first goes through something called a Standard Load Balancer. A Load Balancer helps spread out traffic so no single server gets overloaded.\\n\\nBefore the traffic reaches your application, it gets wrapped with something called VXLAN headers. This is like putting the traffic inside a special envelope so it can travel safely.\\n\\nNext, the traffic goes to the Gateway Load Balancer. This is a special helper that can check or filter traffic using devices called NVAs (Network Virtual Appliances). These are tools that do things like inspecting or protecting your traffic. The Gateway Load Balancer has a group of these NVAs, called a backend pool.\\n\\nAfter the traffic goes through these checks, it returns to the Standard Load Balancer. Then, the traffic goes to the virtual machines (the computers running your app) with the original sender's information (source IP) still in place.\\n\\nYou can have your application's network and the helper's network in different accounts (called subscriptions) or even different companies (tenants). This setup makes it easier to manage and share responsibilities.\\n\\nRefer to the diagram below for a visual explanation of how all the parts connect.\"},\n {'title': 'Components',\n  'tag': 'h2',\n  'text': 'Components Gateway Load Balancer consists of the following components: Gateway Load Balancer consists of the following components: Frontend IP configuration - The IP address of your Gateway Load Balancer. This IP is private only. Load-balancing rules - A load balancer rule is used to define how incoming traffic is distributed toâ\\x80¯allâ\\x80¯the instances within the backend pool. A load-balancing rule maps a given frontend IP configuration and port to multiple backend IP addresses and ports. Gateway Load Balancer rules can only be HA port rules. A Gateway Load Balancer rule can be associated with up to two backend pools. Backend pool(s) - The group of virtual machines or instances in a Virtual Machine Scale Set that is serving the incoming request. To scale cost-effectively to meet high volumes of incoming traffic, computing guidelines generally recommend adding more instances to the backend pool. Load Balancer instantly reconfigures itself via automatic reconfiguration when you scale instances up or down. Adding or removing VMs from the backend pool reconfigures the load balancer without extra operations. The scope of the backend pool is any virtual machine in a single virtual network. Tunnel interfaces - Gateway Load balancer backend pools have another component called the tunnel interfaces. The tunnel interface enables the appliances in the backend to ensure network flows are handled as expected. Each backend pool can have up to two tunnel interfaces. Tunnel interfaces can be either internal or external. For traffic coming to your backend pool, you should use the external type. For traffic going from your appliance to the application, you should use the internal type. Chain - A Gateway Load Balancer can be referenced by a Standard Public Load Balancer frontend or a Standard Public IP configuration on a virtual machine. The addition of advanced networking capabilities in a specific sequence is known as service chaining. As a result, this reference is called a chain. A Cross tenant chain involves chaining a Load Balancer frontend or Public IP configuration to a Gateway Load Balancer that is in another subscription. For cross tenant chaining, users need: Permission for the resource provider operation Microsoft.Network/loadBalancers/frontendIPConfigurations/join/action . Guest access to the subscription of the Gateway Load Balancer. Frontend IP configuration - The IP address of your Gateway Load Balancer. This IP is private only. Frontend IP configuration - The IP address of your Gateway Load Balancer. This IP is private only. Frontend IP configuration Frontend IP configuration - The IP address of your Gateway Load Balancer. This IP is private only. Load-balancing rules - A load balancer rule is used to define how incoming traffic is distributed toâ\\x80¯allâ\\x80¯the instances within the backend pool. A load-balancing rule maps a given frontend IP configuration and port to multiple backend IP addresses and ports. Gateway Load Balancer rules can only be HA port rules. A Gateway Load Balancer rule can be associated with up to two backend pools. Load-balancing rules - A load balancer rule is used to define how incoming traffic is distributed toâ\\x80¯allâ\\x80¯the instances within the backend pool. A load-balancing rule maps a given frontend IP configuration and port to multiple backend IP addresses and ports. Load-balancing rules Load-balancing rules - A load balancer rule is used to define how incoming traffic is distributed toâ\\x80¯allâ\\x80¯the instances within the backend pool. A load-balancing rule maps a given frontend IP configuration and port to multiple backend IP addresses and ports. Gateway Load Balancer rules can only be HA port rules. A Gateway Load Balancer rule can be associated with up to two backend pools. Gateway Load Balancer rules can only be HA port rules. Gateway Load Balancer rules can only be HA port rules. Gateway Load Balancer rules can only be HA port rules. A Gateway Load Balancer rule can be associated with up to two backend pools. A Gateway Load Balancer rule can be associated with up to two backend pools. A Gateway Load Balancer rule can be associated with up to two backend pools. Backend pool(s) - The group of virtual machines or instances in a Virtual Machine Scale Set that is serving the incoming request. To scale cost-effectively to meet high volumes of incoming traffic, computing guidelines generally recommend adding more instances to the backend pool. Load Balancer instantly reconfigures itself via automatic reconfiguration when you scale instances up or down. Adding or removing VMs from the backend pool reconfigures the load balancer without extra operations. The scope of the backend pool is any virtual machine in a single virtual network. Backend pool(s) - The group of virtual machines or instances in a Virtual Machine Scale Set that is serving the incoming request. To scale cost-effectively to meet high volumes of incoming traffic, computing guidelines generally recommend adding more instances to the backend pool. Load Balancer instantly reconfigures itself via automatic reconfiguration when you scale instances up or down. Adding or removing VMs from the backend pool reconfigures the load balancer without extra operations. The scope of the backend pool is any virtual machine in a single virtual network. Backend pool(s) Backend pool(s) - The group of virtual machines or instances in a Virtual Machine Scale Set that is serving the incoming request. To scale cost-effectively to meet high volumes of incoming traffic, computing guidelines generally recommend adding more instances to the backend pool. Load Balancer instantly reconfigures itself via automatic reconfiguration when you scale instances up or down. Adding or removing VMs from the backend pool reconfigures the load balancer without extra operations. The scope of the backend pool is any virtual machine in a single virtual network. Tunnel interfaces - Gateway Load balancer backend pools have another component called the tunnel interfaces. The tunnel interface enables the appliances in the backend to ensure network flows are handled as expected. Each backend pool can have up to two tunnel interfaces. Tunnel interfaces can be either internal or external. For traffic coming to your backend pool, you should use the external type. For traffic going from your appliance to the application, you should use the internal type. Tunnel interfaces - Gateway Load balancer backend pools have another component called the tunnel interfaces. The tunnel interface enables the appliances in the backend to ensure network flows are handled as expected. Each backend pool can have up to two tunnel interfaces. Tunnel interfaces can be either internal or external. For traffic coming to your backend pool, you should use the external type. For traffic going from your appliance to the application, you should use the internal type. Tunnel interfaces Tunnel interfaces - Gateway Load balancer backend pools have another component called the tunnel interfaces. The tunnel interface enables the appliances in the backend to ensure network flows are handled as expected. Each backend pool can have up to two tunnel interfaces. Tunnel interfaces can be either internal or external. For traffic coming to your backend pool, you should use the external type. For traffic going from your appliance to the application, you should use the internal type. Chain - A Gateway Load Balancer can be referenced by a Standard Public Load Balancer frontend or a Standard Public IP configuration on a virtual machine. The addition of advanced networking capabilities in a specific sequence is known as service chaining. As a result, this reference is called a chain. A Cross tenant chain involves chaining a Load Balancer frontend or Public IP configuration to a Gateway Load Balancer that is in another subscription. For cross tenant chaining, users need: Permission for the resource provider operation Microsoft.Network/loadBalancers/frontendIPConfigurations/join/action . Guest access to the subscription of the Gateway Load Balancer. Chain - A Gateway Load Balancer can be referenced by a Standard Public Load Balancer frontend or a Standard Public IP configuration on a virtual machine. The addition of advanced networking capabilities in a specific sequence is known as service chaining. As a result, this reference is called a chain. A Cross tenant chain involves chaining a Load Balancer frontend or Public IP configuration to a Gateway Load Balancer that is in another subscription. For cross tenant chaining, users need: Chain Chain - A Gateway Load Balancer can be referenced by a Standard Public Load Balancer frontend or a Standard Public IP configuration on a virtual machine. The addition of advanced networking capabilities in a specific sequence is known as service chaining. As a result, this reference is called a chain. A Cross tenant chain involves chaining a Load Balancer frontend or Public IP configuration to a Gateway Load Balancer that is in another subscription. For cross tenant chaining, users need: Permission for the resource provider operation Microsoft.Network/loadBalancers/frontendIPConfigurations/join/action . Guest access to the subscription of the Gateway Load Balancer. Permission for the resource provider operation Microsoft.Network/loadBalancers/frontendIPConfigurations/join/action . Permission for the resource provider operation Microsoft.Network/loadBalancers/frontendIPConfigurations/join/action Microsoft.Network/loadBalancers/frontendIPConfigurations/join/action. Guest access to the subscription of the Gateway Load Balancer. Guest access to the subscription of the Gateway Load Balancer.',\n  'images': [],\n  'img_alt': [],\n  'tables': [],\n  'codes': ['<code>Microsoft.Network/loadBalancers/frontendIPConfigurations/join/action</code>',\n   '<code>Microsoft.Network/loadBalancers/frontendIPConfigurations/join/action</code>',\n   '<code>Microsoft.Network/loadBalancers/frontendIPConfigurations/join/action</code>',\n   '<code>Microsoft.Network/loadBalancers/frontendIPConfigurations/join/action</code>',\n   '<code>Microsoft.Network/loadBalancers/frontendIPConfigurations/join/action</code>'],\n  'topic_difficult_terms': {'topic': 'Azure Gateway Load Balancer components and configuration',\n   'purpose_of_document': 'To explain the individual components that make up the Azure Gateway Load Balancer and how they interact within a network environment.',\n   'difficult_terms': ['Frontend IP configuration',\n    'Load-balancing rules',\n    'backend pool',\n    'Virtual Machine Scale Set',\n    'automatic reconfiguration',\n    'virtual network',\n    'Tunnel interfaces',\n    'internal/external tunnel interfaces',\n    'service chaining',\n    'Cross tenant chain',\n    'resource provider operation',\n    'Microsoft.Network/loadBalancers/frontendIPConfigurations/join/action',\n    'Guest access to the subscription']},\n  'intermediate_level_text': \"Gateway Load Balancer is made up of several key parts:\\n\\n- Frontend IP configuration: This is the private IP address of your Gateway Load Balancer.\\n\\n- Load-balancing rules: These rules decide how incoming network traffic is shared among the backend pool's instances. Each rule connects a frontend IP and port to multiple backend IPs and ports. For Gateway Load Balancer, only HA port rules are allowed. Each rule can link up to two backend pools.\\n\\n- Backend pool(s): This is a group of virtual machines or instances in a Virtual Machine Scale Set that handle the traffic. To support more traffic, you can add more instances to the backend pool. When you add or remove virtual machines in the backend pool, the Load Balancer updates itself automatically. The backend pool can include any virtual machine within one virtual network.\\n\\n- Tunnel interfaces: Each backend pool can have up to two tunnel interfaces. They help the backend appliances manage network flows correctly. Tunnel interfaces can be internal or external. Use external tunnel interfaces for incoming traffic to the backend pool. Use internal tunnel interfaces for traffic going from your appliance to your application.\\n\\n- Chain: Gateway Load Balancer can be linked by a Standard Public Load Balancer frontend or by a Standard Public IP configuration on a virtual machine. Connecting networking features in sequence is called service chaining. This setup is known as a chain. If you want to link a Load Balancer frontend or a Public IP configuration to a Gateway Load Balancer in a different subscription (called a cross tenant chain), you need permission for the Microsoft.Network/loadBalancers/frontendIPConfigurations/join/action operation, and you need guest access to the Gateway Load Balancer's subscription.\",\n  'beginner_level_text': 'Gateway Load Balancer is made up of several important parts. Here are the main ones and what they mean:\\n\\n1. Frontend IP configuration – This is the special address your Gateway Load Balancer uses to talk to other devices. This address is private, which means only things inside your network can use it. \\n   - (A Frontend IP configuration is just where the Gateway Load Balancer can be reached.)\\n\\n2. Load-balancing rules – These rules decide how the Gateway Load Balancer will share incoming traffic among computers (called \\'instances\\') in a group. The rule takes the incoming requests and sends them to different computers, so no one computer gets too busy. ‘HA port rules’ mean the rule helps keep things running smoothly, even if some parts fail.\\n   - (Load-balancing rules are instructions for spreading out the work.)\\n\\n3. Backend pool – This is the group of computers or virtual machines that does the real work. When lots of people are trying to connect, it is a good idea to have more computers in the backend pool. The load balancer automatically updates itself if you add or remove computers, without needing extra work.\\n   - (A backend pool is just the team of computers that helps with requests.)\\n\\n4. Tunnel interfaces – Tunnel interfaces act like doors between the Gateway Load Balancer and the computers behind it. There are two kinds:\\n   - External: Used for traffic coming into your backend pool.\\n   - Internal: Used for traffic leaving your appliances and going to the main app.\\n   Each group of computers (backend pool) can have up to two tunnel interfaces.\\n   - (Tunnel interfaces are ways traffic moves between different points.)\\n\\n5. Chain – Sometimes, you need to send network traffic through several helpful tools in order, like scanning for security and then sharing the work. Doing this is called \\'service chaining’, and when you set it up, it is called a \\'chain.\\' Chains can work across different accounts (‘cross tenant’). To set this up, you must be allowed to connect different resources together and have guest access to the Gateway Load Balancer’s account.\\n   - (\\'Service chaining\\' means sending traffic through a set order of helpers.)\\n   - (A ‘Cross tenant chain’ is when this happens between different owners/accounts.)\\n   - (The ‘resource provider operation’ mentioned is just a special access permission needed to set up these connections.)\\n   - (‘Guest access to the subscription’ means you can see and use the load balancer, even if you don’t own the account.)\\n\\nIf you see terms like \"Virtual Machine Scale Set\", it just means a group of virtual computers that can easily grow or shrink in number. “Automatic reconfiguration” means the system switches things around by itself if you add or remove computers. “Virtual network” means all the connected devices and computers working together in your private setup.'},\n {'title': 'Pricing',\n  'tag': 'h2',\n  'text': 'Pricing For pricing, see Load Balancer pricing . For pricing, see Load Balancer pricing Load Balancer pricing.',\n  'images': [],\n  'img_alt': [],\n  'tables': [],\n  'codes': [],\n  'topic_difficult_terms': {'topic': 'Azure Gateway Load Balancer',\n   'purpose_of_document': 'To provide information and guidance about the features, benefits, configuration, and usage scenarios of Azure Gateway Load Balancer.',\n   'difficult_terms': ['Load Balancer pricing']},\n  'intermediate_level_text': 'For information about costs, refer to the Load Balancer pricing page.',\n  'beginner_level_text': 'If you want to know how much it costs to use the Azure Gateway Load Balancer, you need to check the pricing page for Load Balancer. The pricing details are listed there. \"Load Balancer pricing\" refers to the costs for using this service.'},\n {'title': 'Limitations',\n  'tag': 'h2',\n  'text': \"Limitations Gateway Load Balancer doesn't work with the Global Load Balancer tier. Cross-tenant chaining isn't supported through the Azure portal. Gateway Load Balancer doesn't work with the Global Load Balancer tier. Gateway Load Balancer doesn't work with the Global Load Balancer tier. Cross-tenant chaining isn't supported through the Azure portal. Cross-tenant chaining isn't supported through the Azure portal.\",\n  'images': [],\n  'img_alt': [],\n  'tables': [],\n  'codes': [],\n  'topic_difficult_terms': {'topic': 'Azure Gateway Load Balancer',\n   'purpose_of_document': 'To provide technical documentation and guidance for using Azure Gateway Load Balancer, including its benefits, components, configuration, and limitations.',\n   'difficult_terms': ['Global Load Balancer tier',\n    'Cross-tenant chaining',\n    'Azure portal']},\n  'intermediate_level_text': 'Limitations\\n\\nGateway Load Balancer cannot be used with the Global Load Balancer tier.\\n\\nYou cannot set up cross-tenant chaining using the Azure portal.',\n  'beginner_level_text': \"Here are some things that Azure Gateway Load Balancer cannot do:\\n\\n- It does not work with the Global Load Balancer tier. This means you cannot use it together with the global version of Azure's load balancer service. The Global Load Balancer tier is a service that spreads internet traffic across different regions around the world.\\n- You cannot use cross-tenant chaining through the Azure portal. This means you cannot connect services from one Azure account (or group) to another using the web website for Azure. Cross-tenant chaining is when you try to connect or direct traffic between different account groups in Azure. The Azure portal is the website that people use to manage Azure services.\"},\n {'title': 'Next steps',\n  'tag': 'h2',\n  'text': 'Next steps See Create a Gateway Load Balancer using the Azure portal to create a gateway load balancer. Learn how to use Gateway Load Balancer for outbound connectivity scenarios . Learn more about Azure Load Balancer . See Create a Gateway Load Balancer using the Azure portal to create a gateway load balancer. See Create a Gateway Load Balancer using the Azure portal Create a Gateway Load Balancer using the Azure portal to create a gateway load balancer. Learn how to use Gateway Load Balancer for outbound connectivity scenarios . Learn how to use Gateway Load Balancer for outbound connectivity scenarios Gateway Load Balancer for outbound connectivity scenarios. Learn more about Azure Load Balancer . Learn more about Azure Load Balancer Azure Load Balancer. feedback section Feedback Was this page helpful? Yes No Provide product feedback | Get help at Microsoft Q&A',\n  'images': [],\n  'img_alt': [],\n  'tables': [],\n  'codes': [],\n  'topic_difficult_terms': {'topic': 'Azure Gateway Load Balancer',\n   'purpose_of_document': 'To explain the features, configuration, benefits, limitations, and next steps for using Azure Gateway Load Balancer, targeting users planning to deploy or manage high performance and high availability network virtual appliances in Azure.',\n   'difficult_terms': ['Gateway Load Balancer',\n    'Azure portal',\n    'outbound connectivity scenarios',\n    'Azure Load Balancer']},\n  'intermediate_level_text': 'Next steps\\n\\n- To create a gateway load balancer, see the guide on using the Azure portal.\\n- Learn how to use Gateway Load Balancer for outbound connectivity scenarios.\\n- For more information, read about Azure Load Balancer.\\n\\nFeedback section:\\nWas this page helpful? Yes / No\\nProvide product feedback or get help at Microsoft Q&A.',\n  'beginner_level_text': 'Next steps\\n\\nTo keep learning, you can look at guides on how to create a Gateway Load Balancer using the Azure portal. \\n\\n- \"Gateway Load Balancer\" is a tool in Microsoft\\'s Azure cloud system. It helps your apps stay available and perform well by distributing traffic and sending it through network devices.\\n- The \"Azure portal\" is a website where you can manage and set up your Azure resources.\\n- \"Outbound connectivity scenarios\" refers to cases where resources in Azure need to connect to things outside, like the internet.\\n- \"Azure Load Balancer\" is another tool in Azure that helps manage and balance traffic for your applications.\\n\\nYou can find step-by-step instructions to:\\n- Make a Gateway Load Balancer in the Azure portal.\\n- Learn how to use Gateway Load Balancer when your apps need to connect to the internet or outside networks.\\n- Get more information about Azure Load Balancer.\\n\\nIf you want to share if this page was helpful or not, or if you have questions, you can give feedback or ask for help on Microsoft Q&A.'},\n {'title': 'Feedback',\n  'tag': 'h2',\n  'text': 'Feedback Was this page helpful? Yes No Was this page helpful? Was this page helpful? Yes No Yes Yes Yes No No No Provide product feedback | Get help at Microsoft Q&A Provide product feedback Provide product feedback Provide product feedback | | Get help at Microsoft Q&A Get help at Microsoft Q&A Get help at Microsoft Q&A end feedback section Additional resources',\n  'images': [],\n  'img_alt': [],\n  'tables': [],\n  'codes': [],\n  'topic_difficult_terms': {'topic': 'Azure Gateway Load Balancer',\n   'purpose_of_document': 'To provide technical information, configuration instructions, and support resources for users of Azure Gateway Load Balancer.',\n   'difficult_terms': ['product feedback', 'Microsoft Q&A']},\n  'intermediate_level_text': 'Was this page helpful?  \\nYes  No\\n\\nYou can provide product feedback or get help at Microsoft Q&A.\\n\\nAdditional resources',\n  'beginner_level_text': 'Feedback\\n\\nWas this page helpful?  \\n- Yes  \\n- No  \\n\\nYou can also give product feedback.  \\nIf you need help, you can visit Microsoft Q&A, which is a website where you can ask questions and get answers about Microsoft products.  \\n\\nEnd of feedback section.  \\n\\nAdditional resources'},\n {'title': 'Additional resources',\n  'tag': 'h2',\n  'text': 'Additional resources In this article Additional resources In this article Additional resources In this article Additional resources In this article In this article In this article Additional resources Additional resources Additional resources en-us Your Privacy Choices Theme Light Dark High contrast Previous Versions Blog Contribute Privacy Terms of Use Trademarks © Microsoft 2025 en-us Your Privacy Choices Theme Light Dark High contrast Previous Versions Blog Contribute Privacy Terms of Use Trademarks © Microsoft 2025 en-us Your Privacy Choices Theme Light Dark High contrast en-us en-us en-us Your Privacy Choices Your Privacy Choices Your Privacy Choices Your Privacy Choices Theme Light Dark High contrast Theme Light Dark High contrast Theme Theme Theme Light Dark High contrast Light Dark High contrast Light Light Light Light Dark Dark Dark Dark High contrast High contrast High contrast High contrast Previous Versions Blog Contribute Privacy Terms of Use Trademarks © Microsoft 2025 Previous Versions Previous Versions Previous Versions Blog Blog Blog Contribute Contribute Contribute Privacy Privacy Privacy Terms of Use Terms of Use Terms of Use Trademarks Trademarks Trademarks © Microsoft 2025 © Microsoft 2025',\n  'images': [],\n  'img_alt': [],\n  'tables': [],\n  'codes': [],\n  'topic_difficult_terms': {'topic': 'Azure Gateway Load Balancer',\n   'purpose_of_document': 'To provide an overview and technical documentation for Gateway Load Balancer, a component in the Azure Load Balancer portfolio, including its features, configuration, benefits, limitations, and related resources.',\n   'difficult_terms': []},\n  'intermediate_level_text': 'Additional resources\\n\\nFor more information, see the resources listed in this article. \\n\\nYou can also explore the following:\\n\\n- Previous versions of documentation\\n- Blog articles\\n- Ways to contribute\\n- Privacy policies\\n- Terms of use\\n- Trademarks\\n\\n© Microsoft 2025',\n  'beginner_level_text': 'This section lists extra materials and helpful links you can use to learn more about the Azure Gateway Load Balancer and related topics. You may also find options to change how the page looks, such as switching between light or dark themes. Information about privacy choices, older versions of the documentation, and links to the blog are also available. You can find details about privacy rules, terms of use, and trademarks at the bottom of the page.'}]"
          },
          "metadata": {}
        }
      ],
      "execution_count": 16,
      "metadata": {
        "gather": {
          "logged": 1750988015056
        }
      }
    },
    {
      "cell_type": "code",
      "source": [
        "consitution = [\"Does not hallucinate information and specifically does not add incorrect information. The entire response should be accurate.\",\n",
        "                \"Does not leave any unecessary information out. All important information from the original text is present in the summarization.\",\n",
        "                \"Does not include irrelevent information. Information whose inclusion would confuse or dilute the summary is not present.\",\n",
        "                \"The overall meaning of the text is not lost. No information that detracts or would lose the understanding of the original text is present in the summary.\"]"
      ],
      "outputs": [],
      "execution_count": 17,
      "metadata": {
        "gather": {
          "logged": 1750988015131
        }
      }
    },
    {
      "cell_type": "code",
      "source": [
        "judge_prompt = \"\"\"You are a 'simplified text revision judge' LLm. You are a component of a larger process designed to simplifiy texts. \n",
        "\n",
        "## Context\n",
        "### The first LLM of this process is to identify the topic as well as difficult terms and the purpose of the document, the next LLM revises the text based on the user's expertise in the field to make it more comprehensible and easier to read, and the last LLM iteratively improves on the summarization to ensure certain quality requirements are met. \n",
        "\n",
        "**You are the third and last step in this process, and so your job is to iterate on the current simplification to improve it.**\n",
        "\n",
        "## Instructions\n",
        " - You will be provided three bits of information: The complete webpage the info comes from, and the specific text that was simplified, and the simplified text itself.\n",
        "\n",
        " - You will be given a specific \"requirement\" of the simplified text and your job is to check if the simplified text fulfills the requirement. This may require you to look at all 3 pieces of information.\n",
        "\n",
        " - **Make sure to check if the simplified text fulfills the requirement**. \n",
        " \n",
        " - **If the simplified text does not fulfill the requirement, revise the simplified text to improve it and fulfill the requirement\".**\n",
        "\n",
        " - Format your response as a valid JSON string, where strings are wrapped in double quotes, using backslash escapes.\n",
        "\n",
        "**Structure your response according to the following template: {{\"new_simplified_text\" : \"__simplified_text__\"}}**\n",
        "\n",
        "**If the simplified text is correct, so it does indeed fulfill the requirement, then return the simplified text as is. Still label it as \"new_simplified_text\" in the json.**\n",
        "\n",
        "\n",
        "There is no need to give any additional information or reason for revision. Give just the new revision.\n",
        "\"\"\""
      ],
      "outputs": [],
      "execution_count": 18,
      "metadata": {
        "gather": {
          "logged": 1750988015207
        }
      }
    },
    {
      "cell_type": "code",
      "source": [
        "for section in sections:\n",
        "    specific_text = section[\"text\"]\n",
        "    tables = section[\"tables\"]\n",
        "    image_alt_text = section[\"img_alt\"]\n",
        "    simplified_intermediate_text = section[\"intermediate_level_text\"]\n",
        "    simplified_begginer_text = section[\"beginner_level_text\"]\n",
        "\n",
        "    for rule in consitution:\n",
        "        response = llm.chat.completions.create(\n",
        "        model= deployment_name,\n",
        "        messages=[\n",
        "            {\n",
        "            \"role\":\"system\",\n",
        "            \"content\": judge_prompt\n",
        "            },\n",
        "            {\n",
        "            \"role\":\"user\",\n",
        "            \"content\": f\"## Full Webpage Text\\n{full_webpage_text}\\n## Specific Text\\n{specific_text}\\n## Simplified Text\\n{simplified_intermediate_text}\\n## Rule\\n{rule}\\n\"\n",
        "            }\n",
        "        ],\n",
        "        max_tokens=4096\n",
        "        )\n",
        "\n",
        "        response_content = response.choices[0].message.content\n",
        "\n",
        "        pattern = r'\\{(?:[^{}]|(?:\\\\{[^{}]*\\\\}))*\\}'\n",
        "        cleaned_response = re.findall(pattern, response_content)[0]\n",
        "\n",
        "        cleaned_response_json = json.loads(cleaned_response)\n",
        "\n",
        "        section[\"intermediate_level_text\"] = cleaned_response_json\n",
        "\n",
        "\n",
        "\n",
        "\n",
        "\n",
        "        response = llm.chat.completions.create(\n",
        "        model= deployment_name,\n",
        "        messages=[\n",
        "            {\n",
        "            \"role\":\"system\",\n",
        "            \"content\": judge_prompt\n",
        "            },\n",
        "            {\n",
        "            \"role\":\"user\",\n",
        "            \"content\": f\"## Full Webpage Text\\n{full_webpage_text}\\n## Specific Text\\n{specific_text}\\n## Simplified Text\\n{simplified_begginer_text}\\n\"\n",
        "            }\n",
        "        ],\n",
        "        max_tokens=4096\n",
        "        )\n",
        "\n",
        "        response_content = response.choices[0].message.content\n",
        "\n",
        "        pattern = r'\\{(?:[^{}]|(?:\\\\{[^{}]*\\\\}))*\\}'\n",
        "        cleaned_response = re.findall(pattern, response_content)[0]\n",
        "\n",
        "        cleaned_response_json = json.loads(cleaned_response)\n",
        "\n",
        "        section[\"beginner_level_text\"] = cleaned_response_json\n"
      ],
      "outputs": [],
      "execution_count": 20,
      "metadata": {
        "gather": {
          "logged": 1750988352715
        }
      }
    },
    {
      "cell_type": "code",
      "source": [
        "sections"
      ],
      "outputs": [
        {
          "output_type": "execute_result",
          "execution_count": 21,
          "data": {
            "text/plain": "[{'title': 'Gateway Load Balancer',\n  'tag': 'h1',\n  'text': 'Gateway Load Balancer 2024-08-26 Feedback 2024-08-26 Feedback In this article',\n  'images': [],\n  'img_alt': [],\n  'tables': [],\n  'codes': [],\n  'topic_difficult_terms': {'topic': 'Azure Gateway Load Balancer',\n   'purpose_of_document': 'To explain the features, components, configuration, scenarios, limitations, and use cases of the Azure Gateway Load Balancer for integrating Network Virtual Appliances and managing network traffic.',\n   'difficult_terms': []},\n  'intermediate_level_text': {'new_simplified_text': 'Gateway Load Balancer\\n\\nThis article introduces the Azure Gateway Load Balancer.'},\n  'beginner_level_text': {'new_simplified_text': 'Gateway Load Balancer\\n\\nThis article is about Gateway Load Balancer. It explains what Gateway Load Balancer is, how it works, its main features, components, how to set it up, where you can use it, its limitations, and examples of its use. Gateway Load Balancer helps you connect and manage other network devices, making it easier to control and protect data traffic in your network.'}},\n {'title': 'In this article',\n  'tag': 'h2',\n  'text': \"In this article Gateway Load Balancer is a SKU of the Azure Load Balancer portfolio catered for high performance and high availability scenarios with third-party Network Virtual Appliances (NVAs). With the capabilities of Gateway Load Balancer, you can easily deploy, scale, and manage NVAs. Chaining a Gateway Load Balancer to your public endpoint only requires one selection. You can insert appliances transparently for different kinds of scenarios such as: Firewalls Advanced packet analytics Intrusion detection and prevention systems Traffic mirroring DDoS protection Custom appliances With Gateway Load Balancer, you can easily add or remove advanced network functionality without extra management overhead. It provides the bump-in-the-wire technology you need to ensure all traffic to and from a public endpoint is first sent to the appliance before your application. In scenarios with NVAs, it's especially important that flows are symmetrical. Gateway Load Balancer maintains flow stickiness to a specific instance in the backend pool along with flow symmetry. As a result, a consistent route to your network virtual appliance is ensured â\\x80\\x93 without further manual configuration. As a result, packets traverse the same network path in both directions and appliances that need this key capability are able to function seamlessly. The health probe listens across all ports and routes traffic to the backend instances using the HA ports rule. Traffic sent to and from Gateway Load Balancer uses the VXLAN protocol. \",\n  'images': ['<img alt=\"Diagram of gateway load balancer\" data-linktype=\"relative-path\" src=\"media/gateway-overview/gateway-load-balancer-diagram.png\"/>'],\n  'img_alt': ['Diagram of gateway load balancer'],\n  'tables': [],\n  'codes': ['<code>Microsoft.Network/loadBalancers/frontendIPConfigurations/join/action</code>'],\n  'topic_difficult_terms': {'topic': 'Azure Gateway Load Balancer',\n   'purpose_of_document': 'To explain what the Azure Gateway Load Balancer is, its use cases, how it integrates with network virtual appliances, and the benefits and capabilities it provides for high performance and high availability networking scenarios.',\n   'difficult_terms': ['SKU',\n    'Azure Load Balancer',\n    'Network Virtual Appliances (NVAs)',\n    'Chaining',\n    'Firewalls',\n    'Advanced packet analytics',\n    'Intrusion detection and prevention systems',\n    'Traffic mirroring',\n    'DDoS protection',\n    'Bump-in-the-wire technology',\n    'Flows are symmetrical',\n    'Flow stickiness',\n    'Backend pool',\n    'Flow symmetry',\n    'Health probe',\n    'HA ports rule',\n    'VXLAN protocol']},\n  'intermediate_level_text': {'new_simplified_text': 'In this article, Gateway Load Balancer is described as a type (SKU) of Azure Load Balancer designed for scenarios that require high performance and high availability, especially when using third-party Network Virtual Appliances (NVAs). With Gateway Load Balancer, you can easily deploy, scale, and manage NVAs. Connecting (\"chaining\") a Gateway Load Balancer to your public endpoint only requires one selection.\\n\\nYou can add appliances like firewalls, advanced packet analytics, intrusion detection and prevention systems, traffic mirroring, DDoS protection, or custom appliances into your network in a transparent way, without extra management effort. Gateway Load Balancer provides \"bump-in-the-wire\" technology, so that all traffic going to and coming from a public endpoint is sent first to the appliance before reaching your application.\\n\\nWhen using NVAs, it is very important that network flows are symmetrical, meaning the traffic follows the same path both to and from its destination. Gateway Load Balancer keeps each flow \"sticky\" (attached) to a specific instance in the backend pool and ensures symmetry. This guarantees a consistent route to your NVA, so manual configuration isn’t needed and appliances that require symmetrical traffic can work smoothly.\\n\\nA health probe on Gateway Load Balancer monitors all ports and routes traffic to the backend instances using the HA ports rule. All traffic to and from Gateway Load Balancer uses the VXLAN protocol.\\n'},\n  'beginner_level_text': {'new_simplified_text': \"This article explains the Gateway Load Balancer, a special service in Azure designed for high-speed and always-available network needs. It's used with Network Virtual Appliances (NVAs), which are software tools like firewalls or network monitors that help protect and control your network.\\n\\nGateway Load Balancer makes it easy to set up, scale, and manage these network tools. You can connect a Gateway Load Balancer to your public website or app in just one step. After that, you can quickly add different tools to your network, such as:\\n- Firewalls to block harmful traffic\\n- Advanced analytics to inspect traffic\\n- Systems to detect and prevent hacking\\n- Tools to copy traffic for review (traffic mirroring)\\n- Protection against big attacks (DDoS protection)\\n- Your own custom tools\\n\\nYou can add or remove these tools at any time without extra work or complex steps. Gateway Load Balancer uses a “bump-in-the-wire” setup. This means all traffic going to or from your app goes through these security tools first.\\n\\nIt's important that traffic flows in both directions along the same network path (this is called symmetrical flow), so certain security tools work correctly. Gateway Load Balancer makes sure that each connection always uses the same security tool (this is known as flow stickiness and flow symmetry). It does this automatically, so you don't need to set up any extra routing.\\n\\nThe service checks all ports with a “health probe” and directs traffic using the HA ports rule, making sure connections stay healthy. Gateway Load Balancer uses a particular way of moving data called the VXLAN protocol, so all network tools can communicate properly.\"}},\n {'title': 'Benefits',\n  'tag': 'h2',\n  'text': 'Benefits Gateway Load Balancer has the following benefits: Gateway Load Balancer has the following benefits: Integrate virtual appliances transparently into the network path. Easily add or remove network virtual appliances in the network path. Scale with ease while managing costs. Improve network virtual appliance availability. Chain applications across tenants and subscriptions Integrate virtual appliances transparently into the network path. Integrate virtual appliances transparently into the network path. Integrate virtual appliances transparently into the network path. Easily add or remove network virtual appliances in the network path. Easily add or remove network virtual appliances in the network path. Easily add or remove network virtual appliances in the network path. Scale with ease while managing costs. Scale with ease while managing costs. Scale with ease while managing costs. Improve network virtual appliance availability. Improve network virtual appliance availability. Improve network virtual appliance availability. Chain applications across tenants and subscriptions Chain applications across tenants and subscriptions Chain applications across tenants and subscriptions',\n  'images': [],\n  'img_alt': [],\n  'tables': [],\n  'codes': [],\n  'topic_difficult_terms': {'topic': 'Azure Gateway Load Balancer overview and functionality',\n   'purpose_of_document': 'To explain what the Gateway Load Balancer is, its features, benefits, supported scenarios, limitations, pricing, and configuration options within the Azure cloud platform.',\n   'difficult_terms': ['virtual appliances',\n    'network path',\n    'network virtual appliances',\n    'availability',\n    'scale',\n    'tenants',\n    'subscriptions']},\n  'intermediate_level_text': {'new_simplified_text': 'Gateway Load Balancer provides these main benefits:\\n\\n- Lets you add virtual appliances (such as firewalls, advanced analytics, or DDoS protection) directly and seamlessly into your network path.\\n- Makes it simple to add or remove these network virtual appliances at any time.\\n- Allows you to scale your network easily while controlling costs.\\n- Improves the reliability and availability of your network virtual appliances.\\n- Supports chaining of applications and services across different Azure tenants and subscriptions.\\n\\nAll these benefits help you manage network security and functionality efficiently, without extra complexity.'},\n  'beginner_level_text': {'new_simplified_text': 'Here are the main benefits of using Gateway Load Balancer:\\n\\n- You can add security or monitoring tools (these are called virtual appliances) into your network easily, and they work without users noticing any changes.\\n- It is simple to add or remove these virtual appliances when needed, without stopping your network.\\n- You can increase or decrease the size of your network as needed (this is called scaling). This helps you manage costs well.\\n- The virtual appliances in your network will work more reliably, keeping your network available and running smoothly.\\n- Gateway Load Balancer lets different groups (called tenants) or different account types (called subscriptions) use shared applications together in a flexible way.\\n\\nExplanation of difficult terms:\\n- Virtual appliances: Software tools for protecting or managing your network, like firewalls.\\n- Network path: The route that data takes across your network.\\n- Network virtual appliances: Virtual appliances used specifically for network functions.\\n- Availability: How often your network and its tools are working and ready to use.\\n- Scale: Making your network larger or smaller based on your needs.\\n- Tenants: Separate groups or users who share the same computer resources.\\n- Subscriptions: Different accounts or service plans in the system.'}},\n {'title': 'Configuration and supported scenarios',\n  'tag': 'h2',\n  'text': 'Configuration and supported scenarios A Standard Public Load Balancer or a Standard IP configuration of a virtual machine can be chained to a Gateway Load Balancer. \"Chaining\" refers to the load balancer frontend or NIC IP configuration containing a reference to a Gateway Load Balancer frontend IP configuration. Once the Gateway Load Balancer is chained to a consumer resource, no additional configuration such as UDRs is needed to ensure traffic to and from the application endpoint is sent to the Gateway Load Balancer. A Standard Public Load Balancer or a Standard IP configuration of a virtual machine can be chained to a Gateway Load Balancer. \"Chaining\" refers to the load balancer frontend or NIC IP configuration containing a reference to a Gateway Load Balancer frontend IP configuration. Once the Gateway Load Balancer is chained to a consumer resource, no additional configuration such as UDRs is needed to ensure traffic to and from the application endpoint is sent to the Gateway Load Balancer. Gateway Load Balancer supports both inbound and outbound traffic inspection. For inserting NVAs in the path of outbound traffic with Standard Load Balancer, Gateway Load Balancer must be chained to the frontend IP configurations selected in the configured outbound rules. Gateway Load Balancer supports both inbound and outbound traffic inspection. For inserting NVAs in the path of outbound traffic with Standard Load Balancer, Gateway Load Balancer must be chained to the frontend IP configurations selected in the configured outbound rules. Note Configuring a Gateway Load Balancer\\'s frontend IP as the next hop in user-defined routes (UDRs) is not supported. Gateway Load Balancer resources must be chained/referenced by a supported consumer resource such as a Standard Public Load Balancer or Standard NIC IP configuration. Note Note Configuring a Gateway Load Balancer\\'s frontend IP as the next hop in user-defined routes (UDRs) is not supported. Gateway Load Balancer resources must be chained/referenced by a supported consumer resource such as a Standard Public Load Balancer or Standard NIC IP configuration. Configuring a Gateway Load Balancer\\'s frontend IP as the next hop in user-defined routes (UDRs) is not supported. Gateway Load Balancer resources must be chained/referenced by a supported consumer resource such as a Standard Public Load Balancer or Standard NIC IP configuration.',\n  'images': [],\n  'img_alt': [],\n  'tables': [],\n  'codes': [],\n  'topic_difficult_terms': {'topic': 'Azure Gateway Load Balancer configuration and integration scenarios',\n   'purpose_of_document': 'To explain how to configure and connect (chain) Gateway Load Balancer with supported resources, including specific scenarios, requirements, and limitations for integrating it into Azure network architecture.',\n   'difficult_terms': ['Standard Public Load Balancer',\n    'Standard IP configuration',\n    'chaining',\n    'NIC IP configuration',\n    'consumer resource',\n    'UDRs',\n    'inbound and outbound traffic inspection',\n    'NVAs',\n    'frontend IP configurations',\n    'outbound rules',\n    'user-defined routes',\n    'Standard NIC IP configuration']},\n  'intermediate_level_text': {'new_simplified_text': \"A Standard Public Load Balancer or a Standard IP configuration on a virtual machine can be connected (chained) to a Gateway Load Balancer. Chaining means the load balancer's frontend or the network interface card's (NIC) IP configuration refers to the Gateway Load Balancer's frontend IP configuration.\\n\\nOnce the Gateway Load Balancer is chained to a resource, no extra setup like user-defined routes (UDRs) is needed—traffic to and from the application will automatically go through the Gateway Load Balancer.\\n\\nGateway Load Balancer supports inspection of both inbound (incoming) and outbound (outgoing) network traffic. To insert network virtual appliances (NVAs) for outbound traffic using a Standard Load Balancer, the Gateway Load Balancer must be chained to the frontend IP configurations specified in the outbound rules.\\n\\nYou cannot use the Gateway Load Balancer’s frontend IP as the next hop in user-defined routes (UDRs). Gateway Load Balancer resources must only be chained or referenced by supported resources, such as a Standard Public Load Balancer or a Standard NIC IP configuration.\"},\n  'beginner_level_text': {'new_simplified_text': 'You can connect a Standard Public Load Balancer or the Standard IP configuration of a virtual machine to a Gateway Load Balancer. This is called \"chaining.\"\\n\\nChaining means you set the load balancer\\'s or the virtual machine\\'s network card (NIC) settings to refer to the Gateway Load Balancer\\'s frontend IP configuration. After you connect (chain) these, you do not need any extra set-up like adding user-defined routes (UDRs) to make sure data goes through the Gateway Load Balancer.\\n\\nThe Gateway Load Balancer works for both incoming (inbound) and outgoing (outbound) network traffic. To manage outbound traffic with network appliances (NVAs) and a Standard Load Balancer, you must chain the Gateway Load Balancer to the frontend IP that you pick in your outbound rules.\\n\\nImportant: You cannot set a Gateway Load Balancer’s frontend IP as the next hop in user-defined routes (UDRs). You must always connect the Gateway Load Balancer by referencing it in a supported resource, such as a Standard Public Load Balancer or a Standard NIC IP configuration.\\n\\nTerms explained:\\n- Standard Public Load Balancer: A service that distributes internet traffic among your resources.\\n- Standard IP configuration: The internet address settings for your virtual machines or load balancers.\\n- Chaining: Linking one service to another so that network traffic passes through both.\\n- NIC IP configuration: The settings for the network card (NIC) in a virtual machine, which control its network addresses.\\n- Consumer resource: The actual resource (like a load balancer or virtual machine) that connects to and uses the Gateway Load Balancer.\\n- UDRs (user-defined routes): Custom routes you create to control how traffic moves in your network.\\n- Inbound and outbound traffic inspection: Checking and possibly filtering information coming into or leaving your network.\\n- NVAs (network virtual appliances): Special virtual devices, like firewalls or security tools, to manage or secure network traffic.\\n- Frontend IP configurations: The public-facing addresses that send or receive network traffic.\\n- Outbound rules: Settings for managing how information leaves your network.\\n- Standard NIC IP configuration: The network card settings for a virtual machine.'}},\n {'title': 'Data path diagram',\n  'tag': 'h2',\n  'text': 'Data path diagram With Gateway Load Balancer, traffic intended for the consumer application through a Standard Load Balancer will be encapsulated with VXLAN headers and forwarded first to the Gateway Load Balancer and its configured NVAs in the backend pool. The traffic then returns to the consumer resource (in this case a Standard Load Balancer) and arrives at the consumer application virtual machines with its source IP preserved. The consumer virtual network and provider virtual network can be in different subscriptions or tenants, reducing management overhead. With Gateway Load Balancer, traffic intended for the consumer application through a Standard Load Balancer will be encapsulated with VXLAN headers and forwarded first to the Gateway Load Balancer and its configured NVAs in the backend pool. The traffic then returns to the consumer resource (in this case a Standard Load Balancer) and arrives at the consumer application virtual machines with its source IP preserved. The consumer virtual network and provider virtual network can be in different subscriptions or tenants, reducing management overhead. Figure: Diagram of gateway load balancer. Figure: Diagram of gateway load balancer. Figure: Diagram of gateway load balancer.',\n  'images': ['<img alt=\"Diagram of gateway load balancer\" data-linktype=\"relative-path\" src=\"media/gateway-overview/gateway-load-balancer-diagram.png\"/>',\n   '<img alt=\"Diagram of gateway load balancer\" data-linktype=\"relative-path\" src=\"media/gateway-overview/gateway-load-balancer-diagram.png\"/>',\n   '<img alt=\"Diagram of gateway load balancer\" data-linktype=\"relative-path\" src=\"media/gateway-overview/gateway-load-balancer-diagram.png\"/>'],\n  'img_alt': ['Diagram of gateway load balancer',\n   'Diagram of gateway load balancer',\n   'Diagram of gateway load balancer'],\n  'tables': [],\n  'codes': [],\n  'topic_difficult_terms': {'topic': 'Azure Gateway Load Balancer',\n   'purpose_of_document': 'To explain the features, configuration, operations, and scenarios of use for Azure Gateway Load Balancer, and help users understand its functionality and deployment.',\n   'difficult_terms': ['Standard Load Balancer',\n    'VXLAN headers',\n    'Gateway Load Balancer',\n    'NVAs',\n    'backend pool',\n    'consumer resource',\n    'source IP preserved',\n    'consumer virtual network',\n    'provider virtual network',\n    'subscriptions',\n    'tenants',\n    'management overhead']},\n  'intermediate_level_text': {'new_simplified_text': 'When using Gateway Load Balancer, traffic meant for the consumer application is first sent through a Standard Load Balancer, where it is wrapped with VXLAN headers. This traffic is then forwarded to the Gateway Load Balancer and its configured Network Virtual Appliances (NVAs) in the backend pool. Once processed by the NVAs, the traffic is sent back to the Standard Load Balancer and finally reaches the consumer application virtual machines, keeping the original source IP address unchanged.\\n\\nThe consumer virtual network and the provider virtual network can belong to different subscriptions or tenants, which helps reduce management effort.\\n\\nRefer to the diagram for a visual overview of how Gateway Load Balancer controls traffic flow.'},\n  'beginner_level_text': {'new_simplified_text': 'This section explains how data moves when you use a Gateway Load Balancer in Azure.\\n\\nWhen someone wants to use your application, their request first goes through a Standard Load Balancer. This device helps spread the traffic across different servers.\\n\\nBefore the traffic reaches your app, it gets bundled up using something called VXLAN headers—this is like putting it in a special envelope so it can be handled safely.\\n\\nThe packaged traffic is then sent to the Gateway Load Balancer, which uses special devices called Network Virtual Appliances (NVAs) to scan, protect, or filter the data. These NVAs are grouped together in a “backend pool.”\\n\\nAfter the NVAs have checked the traffic, it is sent back to the Standard Load Balancer and then to the computers running your app (virtual machines). The information about who sent the request (the source IP) stays unchanged.\\n\\nThe network where your app runs and the network containing the NVAs do not have to be in the same subscription or Azure tenant. This means different teams or organizations can work together more easily, and managing everything is simpler.\\n\\nRefer to the diagram below to see how these parts connect.'}},\n {'title': 'Components',\n  'tag': 'h2',\n  'text': 'Components Gateway Load Balancer consists of the following components: Gateway Load Balancer consists of the following components: Frontend IP configuration - The IP address of your Gateway Load Balancer. This IP is private only. Load-balancing rules - A load balancer rule is used to define how incoming traffic is distributed toâ\\x80¯allâ\\x80¯the instances within the backend pool. A load-balancing rule maps a given frontend IP configuration and port to multiple backend IP addresses and ports. Gateway Load Balancer rules can only be HA port rules. A Gateway Load Balancer rule can be associated with up to two backend pools. Backend pool(s) - The group of virtual machines or instances in a Virtual Machine Scale Set that is serving the incoming request. To scale cost-effectively to meet high volumes of incoming traffic, computing guidelines generally recommend adding more instances to the backend pool. Load Balancer instantly reconfigures itself via automatic reconfiguration when you scale instances up or down. Adding or removing VMs from the backend pool reconfigures the load balancer without extra operations. The scope of the backend pool is any virtual machine in a single virtual network. Tunnel interfaces - Gateway Load balancer backend pools have another component called the tunnel interfaces. The tunnel interface enables the appliances in the backend to ensure network flows are handled as expected. Each backend pool can have up to two tunnel interfaces. Tunnel interfaces can be either internal or external. For traffic coming to your backend pool, you should use the external type. For traffic going from your appliance to the application, you should use the internal type. Chain - A Gateway Load Balancer can be referenced by a Standard Public Load Balancer frontend or a Standard Public IP configuration on a virtual machine. The addition of advanced networking capabilities in a specific sequence is known as service chaining. As a result, this reference is called a chain. A Cross tenant chain involves chaining a Load Balancer frontend or Public IP configuration to a Gateway Load Balancer that is in another subscription. For cross tenant chaining, users need: Permission for the resource provider operation Microsoft.Network/loadBalancers/frontendIPConfigurations/join/action . Guest access to the subscription of the Gateway Load Balancer. Frontend IP configuration - The IP address of your Gateway Load Balancer. This IP is private only. Frontend IP configuration - The IP address of your Gateway Load Balancer. This IP is private only. Frontend IP configuration Frontend IP configuration - The IP address of your Gateway Load Balancer. This IP is private only. Load-balancing rules - A load balancer rule is used to define how incoming traffic is distributed toâ\\x80¯allâ\\x80¯the instances within the backend pool. A load-balancing rule maps a given frontend IP configuration and port to multiple backend IP addresses and ports. Gateway Load Balancer rules can only be HA port rules. A Gateway Load Balancer rule can be associated with up to two backend pools. Load-balancing rules - A load balancer rule is used to define how incoming traffic is distributed toâ\\x80¯allâ\\x80¯the instances within the backend pool. A load-balancing rule maps a given frontend IP configuration and port to multiple backend IP addresses and ports. Load-balancing rules Load-balancing rules - A load balancer rule is used to define how incoming traffic is distributed toâ\\x80¯allâ\\x80¯the instances within the backend pool. A load-balancing rule maps a given frontend IP configuration and port to multiple backend IP addresses and ports. Gateway Load Balancer rules can only be HA port rules. A Gateway Load Balancer rule can be associated with up to two backend pools. Gateway Load Balancer rules can only be HA port rules. Gateway Load Balancer rules can only be HA port rules. Gateway Load Balancer rules can only be HA port rules. A Gateway Load Balancer rule can be associated with up to two backend pools. A Gateway Load Balancer rule can be associated with up to two backend pools. A Gateway Load Balancer rule can be associated with up to two backend pools. Backend pool(s) - The group of virtual machines or instances in a Virtual Machine Scale Set that is serving the incoming request. To scale cost-effectively to meet high volumes of incoming traffic, computing guidelines generally recommend adding more instances to the backend pool. Load Balancer instantly reconfigures itself via automatic reconfiguration when you scale instances up or down. Adding or removing VMs from the backend pool reconfigures the load balancer without extra operations. The scope of the backend pool is any virtual machine in a single virtual network. Backend pool(s) - The group of virtual machines or instances in a Virtual Machine Scale Set that is serving the incoming request. To scale cost-effectively to meet high volumes of incoming traffic, computing guidelines generally recommend adding more instances to the backend pool. Load Balancer instantly reconfigures itself via automatic reconfiguration when you scale instances up or down. Adding or removing VMs from the backend pool reconfigures the load balancer without extra operations. The scope of the backend pool is any virtual machine in a single virtual network. Backend pool(s) Backend pool(s) - The group of virtual machines or instances in a Virtual Machine Scale Set that is serving the incoming request. To scale cost-effectively to meet high volumes of incoming traffic, computing guidelines generally recommend adding more instances to the backend pool. Load Balancer instantly reconfigures itself via automatic reconfiguration when you scale instances up or down. Adding or removing VMs from the backend pool reconfigures the load balancer without extra operations. The scope of the backend pool is any virtual machine in a single virtual network. Tunnel interfaces - Gateway Load balancer backend pools have another component called the tunnel interfaces. The tunnel interface enables the appliances in the backend to ensure network flows are handled as expected. Each backend pool can have up to two tunnel interfaces. Tunnel interfaces can be either internal or external. For traffic coming to your backend pool, you should use the external type. For traffic going from your appliance to the application, you should use the internal type. Tunnel interfaces - Gateway Load balancer backend pools have another component called the tunnel interfaces. The tunnel interface enables the appliances in the backend to ensure network flows are handled as expected. Each backend pool can have up to two tunnel interfaces. Tunnel interfaces can be either internal or external. For traffic coming to your backend pool, you should use the external type. For traffic going from your appliance to the application, you should use the internal type. Tunnel interfaces Tunnel interfaces - Gateway Load balancer backend pools have another component called the tunnel interfaces. The tunnel interface enables the appliances in the backend to ensure network flows are handled as expected. Each backend pool can have up to two tunnel interfaces. Tunnel interfaces can be either internal or external. For traffic coming to your backend pool, you should use the external type. For traffic going from your appliance to the application, you should use the internal type. Chain - A Gateway Load Balancer can be referenced by a Standard Public Load Balancer frontend or a Standard Public IP configuration on a virtual machine. The addition of advanced networking capabilities in a specific sequence is known as service chaining. As a result, this reference is called a chain. A Cross tenant chain involves chaining a Load Balancer frontend or Public IP configuration to a Gateway Load Balancer that is in another subscription. For cross tenant chaining, users need: Permission for the resource provider operation Microsoft.Network/loadBalancers/frontendIPConfigurations/join/action . Guest access to the subscription of the Gateway Load Balancer. Chain - A Gateway Load Balancer can be referenced by a Standard Public Load Balancer frontend or a Standard Public IP configuration on a virtual machine. The addition of advanced networking capabilities in a specific sequence is known as service chaining. As a result, this reference is called a chain. A Cross tenant chain involves chaining a Load Balancer frontend or Public IP configuration to a Gateway Load Balancer that is in another subscription. For cross tenant chaining, users need: Chain Chain - A Gateway Load Balancer can be referenced by a Standard Public Load Balancer frontend or a Standard Public IP configuration on a virtual machine. The addition of advanced networking capabilities in a specific sequence is known as service chaining. As a result, this reference is called a chain. A Cross tenant chain involves chaining a Load Balancer frontend or Public IP configuration to a Gateway Load Balancer that is in another subscription. For cross tenant chaining, users need: Permission for the resource provider operation Microsoft.Network/loadBalancers/frontendIPConfigurations/join/action . Guest access to the subscription of the Gateway Load Balancer. Permission for the resource provider operation Microsoft.Network/loadBalancers/frontendIPConfigurations/join/action . Permission for the resource provider operation Microsoft.Network/loadBalancers/frontendIPConfigurations/join/action Microsoft.Network/loadBalancers/frontendIPConfigurations/join/action. Guest access to the subscription of the Gateway Load Balancer. Guest access to the subscription of the Gateway Load Balancer.',\n  'images': [],\n  'img_alt': [],\n  'tables': [],\n  'codes': ['<code>Microsoft.Network/loadBalancers/frontendIPConfigurations/join/action</code>',\n   '<code>Microsoft.Network/loadBalancers/frontendIPConfigurations/join/action</code>',\n   '<code>Microsoft.Network/loadBalancers/frontendIPConfigurations/join/action</code>',\n   '<code>Microsoft.Network/loadBalancers/frontendIPConfigurations/join/action</code>',\n   '<code>Microsoft.Network/loadBalancers/frontendIPConfigurations/join/action</code>'],\n  'topic_difficult_terms': {'topic': 'Azure Gateway Load Balancer components and configuration',\n   'purpose_of_document': 'To explain the individual components that make up the Azure Gateway Load Balancer and how they interact within a network environment.',\n   'difficult_terms': ['Frontend IP configuration',\n    'Load-balancing rules',\n    'backend pool',\n    'Virtual Machine Scale Set',\n    'automatic reconfiguration',\n    'virtual network',\n    'Tunnel interfaces',\n    'internal/external tunnel interfaces',\n    'service chaining',\n    'Cross tenant chain',\n    'resource provider operation',\n    'Microsoft.Network/loadBalancers/frontendIPConfigurations/join/action',\n    'Guest access to the subscription']},\n  'intermediate_level_text': {'new_simplified_text': 'Gateway Load Balancer includes several key components:\\n\\n- Frontend IP configuration: This is the private IP address assigned to your Gateway Load Balancer. All frontend IPs for the Gateway Load Balancer are private only.\\n\\n- Load-balancing rules: These rules decide how incoming traffic is distributed among the backend pool’s virtual machines (VMs) or instances. Each rule maps a frontend IP address and port to backend IP addresses and ports. Gateway Load Balancer only supports HA port rules, and each rule can be connected to up to two backend pools.\\n\\n- Backend pool(s): These are groups of VMs or Virtual Machine Scale Set instances that process traffic. To manage high traffic, you can add more instances to the backend pool, and the Load Balancer will automatically update itself without extra steps. All pool members must be in the same virtual network.\\n\\n- Tunnel interfaces: Backend pools can have up to two tunnel interfaces, which ensure traffic flows as expected through the appliances. There are two types: external (for traffic going into the backend pool) and internal (for traffic going from the appliance to your application).\\n\\n- Chain: A Gateway Load Balancer can be referenced by a Standard Public Load Balancer frontend or a Standard Public IP configuration on a VM. Setting up features in a specific order like this is called service chaining. If you want to chain across subscriptions or tenants, you’ll need special permissions (Microsoft.Network/loadBalancers/frontendIPConfigurations/join/action) and guest access to the Gateway Load Balancer’s subscription.'},\n  'beginner_level_text': {'new_simplified_text': \"Gateway Load Balancer includes several main parts. Here’s what each part does:\\n\\n1. Frontend IP configuration: This is the private IP address dedicated to your Gateway Load Balancer. Only resources in your private network can use this address.\\n\\n2. Load-balancing rules: These rules control how the incoming traffic is spread out to the computers (called 'instances') in a group known as the backend pool. Gateway Load Balancer only uses a special type called HA port rules to make sure the traffic handling remains reliable, even when some parts fail. Each rule can distribute traffic to up to two backend pools.\\n\\n3. Backend pool: This is a group of virtual computers that process the requests sent through the load balancer. As your traffic increases or decreases, you can easily add or remove computers. The load balancer updates itself automatically to match changes. All computers in a backend pool must be in the same private (virtual) network.\\n\\n4. Tunnel interfaces: These act as special traffic gateways for network flows between the Gateway Load Balancer and backend pool. Each backend pool can have up to two tunnel interfaces. There are two kinds:\\n   - External: For traffic entering your backend pool.\\n   - Internal: For traffic your appliance sends out to your application.\\n\\n5. Chain (service chaining): Sometimes, your network traffic needs to pass through multiple tools (like firewalls or monitoring devices) in a certain order. This setup is called a 'chain' or 'service chaining.' If you want this chain to include tools from different Azure accounts (cross-tenant), you need special permissions (called 'resource provider operation') and guest access to the other account.\\n\\nHelpful Terms:\\n- 'Virtual Machine Scale Set': a group of virtual machines (computers) you can easily grow or shrink.\\n- 'Automatic reconfiguration': the system adjusts itself automatically when you add or remove computers.\\n- 'Virtual network': your private network where all your resources connect and work together.\"}},\n {'title': 'Pricing',\n  'tag': 'h2',\n  'text': 'Pricing For pricing, see Load Balancer pricing . For pricing, see Load Balancer pricing Load Balancer pricing.',\n  'images': [],\n  'img_alt': [],\n  'tables': [],\n  'codes': [],\n  'topic_difficult_terms': {'topic': 'Azure Gateway Load Balancer',\n   'purpose_of_document': 'To provide information and guidance about the features, benefits, configuration, and usage scenarios of Azure Gateway Load Balancer.',\n   'difficult_terms': ['Load Balancer pricing']},\n  'intermediate_level_text': {'new_simplified_text': 'For pricing details, see the Load Balancer pricing page.'},\n  'beginner_level_text': {'new_simplified_text': 'To find out how much the Azure Gateway Load Balancer costs, go to the Load Balancer pricing page. All the pricing information for this service is available there.'}},\n {'title': 'Limitations',\n  'tag': 'h2',\n  'text': \"Limitations Gateway Load Balancer doesn't work with the Global Load Balancer tier. Cross-tenant chaining isn't supported through the Azure portal. Gateway Load Balancer doesn't work with the Global Load Balancer tier. Gateway Load Balancer doesn't work with the Global Load Balancer tier. Cross-tenant chaining isn't supported through the Azure portal. Cross-tenant chaining isn't supported through the Azure portal.\",\n  'images': [],\n  'img_alt': [],\n  'tables': [],\n  'codes': [],\n  'topic_difficult_terms': {'topic': 'Azure Gateway Load Balancer',\n   'purpose_of_document': 'To provide technical documentation and guidance for using Azure Gateway Load Balancer, including its benefits, components, configuration, and limitations.',\n   'difficult_terms': ['Global Load Balancer tier',\n    'Cross-tenant chaining',\n    'Azure portal']},\n  'intermediate_level_text': {'new_simplified_text': 'Limitations\\n\\nGateway Load Balancer does not work with the Global Load Balancer tier.\\n\\nCross-tenant chaining is not supported through the Azure portal.'},\n  'beginner_level_text': {'new_simplified_text': 'Here are some things that Azure Gateway Load Balancer cannot do:\\n\\n- It cannot be used with the Global Load Balancer tier. This means you cannot connect it with the special Azure service that balances internet traffic across worldwide regions.\\n- You cannot set up cross-tenant chaining using the Azure portal. This means you cannot link services from different Azure accounts or groups using the Azure website. Cross-tenant chaining is when you route network traffic between different account groups in Azure. The Azure portal is the website used to manage Azure services.'}},\n {'title': 'Next steps',\n  'tag': 'h2',\n  'text': 'Next steps See Create a Gateway Load Balancer using the Azure portal to create a gateway load balancer. Learn how to use Gateway Load Balancer for outbound connectivity scenarios . Learn more about Azure Load Balancer . See Create a Gateway Load Balancer using the Azure portal to create a gateway load balancer. See Create a Gateway Load Balancer using the Azure portal Create a Gateway Load Balancer using the Azure portal to create a gateway load balancer. Learn how to use Gateway Load Balancer for outbound connectivity scenarios . Learn how to use Gateway Load Balancer for outbound connectivity scenarios Gateway Load Balancer for outbound connectivity scenarios. Learn more about Azure Load Balancer . Learn more about Azure Load Balancer Azure Load Balancer. feedback section Feedback Was this page helpful? Yes No Provide product feedback | Get help at Microsoft Q&A',\n  'images': [],\n  'img_alt': [],\n  'tables': [],\n  'codes': [],\n  'topic_difficult_terms': {'topic': 'Azure Gateway Load Balancer',\n   'purpose_of_document': 'To explain the features, configuration, benefits, limitations, and next steps for using Azure Gateway Load Balancer, targeting users planning to deploy or manage high performance and high availability network virtual appliances in Azure.',\n   'difficult_terms': ['Gateway Load Balancer',\n    'Azure portal',\n    'outbound connectivity scenarios',\n    'Azure Load Balancer']},\n  'intermediate_level_text': {'new_simplified_text': 'Next steps\\n\\n- To create a Gateway Load Balancer, see the instructions for using the Azure portal.\\n- Learn how to use Gateway Load Balancer for handling outbound network traffic.\\n- Find more details by reading about Azure Load Balancer.\\n\\nFeedback section:\\nWas this page helpful? Yes / No\\nYou can provide product feedback or get help at Microsoft Q&A.'},\n  'beginner_level_text': {'new_simplified_text': 'Next steps\\n\\nTo learn more and get started, you can find helpful guides and instructions:\\n\\n- Learn how to create a Gateway Load Balancer using the Azure portal (Microsoft\\'s website for managing cloud resources).\\n- Discover how to use Gateway Load Balancer for situations where your Azure resources need to connect to the internet or other outside networks (these are called outbound connectivity scenarios).\\n- Find more information about Azure Load Balancer, which is another tool in Azure for managing and balancing application traffic.\\n\\nDefinitions:\\n- \"Gateway Load Balancer\" is a tool in Microsoft\\'s Azure cloud system that helps keep your applications running smoothly by directing network traffic through different network devices, including security and monitoring tools.\\n- \"Azure portal\" is the website where you set up and control your Azure services.\\n- \"Outbound connectivity scenarios\" mean cases where something in Azure needs to reach outside resources like the internet.\\n- \"Azure Load Balancer\" is a tool that spreads out incoming app traffic to help ensure your services are reliable and available.\\n\\nYou can also let Microsoft know if this page was helpful, or ask questions and get assistance on Microsoft Q&A.'}},\n {'title': 'Feedback',\n  'tag': 'h2',\n  'text': 'Feedback Was this page helpful? Yes No Was this page helpful? Was this page helpful? Yes No Yes Yes Yes No No No Provide product feedback | Get help at Microsoft Q&A Provide product feedback Provide product feedback Provide product feedback | | Get help at Microsoft Q&A Get help at Microsoft Q&A Get help at Microsoft Q&A end feedback section Additional resources',\n  'images': [],\n  'img_alt': [],\n  'tables': [],\n  'codes': [],\n  'topic_difficult_terms': {'topic': 'Azure Gateway Load Balancer',\n   'purpose_of_document': 'To provide technical information, configuration instructions, and support resources for users of Azure Gateway Load Balancer.',\n   'difficult_terms': ['product feedback', 'Microsoft Q&A']},\n  'intermediate_level_text': {'new_simplified_text': 'Was this page helpful? \\nYes  No\\n\\nYou can provide product feedback or get help at Microsoft Q&A.\\n\\nAdditional resources'},\n  'beginner_level_text': {'new_simplified_text': 'Feedback\\n\\nWas this page helpful?\\n- Yes\\n- No\\n\\nYou can provide your feedback about this product. If you need assistance, visit the Microsoft Q&A website where you can ask questions and receive answers about Microsoft products.\\n\\nEnd of feedback section.\\n\\nAdditional resources'}},\n {'title': 'Additional resources',\n  'tag': 'h2',\n  'text': 'Additional resources In this article Additional resources In this article Additional resources In this article Additional resources In this article In this article In this article Additional resources Additional resources Additional resources en-us Your Privacy Choices Theme Light Dark High contrast Previous Versions Blog Contribute Privacy Terms of Use Trademarks © Microsoft 2025 en-us Your Privacy Choices Theme Light Dark High contrast Previous Versions Blog Contribute Privacy Terms of Use Trademarks © Microsoft 2025 en-us Your Privacy Choices Theme Light Dark High contrast en-us en-us en-us Your Privacy Choices Your Privacy Choices Your Privacy Choices Your Privacy Choices Theme Light Dark High contrast Theme Light Dark High contrast Theme Theme Theme Light Dark High contrast Light Dark High contrast Light Light Light Light Dark Dark Dark Dark High contrast High contrast High contrast High contrast Previous Versions Blog Contribute Privacy Terms of Use Trademarks © Microsoft 2025 Previous Versions Previous Versions Previous Versions Blog Blog Blog Contribute Contribute Contribute Privacy Privacy Privacy Terms of Use Terms of Use Terms of Use Trademarks Trademarks Trademarks © Microsoft 2025 © Microsoft 2025',\n  'images': [],\n  'img_alt': [],\n  'tables': [],\n  'codes': [],\n  'topic_difficult_terms': {'topic': 'Azure Gateway Load Balancer',\n   'purpose_of_document': 'To provide an overview and technical documentation for Gateway Load Balancer, a component in the Azure Load Balancer portfolio, including its features, configuration, benefits, limitations, and related resources.',\n   'difficult_terms': []},\n  'intermediate_level_text': {'new_simplified_text': 'Additional resources\\n\\nFor more information, see the resources listed in this article.\\n\\nYou can also explore the following:\\n- Previous versions of documentation\\n- Blog articles\\n- Ways to contribute\\n- Privacy policies\\n- Terms of use\\n- Trademarks\\n\\nYou can also adjust your privacy and accessibility settings, such as theme (light, dark, high contrast).\\n\\n© Microsoft 2025'},\n  'beginner_level_text': {'new_simplified_text': 'This section provides additional links and helpful resources related to the Azure Gateway Load Balancer. You can also adjust how the page appears by choosing between light or dark themes and high contrast options. Information about your privacy choices, older documentation versions, and the Microsoft blog is included. At the bottom of the page, you will find details about privacy policies, terms of use, and trademarks.'}}]"
          },
          "metadata": {}
        }
      ],
      "execution_count": 21,
      "metadata": {
        "gather": {
          "logged": 1750988430999
        }
      }
    },
    {
      "cell_type": "code",
      "source": [
        "kyle_format_easy = []\n",
        "\n",
        "for i, section in enumerate(sections):\n",
        "    \n",
        "    temp = {}\n",
        "    temp[\"id\"] = f\"section-{i}\"\n",
        "    temp[\"title\"] = section[\"title\"]\n",
        "    \n",
        "    content = []\n",
        "    content.append({\"type\" : \"paragraph\", \"text\" : [section[\"beginner_level_text\"]]})\n",
        "\n",
        "    temp[\"content\"] = content\n",
        "\n",
        "    kyle_format_easy.append(temp)"
      ],
      "outputs": [],
      "execution_count": null,
      "metadata": {
        "gather": {
          "logged": 1750988130893
        }
      }
    },
    {
      "cell_type": "code",
      "source": [
        "kyle_format_easy"
      ],
      "outputs": [],
      "execution_count": null,
      "metadata": {
        "gather": {
          "logged": 1750988130904
        }
      }
    },
    {
      "cell_type": "code",
      "source": [
        "kyle_format_intermediate = []\n",
        "\n",
        "for i, section in enumerate(sections):\n",
        "    \n",
        "    temp = {}\n",
        "    temp[\"id\"] = f\"section-{i}\"\n",
        "    temp[\"title\"] = section[\"title\"]\n",
        "    \n",
        "    content = []\n",
        "    content.append({\"type\" : \"paragraph\", \"text\" : [section[\"beginner_level_text\"]]})\n",
        "\n",
        "    temp[\"content\"] = content\n",
        "\n",
        "    kyle_format_intermediate.append(temp)"
      ],
      "outputs": [],
      "execution_count": null,
      "metadata": {
        "gather": {
          "logged": 1750988130919
        }
      }
    },
    {
      "cell_type": "code",
      "source": [
        "kyle_format_intermediate"
      ],
      "outputs": [],
      "execution_count": null,
      "metadata": {
        "gather": {
          "logged": 1750988130937
        }
      }
    }
  ],
  "metadata": {
    "kernelspec": {
      "name": "python38-azureml",
      "language": "python",
      "display_name": "Python 3.10 - AzureML"
    },
    "language_info": {
      "name": "python",
      "version": "3.10.11",
      "mimetype": "text/x-python",
      "codemirror_mode": {
        "name": "ipython",
        "version": 3
      },
      "pygments_lexer": "ipython3",
      "nbconvert_exporter": "python",
      "file_extension": ".py"
    },
    "microsoft": {
      "ms_spell_check": {
        "ms_spell_check_language": "en"
      },
      "host": {
        "AzureML": {
          "notebookHasBeenCompleted": true
        }
      }
    },
    "kernel_info": {
      "name": "python38-azureml"
    },
    "nteract": {
      "version": "nteract-front-end@1.0.0"
    }
  },
  "nbformat": 4,
  "nbformat_minor": 2
}