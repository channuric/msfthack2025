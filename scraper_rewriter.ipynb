{
  "cells": [
    {
      "cell_type": "markdown",
      "source": [
        "#### Scraping"
      ],
      "metadata": {
        "nteract": {
          "transient": {
            "deleting": false
          }
        }
      }
    },
    {
      "cell_type": "code",
      "source": [
        "import requests\n",
        "from bs4 import BeautifulSoup\n",
        "\n",
        "\n",
        "def scrape_sections(url):\n",
        "    \"\"\"\n",
        "    Fetch URL, parse its main content, and split into sections at the first <h1> then each <h2>.\n",
        "    Returns a list of dicts:\n",
        "      [\n",
        "        {\n",
        "          \"title\" : \"Heading Text\",\n",
        "             \"tag\": \"h1\"|\"h2\",\n",
        "             \"text\": \"...plain text under heading...\",\n",
        "             \"html\": \"...raw HTML under heading...\",\n",
        "             \"images\": [...all img src...],\n",
        "             \"tables\": [...all <table>...</table>...]\n",
        "          \n",
        "        },\n",
        "        ...\n",
        "      ]\n",
        "    \"\"\"\n",
        "    # 1) Fetch + parse\n",
        "    resp = requests.get(url)\n",
        "    resp.raise_for_status()\n",
        "    soup = BeautifulSoup(resp.text, \"html.parser\")\n",
        "    \n",
        "    # 2) Locate main content\n",
        "    main = (\n",
        "        soup.find(\"main\")\n",
        "        or soup.find(id=\"main\")\n",
        "        # or soup.find(\"article\")\n",
        "        or soup.find(\"content\")\n",
        "        or soup.body\n",
        "    )\n",
        "    if main is None:\n",
        "        return []\n",
        "    \n",
        "    # 3) Gather only the first <h1> and then all <h2> that follow it\n",
        "    all_heads = main.find_all([\"h1\", \"h2\"])\n",
        "    sections = []\n",
        "    seen_h1 = False\n",
        "    for tag in all_heads:\n",
        "        if tag.name == \"h1\" and not seen_h1:\n",
        "            sections.append(tag)\n",
        "            seen_h1 = True\n",
        "        elif tag.name == \"h2\" and seen_h1:\n",
        "            sections.append(tag)\n",
        "    \n",
        "    # 4) Slice out each section’s content\n",
        "    output = []\n",
        "    for idx, heading in enumerate(sections):\n",
        "        # determine where this section ends\n",
        "        end_tag = sections[idx + 1] if idx + 1 < len(sections) else None\n",
        "        \n",
        "        # collect all nodes until the next heading\n",
        "        content_nodes = []\n",
        "        for sib in heading.next_siblings:\n",
        "            if sib == end_tag:\n",
        "                break\n",
        "            content_nodes.append(sib)\n",
        "        \n",
        "        # build a mini-soup of just that section\n",
        "        section_html = \"\".join(str(n) for n in content_nodes)\n",
        "        section_soup = BeautifulSoup(section_html, \"html.parser\")\n",
        "        \n",
        "        # extract fields\n",
        "        heading_text = heading.get_text(strip=True)\n",
        "        plain_text   = section_soup.get_text(separator=\" \", strip=True)\n",
        "        img_alt  = [str(alt) for alt in section_soup.find_all(\"img\", alt=True)]\n",
        "        images       = [str(img) for img in section_soup.find_all(\"img\")]\n",
        "        tables       = [str(tbl) for tbl in section_soup.find_all(\"table\")]\n",
        "        codes = [str(code) for code in section_soup.find_all(\"code\")]\n",
        "        \n",
        "        \n",
        "        info = {\n",
        "            \"id\" : 'section-' + str(idx),\n",
        "            \"title\" : heading_text,\n",
        "            'content' : [{\"type\":    heading.name, \"text\":   plain_text}],\n",
        "            \"html\":   section_html,\n",
        "            \"images\": images,\n",
        "            \"img_alt\" : img_alt,\n",
        "            \"tables\": tables,\n",
        "            \"codes\" : codes\n",
        "        }\n",
        "        # output.append({ heading_text: info })\n",
        "        output.append(info)\n",
        "    \n",
        "    return output\n"
      ],
      "outputs": [],
      "execution_count": 119,
      "metadata": {
        "gather": {
          "logged": 1750989972318
        }
      }
    },
    {
      "cell_type": "code",
      "source": [
        "sections = scrape_sections(\"https://learn.microsoft.com/en-us/azure/load-balancer/gateway-overview\")"
      ],
      "outputs": [],
      "execution_count": 124,
      "metadata": {
        "gather": {
          "logged": 1750990227293
        }
      }
    },
    {
      "cell_type": "markdown",
      "source": [
        "#### Adding Difficulty Info to Scraped Data"
      ],
      "metadata": {
        "nteract": {
          "transient": {
            "deleting": false
          }
        }
      }
    },
    {
      "cell_type": "code",
      "source": [
        "def difficulty(sections):\n",
        "\n",
        "\n",
        "    full_webpage_text = \"\\n\\n\".join([\n",
        "        f\"{section['title']}\\n{section['content'][0]['text']}\"\n",
        "        for section in sections\n",
        "    ])\n",
        "\n",
        "\n",
        "\n",
        "    difficulty_detection_prompt = \"\"\"You are a 'difficultly detection' LLm. You are a component of a larger process designed to simplifiy texts. \n",
        "\n",
        "        ## Context\n",
        "        ### The first LLM of this process is to identify the topic as well as difficult terms and the purpose of the document, the next LLM revises the text based on the user's expertise in the field to make it more comprehensible and easier to read, and the last LLM iteratively improves on the summarization to ensure certain quality requirements are met. \n",
        "\n",
        "        **You are the first step in this process, and so your job is to identify the topic and the difficult terms and the overall purpose of the document.**\n",
        "\n",
        "        ## Instructions\n",
        "        - You will be provided two bits of information: The full webpage text where the chunk comes from, and the specific text chunk that will later be summarized.\n",
        "\n",
        "        - You may also be given the alternate text for images or tables if those were present in the section chunk. If those are empty, assume there were no images or tables.\n",
        "\n",
        "        - **Generate the difficult terms from the text chink. If the tables or alternate image text are available, consider them as part of the text chunk, and use them for listing the difficult terms as well**\n",
        "\n",
        "        - **Use the full webpage text to detemine the topic. DO NOT USE IT FOR THE DIFFICULT TERMS LIST. Also use the full webpage text to determine the purpose of the text.**\n",
        "\n",
        "        - Format your response as a valid JSON string, where strings are wrapped in double quotes, using backslash escapes.\n",
        "\n",
        "        **Structure your response according to the following template: {{\"topic\" : \"__topic__\", \"purpose_of_document\" : \"__purpose__\", \"difficult_terms\" : []}}**\n",
        "\n",
        "        The topic and purpose must be returned as strings, and the difficult terms must be a list of just the terms. Do not include any other information.\n",
        "\n",
        "        \"\"\"\n",
        "\n",
        "    token = DefaultAzureCredential().get_token(\"https://cognitiveservices.azure.com/.default\").token\n",
        "    \n",
        "    endpoint = \"https://aoai-l-eastus2.openai.azure.com/\"\n",
        "    model_name = \"gpt-4.1\"\n",
        "    deployment_name = \"gpt-4.1\"\n",
        "    api_version = \"2024-12-01-preview\"\n",
        "    \n",
        "    llm = AzureOpenAI(\n",
        "        api_version=api_version,\n",
        "        azure_endpoint=endpoint,\n",
        "        api_key=token,\n",
        "    )\n",
        "\n",
        "\n",
        "\n",
        "    for section in sections:\n",
        "        specific_text = section['content'][0]['text']\n",
        "        tables = section[\"tables\"]\n",
        "        image_alt_text = section[\"img_alt\"]\n",
        "\n",
        "        response = llm.chat.completions.create(\n",
        "        model= deployment_name,\n",
        "        messages=[\n",
        "            {\n",
        "            \"role\":\"system\",\n",
        "            \"content\": difficulty_detection_prompt\n",
        "            },\n",
        "            {\n",
        "            \"role\":\"user\",\n",
        "            \"content\": f\"## Full Webpage Text\\n{full_webpage_text}\\n## Specific Text\\n{specific_text}\\n## Tables\\n{tables}\\n## Image Alt Texts\\n{image_alt_text}\\n\"\n",
        "            }\n",
        "        ],\n",
        "        max_tokens=4096\n",
        "        )\n",
        "\n",
        "        response_content = response.choices[0].message.content\n",
        "\n",
        "        pattern = r'\\{(?:[^{}]|(?:\\\\{[^{}]*\\\\}))*\\}'\n",
        "        cleaned_response = re.findall(pattern, response_content)[0]\n",
        "\n",
        "        cleaned_response_json = json.loads(cleaned_response)\n",
        "\n",
        "        section[\"topic_difficult_terms\"] = cleaned_response_json\n"
      ],
      "outputs": [],
      "execution_count": 131,
      "metadata": {
        "gather": {
          "logged": 1750990403651
        }
      }
    },
    {
      "cell_type": "code",
      "source": [
        "\n",
        "from azure.identity import DefaultAzureCredential\n",
        "from openai import AzureOpenAI\n",
        "import re\n",
        "import json\n",
        "\n",
        "def intermediate_rewrite(sections):\n",
        "\n",
        "    sections_interm = []\n",
        "    token = DefaultAzureCredential().get_token(\"https://cognitiveservices.azure.com/.default\").token\n",
        "    \n",
        "    endpoint = \"https://aoai-l-eastus2.openai.azure.com/\"\n",
        "    model_name = \"gpt-4.1\"\n",
        "    deployment_name = \"gpt-4.1\"\n",
        "    api_version = \"2024-12-01-preview\"\n",
        "    \n",
        "    llm = AzureOpenAI(\n",
        "        api_version=api_version,\n",
        "        azure_endpoint=endpoint,\n",
        "        api_key=token,\n",
        "    )\n",
        "\n",
        "\n",
        "    system_prompt = \"\"\"\n",
        "    You are a content revision and teaching assistant. You are a component of a larger process designed to simplify complicated documentations.\n",
        "\n",
        "    ## Context\n",
        "    You are given a section of a technical documentation and the content of the whole page for context. Your task is to simplify the content of that section only, making it easier to understand for a user who is a professional or student in the field, but not familiar with this particular topic.\n",
        "\n",
        "    ## Instructions\n",
        "    - **You need to re-write the content given in 'text' only**\n",
        "    - You have access to the section title ('title'), text content ('text'), image alt ('image_alt') texts of the images within the section, the main topic of the page ('topic'), the purpose of the document (purpose_of_document), the difficult terms in the document (difficult_terms) and the original html of the section in 'html'.\n",
        "    - Use simple language and short sentences.\n",
        "    - Do not add any new information and do not omit any existing information, except the CODE. **OMIT ALL CODE** \\\n",
        "    - **Retain the hyperlinks and the specific words hyperlinked and keep them in the same <a> wrapper like <a data-linktype=\"external\" href=\"https://azure.microsoft.com/pricing/details/load-balancer/\">Load Balancer pricing</a>**\n",
        "    - Analyse the purpose of the document in \"purpose_of_document\" to decide if you need to explain the difficult terms given in \"difficult_terms\" appearing within that section, for example if it is an instructional document, don't explain the difficult terms; if it's a tutorial, explain a bit depending on the professional/student's potential knowledge.\n",
        "    - Assume that after the revised section content, the ORIGINAL code, then the images, then the original tables will be displayed, in that order. **Integrate ONLY the references and explanations to them in the revised content, RETURN ONLY PLAIN TEXT CONTENT.**\n",
        "    - If 'text' is empty, return empty string.\n",
        "    - Use only these HTML tags to improve the output - <ul>, <li>, <b> and <i> when making points\n",
        "\n",
        "    - **Return just the revised section content, without any additional text or headings or any text formatting.**\n",
        "    \"\"\"\n",
        "\n",
        "    for section in sections:\n",
        "        sec = {}\n",
        "        # 1) Build a structured payload\n",
        "        payload = {\n",
        "            \"title\": section[\"title\"],\n",
        "            \"text\": section['content'][0]['text'],\n",
        "            \"img_alt\": section[\"img_alt\"],\n",
        "            \"topic\": section[\"topic_difficult_terms\"][\"topic\"],\n",
        "            \"purpose_of_document\": section[\"topic_difficult_terms\"][\"purpose_of_document\"],\n",
        "            \"difficult_terms\": section[\"topic_difficult_terms\"][\"difficult_terms\"],\n",
        "            'html': section['html']\n",
        "        }\n",
        "\n",
        "        # 2) Serialize to JSON\n",
        "        user_content = json.dumps(payload)\n",
        "\n",
        "        # 3) Send to the LLM\n",
        "        response = llm.chat.completions.create(\n",
        "            model=deployment_name,\n",
        "            messages=[\n",
        "                {\"role\": \"system\", \"content\": system_prompt},\n",
        "                {\"role\": \"user\",   \"content\": user_content}\n",
        "            ],\n",
        "            max_tokens=4096,\n",
        "            temperature=1.0,\n",
        "            top_p=1.0,\n",
        "        )\n",
        "\n",
        "        sec = {'id' : section['id'], 'title' : section['title'], 'content' : [{'type' : 'paragraph', 'text' : response.choices[0].message.content}]}\n",
        "\n",
        "        # section['intermediate_level_text'] = response.choices[0].message.content\n",
        "        # int_rewrites.append(response.choices[0].message.content)\n",
        "\n",
        "        sections_interm.append(sec)\n",
        "\n",
        "    return sections_interm\n",
        "\n",
        "\n",
        "\n",
        "\n"
      ],
      "outputs": [],
      "execution_count": 133,
      "metadata": {
        "gather": {
          "logged": 1750990550012
        }
      }
    },
    {
      "cell_type": "code",
      "source": [
        "sections_intermediate = intermediate_rewrite(sections)"
      ],
      "outputs": [],
      "execution_count": 134,
      "metadata": {
        "gather": {
          "logged": 1750990571007
        }
      }
    },
    {
      "cell_type": "code",
      "source": [],
      "outputs": [],
      "execution_count": null,
      "metadata": {}
    },
    {
      "cell_type": "code",
      "source": [
        "\n",
        "from azure.identity import DefaultAzureCredential\n",
        "from openai import AzureOpenAI\n",
        "import re\n",
        "import json\n",
        "\n",
        "def beginner_rewrite(sections):\n",
        "\n",
        "    sections_beg = []\n",
        "    token = DefaultAzureCredential().get_token(\"https://cognitiveservices.azure.com/.default\").token\n",
        "    \n",
        "    endpoint = \"https://aoai-l-eastus2.openai.azure.com/\"\n",
        "    model_name = \"gpt-4.1\"\n",
        "    deployment_name = \"gpt-4.1\"\n",
        "    api_version = \"2024-12-01-preview\"\n",
        "    \n",
        "    llm = AzureOpenAI(\n",
        "        api_version=api_version,\n",
        "        azure_endpoint=endpoint,\n",
        "        api_key=token,\n",
        "    )\n",
        "\n",
        "\n",
        "\n",
        "    system_prompt = \"\"\"\n",
        "    You are a content revision and teaching assistant. You are a component of a larger process designed to simplify complicated documentations.\n",
        "\n",
        "    ## Context\n",
        "    You are given a section of a technical documentation and the content of the whole page for context. Your task is to simplify the content of that section only, making it so simple and easy to understand that even a user who is **Zero knowledge** of the field, **No familiarity** with the topic.\n",
        "\n",
        "    ## Instructions\n",
        "    - **You need to re-write the content given in 'text' only**\n",
        "    - You have access to the section title ('title'), text content ('text'), image alt ('image_alt') texts of the images within the section, the main topic of the page ('topic'), the purpose of the document ('purpose_of_document'), the difficult terms in the document ('difficult_terms').\n",
        "    - Use extremely simple language, examples and short sentences, fit for anyone with basic education to understand.\n",
        "    - Do not add any new information and do not omit any existing information, except the CODE. **OMIT ALL CODE FROM TEXT** \\\n",
        "    - **Retain the hyperlinks and the specific words hyperlinked and keep them in the same <a> wrapper like <a data-linktype=\"external\" href=\"https://azure.microsoft.com/pricing/details/load-balancer/\">Load Balancer pricing</a>**\n",
        "    - Analyse the purpose of the document in \"purpose_of_document\" and explain the difficult terms given in \"difficult_terms\" appearing within that section keeping the purpose in mind.\n",
        "    - Assume that after the revised section content, the ORIGINAL code, then the images, then the original tables will be displayed, in that order. **Integrate ONLY the references and explanations to them in the revised content, RETURN ONLY PLAIN TEXT CONTENT.**\n",
        "    - If 'text' is empty, return empty string.\n",
        "    - Use only these HTML tags to improve the output - <ul>, <li>, <b> and <i> when making points\n",
        "\n",
        "\n",
        "\n",
        "    - **Return just the revised section content AS PLAIN TEXT, without any additional text or explanations.**\n",
        "    \"\"\"\n",
        "\n",
        "\n",
        "\n",
        "    for section in sections:\n",
        "        sec = {}\n",
        "        # 1) Build a structured payload\n",
        "        payload = {\n",
        "            \"title\": section[\"title\"],\n",
        "            \"text\": section['content'][0]['text'],\n",
        "            \"img_alt\": section[\"img_alt\"],\n",
        "            \"topic\": section[\"topic_difficult_terms\"][\"topic\"],\n",
        "            \"purpose_of_document\": section[\"topic_difficult_terms\"][\"purpose_of_document\"],\n",
        "            \"difficult_terms\": section[\"topic_difficult_terms\"][\"difficult_terms\"],\n",
        "            'html': section['html']\n",
        "        }\n",
        "\n",
        "        # 2) Serialize to JSON\n",
        "        user_content = json.dumps(payload)\n",
        "\n",
        "        # 3) Send to the LLM\n",
        "        response = llm.chat.completions.create(\n",
        "            model=deployment_name,\n",
        "            messages=[\n",
        "                {\"role\": \"system\", \"content\": system_prompt},\n",
        "                {\"role\": \"user\",   \"content\": user_content}\n",
        "            ],\n",
        "            max_tokens=4096,\n",
        "            temperature=1.0,\n",
        "            top_p=1.0,\n",
        "        )\n",
        "\n",
        "        sec = {'id' : section['id'], 'title' : section['title'], 'content' : [{'type' : 'paragraph', 'text' : response.choices[0].message.content}]}\n",
        "\n",
        "        # section['intermediate_level_text'] = response.choices[0].message.content\n",
        "        # int_rewrites.append(response.choices[0].message.content)\n",
        "\n",
        "        sections_beg.append(sec)\n",
        "\n",
        "    return sections_beg\n",
        "\n",
        "\n"
      ],
      "outputs": [],
      "execution_count": 147,
      "metadata": {
        "gather": {
          "logged": 1750991360336
        }
      }
    },
    {
      "cell_type": "code",
      "source": [
        "sections_beginner = beginner_rewrite(sections)"
      ],
      "outputs": [],
      "execution_count": null,
      "metadata": {}
    },
    {
      "cell_type": "markdown",
      "source": [
        "#### Summarizers"
      ],
      "metadata": {
        "nteract": {
          "transient": {
            "deleting": false
          }
        }
      }
    },
    {
      "cell_type": "code",
      "source": [],
      "outputs": [],
      "execution_count": null,
      "metadata": {}
    },
    {
      "cell_type": "code",
      "source": [
        "import requests\n",
        "from bs4 import BeautifulSoup\n",
        "\n",
        "url = \"https://learn.microsoft.com/en-us/azure/load-balancer/gateway-overview\"\n",
        "\n",
        "\n",
        "\n",
        "\n",
        "def summarizer_func(url):\n",
        "\n",
        "    \n",
        "    response = requests.get(url)\n",
        "    soup = BeautifulSoup(response.text, \"html.parser\")\n",
        "    content = soup.get_text()\n",
        "\n",
        "    token = DefaultAzureCredential().get_token(\"https://cognitiveservices.azure.com/.default\").token\n",
        "    \n",
        "    endpoint = \"https://aoai-l-eastus2.openai.azure.com/\"\n",
        "    model_name = \"gpt-4.1\"\n",
        "    deployment_name = \"gpt-4.1\"\n",
        "    api_version = \"2024-12-01-preview\"\n",
        "    \n",
        "    llm = AzureOpenAI(\n",
        "        api_version=api_version,\n",
        "        azure_endpoint=endpoint,\n",
        "        api_key=token,\n",
        "    )\n",
        "\n",
        "\n",
        "    system_prompt = \"\"\"\n",
        "    You are a content summarization and teaching assistant. You are a component of a larger process designed to simplify complicated documentations.\n",
        "\n",
        "    ## Context\n",
        "    You are given the content of a technical documentation. Your task is to simplify the content, making it so simple and easy to understand that even a user who is **Zero knowledge** of the field, **No familiarity** with the topic.\n",
        "\n",
        "    ## Instructions\n",
        "    - **You need to generate a **short**, clear summary, explaining the content point-wise, providing only the most important details from the document**\n",
        "    - Use extremely simple language, examples and short sentences, fit for anyone with basic education to understand.\n",
        "    - Do not add any new information \\\n",
        "    - Analyse the purpose of the document in \"purpose_of_document\" and keep it in mind for the summary.\n",
        "    - Use only these HTML tags to improve the output - <ul>, <li>, <b> and <i> when making points\n",
        "\n",
        "\n",
        "\n",
        "    - **Return just the summary AS PLAIN TEXT, without any additional text or explanations.**\n",
        "    \"\"\"\n",
        "\n",
        "\n",
        "\n",
        "    system_prompt2 = \"\"\"\n",
        "    You are a content summarization and teaching assistant. You are a component of a larger process designed to simplify complicated documentations.\n",
        "\n",
        "    ## Context\n",
        "    You are given the content of a technical documentation. Your task is to simplify the content, making it simple and easy to understand for a professional or student in the field, but not having familiarity with the particular topic.\n",
        "\n",
        "    ## Instructions\n",
        "    - **You need to generate a **short**, clear summary, explaining the content point-wise, providing only the most important details from the document**\n",
        "    - Use simple language, examples and short sentences, fit for anyone with basic knowledge to understand.\n",
        "    - Do not add any new information \\\n",
        "    - Analyse the purpose of the document in \"purpose_of_document\" and keep it in mind for the summary.\n",
        "    - Use only these HTML tags to improve the output - <ul>, <li>, <b> and <i> when making points\n",
        "\n",
        "\n",
        "    - **Return just the summary AS PLAIN TEXT, without any additional text or HEADING, start DIRECTLY AT THE SUMMARY.**\n",
        "    \"\"\"\n",
        "\n",
        "\n",
        "    system_prompt3 = \"\"\"\n",
        "    You are a content summarization and teaching assistant. You are a component of a larger process designed to simplify complicated documentations.\n",
        "\n",
        "    ## Context\n",
        "    You are given the content of a technical documentation. Your task is to summarize the content.\n",
        "\n",
        "    ## Instructions\n",
        "    - **You need to generate a **short**, clear summary, explaining the content point-wise, providing only the most important details from the document**\n",
        "    - Do not add any new information \\\n",
        "    - Analyse the purpose of the document in \"purpose_of_document\" and keep it in mind for the summary.\n",
        "    - Use only these HTML tags to improve the output - <ul>, <li>, <b> and <i> when making points\n",
        "\n",
        "\n",
        "    - **Return just the summary AS PLAIN TEXT, without any additional text or HEADING, start DIRECTLY AT THE SUMMARY.**\n",
        "    \"\"\"\n",
        "\n",
        "\n",
        "\n",
        "    response1 = llm.chat.completions.create(\n",
        "        model=deployment_name,\n",
        "        messages=[\n",
        "            {\"role\": \"system\", \"content\": system_prompt},\n",
        "            {\"role\": \"user\",   \"content\": content}\n",
        "        ],\n",
        "        max_tokens=4096,\n",
        "        temperature=1.0,\n",
        "        top_p=1.0,\n",
        "    )\n",
        "\n",
        "\n",
        "    response2 = llm.chat.completions.create(\n",
        "        model=deployment_name,\n",
        "        messages=[\n",
        "            {\"role\": \"system\", \"content\": system_prompt2},\n",
        "            {\"role\": \"user\",   \"content\": content}\n",
        "        ],\n",
        "        max_tokens=4096,\n",
        "        temperature=1.0,\n",
        "        top_p=1.0,\n",
        "    )\n",
        "\n",
        "\n",
        "    response3 = llm.chat.completions.create(\n",
        "        model=deployment_name,\n",
        "        messages=[\n",
        "            {\"role\": \"system\", \"content\": system_prompt3},\n",
        "            {\"role\": \"user\",   \"content\": content}\n",
        "        ],\n",
        "        max_tokens=4096,\n",
        "        temperature=1.0,\n",
        "        top_p=1.0,\n",
        "    )\n",
        "\n",
        "\n",
        "\n",
        "    summaries = {'beginner_level_summary' : response1.choices[0].message.content, 'intermediate_level_summary' : response2.choices[0].message.content, 'advanced_level_summary' : response3.choices[0].message.content}\n",
        "\n",
        "\n",
        "    return summaries\n",
        "\n",
        "\n",
        "\n"
      ],
      "outputs": [],
      "execution_count": 154,
      "metadata": {
        "gather": {
          "logged": 1750991578451
        }
      }
    },
    {
      "cell_type": "code",
      "source": [],
      "outputs": [],
      "execution_count": null,
      "metadata": {}
    },
    {
      "cell_type": "code",
      "source": [
        "summaries = summarizer_func(url)"
      ],
      "outputs": [],
      "execution_count": 155,
      "metadata": {
        "gather": {
          "logged": 1750991595028
        }
      }
    },
    {
      "cell_type": "code",
      "source": [
        "summaries['beginner_level_summary']"
      ],
      "outputs": [
        {
          "output_type": "execute_result",
          "execution_count": 156,
          "data": {
            "text/plain": "'<ul>\\n  <li><b>Gateway Load Balancer</b> is a special tool in Microsoft Azure that helps you control and manage network traffic for your applications.</li>\\n  <li><b>Main Use:</b> It helps you add extra security or analysis tools (like firewalls or systems that spot bad traffic) to your network easily.</li>\\n  <li><b>Easy to Use:</b> You can add or remove these tools without much extra work.</li>\\n  <li><b>How It Works:</b> All traffic going to your app goes first through these tools, making sure everything is checked and protected.</li>\\n  <li><b>Types of Tools Supported:</b> Firewalls, security scanners, tracking traffic, and more.</li>\\n  <li><b>Reliable and Efficient:</b> It keeps traffic organized, so information goes out and comes back the same way, making things stable and fast.</li>\\n  <li><b>Easy Scaling:</b> You can make your system bigger or smaller as needed without stopping everything.</li>\\n  <li><b>Works Across Companies:</b> You can connect apps and tools even if they are in different company accounts.</li>\\n  <li><b>Parts of Gateway Load Balancer:</b>\\n    <ul>\\n      <li><i>Frontend IP:</i> The private address of the balancer.</li>\\n      <li><i>Load-balancing rules:</i> Decide how to share traffic between many servers.</li>\\n      <li><i>Backend pool:</i> The group of computers handling the jobs or information.</li>\\n      <li><i>Tunnel interfaces:</i> Connections that help guide the traffic for checking.</li>\\n      <li><i>Chain:</i> A link between your network and the Gateway Load Balancer.</li>\\n    </ul>\\n  </li>\\n  <li><b>Limitations:</b> Some advanced setups are not supported, like global usage or certain types of connections in the Azure web portal.</li>\\n</ul>'"
          },
          "metadata": {}
        }
      ],
      "execution_count": 156,
      "metadata": {
        "gather": {
          "logged": 1750991596489
        }
      }
    },
    {
      "cell_type": "code",
      "source": [
        "summaries['intermediate_level_summary']"
      ],
      "outputs": [
        {
          "output_type": "execute_result",
          "execution_count": 157,
          "data": {
            "text/plain": "'<ul>\\n  <li><b>Gateway Load Balancer</b> is a type (SKU) of Azure Load Balancer designed to add, manage, and scale high-performance third-party Network Virtual Appliances (NVAs) like firewalls, traffic analyzers, or DDoS protection.</li>\\n  <li><b>Easy Integration:</b> Lets you transparently insert NVAs into your application’s network path, so all traffic to/from your app goes through these appliances without complex setup.</li>\\n  <li><b>Service Chaining:</b> You can chain a Gateway Load Balancer to public endpoints with just one configuration step, ensuring advanced network functions are always included.</li>\\n  <li><b>Maintains Flow Symmetry:</b> Ensures network flows remain symmetrical (both directions use the same path), which is required for most NVAs to work properly.</li>\\n  <li><b>Automatic Scaling:</b> Easily scale up or down by adding/removing backend VMs; load balancer automatically updates itself with no extra configuration needed.</li>\\n  <li><b>Works with Both Traffic Directions:</b> Supports inspection and processing for both inbound and outbound traffic.</li>\\n  <li><b>Data Path:</b> Uses the VXLAN protocol to tunnel and route traffic through NVAs before reaching your app, while keeping the original source IP info.</li>\\n  <li><b>Main Components:</b>\\n    <ul>\\n      <li><i>Frontend IP:</i> Private IP address serving as the entry point.</li>\\n      <li><i>Load-balancing rules:</i> Define how traffic is distributed to backend instances; only supports high availability (HA) port rules.</li>\\n      <li><i>Backend Pool:</i> VM or VM Scale Set instances handling incoming requests; can be scaled easily.</li>\\n      <li><i>Tunnel Interfaces:</i> Manage flow handling between appliances and app; can be configured as internal/external as needed.</li>\\n      <li><i>Chain:</i> The reference linking a public load balancer or VM’s IP to the Gateway Load Balancer (can be across subscriptions).</li>\\n    </ul>\\n  </li>\\n  <li><b>Limitations:</b>\\n    <ul>\\n      <li>Does not support the Global Load Balancer tier.</li>\\n      <li>Cross-tenant chaining must be done outside the Azure portal.</li>\\n      <li>Cannot be set as a next hop in user-defined routes.</li>\\n    </ul>\\n  </li>\\n  <li><b>Use Cases:</b> Easily integrate firewalls, intrusion detection, packet analytics, traffic monitoring, or custom appliances into Azure applications with minimal extra management.</li>\\n</ul>'"
          },
          "metadata": {}
        }
      ],
      "execution_count": 157,
      "metadata": {
        "gather": {
          "logged": 1750991603292
        }
      }
    },
    {
      "cell_type": "code",
      "source": [
        "summaries['advanced_level_summary']"
      ],
      "outputs": [
        {
          "output_type": "execute_result",
          "execution_count": 158,
          "data": {
            "text/plain": "'<ul>\\n  <li><b>Purpose:</b> Gateway Load Balancer is an Azure Load Balancer SKU designed for high performance/high availability with third-party Network Virtual Appliances (NVAs), enabling easy deployment, scaling, and management of NVAs in network paths.</li>\\n  <li><b>Key Scenarios:</b> Enables transparent insertion of appliances for use cases such as firewalls, packet analytics, intrusion protection, traffic mirroring, DDoS, and custom appliances.</li>\\n  <li><b>Operational Model:</b> Ensures all traffic to/from a public endpoint passes through the appliance before reaching its application using \"bump-in-the-wire\" technology, maintaining flow symmetry and stickiness for seamless NVA operation.</li>\\n  <li><b>Technical Details:</b>\\n    <ul>\\n      <li>Maintains flow stickiness and symmetry for consistent routes, allowing appliances to operate properly without extra configuration.</li>\\n      <li>Health probes monitor all ports and traffic is managed via HA ports rule.</li>\\n      <li>Uses VXLAN protocol for traffic encapsulation between consumer and appliance.</li>\\n      <li>Supports scaling backend pools (VMs or VMSS) automatically as instances are added/removed.</li>\\n      <li>Allows chaining to a Standard Public Load Balancer or VM NIC IP configuration without requiring extra UDRs.</li>\\n      <li>Backend pools use tunnel interfaces (internal/external) for proper traffic flow handling.</li>\\n    </ul>\\n  </li>\\n  <li><b>Benefits:</b>\\n    <ul>\\n      <li>Transparent integration of NVAs.</li>\\n      <li>Easy addition/removal of NVAs with reduced management.</li>\\n      <li>Enhanced NVA availability and cost-effective scaling.</li>\\n      <li>Supports cross-tenant chaining (with some limitations).</li>\\n    </ul>\\n  </li>\\n  <li><b>Limitations:</b>\\n    <ul>\\n      <li>Not compatible with Global Load Balancer tier.</li>\\n      <li>Cross-tenant chaining not available via Azure portal.</li>\\n      <li>Cannot configure Gateway Load Balancer’s frontend IP as next hop in UDRs.</li>\\n    </ul>\\n  </li>\\n  <li><b>Components:</b>\\n    <ul>\\n      <li>Frontend IP (private only), load-balancing rules (only HA ports), up to two backend pools, tunnel interfaces, and service chaining references.</li>\\n    </ul>\\n  </li>\\n  <li><b>Configuration:</b> Chaining requires referencing Gateway Load Balancer from a supported consumer resource; supports inbound and outbound inspection.</li>\\n</ul>'"
          },
          "metadata": {}
        }
      ],
      "execution_count": 158,
      "metadata": {
        "gather": {
          "logged": 1750991606511
        }
      }
    },
    {
      "cell_type": "code",
      "source": [],
      "outputs": [],
      "execution_count": null,
      "metadata": {}
    },
    {
      "cell_type": "code",
      "source": [
        "advanced_sections = []\n",
        "\n",
        "for sec in sections:\n",
        "    new_sec = {'id' : sec['id'], 'title' : sec['title'], 'content' : [{'type' : 'paragraph', 'text' : sec['html']}]}\n",
        "    advanced_sections.append(new_sec)"
      ],
      "outputs": [],
      "execution_count": 170,
      "metadata": {
        "gather": {
          "logged": 1750992186869
        }
      }
    },
    {
      "cell_type": "code",
      "source": [],
      "outputs": [],
      "execution_count": null,
      "metadata": {}
    },
    {
      "cell_type": "markdown",
      "source": [
        "#### Creating Final JSONs with Summaries"
      ],
      "metadata": {
        "nteract": {
          "transient": {
            "deleting": false
          }
        }
      }
    },
    {
      "cell_type": "code",
      "source": [
        "final_json = {'summaries' : {'content' : [{'type' : 'paragraph', 'text' : summaries['beginner_level_summary']}, {'type' : 'paragraph', 'text' : summaries['intermediate_level_summary']}, {'type' : 'paragraph', 'text' : summaries['advanced_level_summary']}]}}"
      ],
      "outputs": [],
      "execution_count": null,
      "metadata": {}
    },
    {
      "cell_type": "code",
      "source": [
        "sections_combined = []\n",
        "for i in range(len(sections_beginner)):\n",
        "    section = {}\n",
        "    section[\"id\"] = sections_beginner[i][\"id\"]\n",
        "    section[\"title\"] = sections_beginner[i][\"title\"]\n",
        "    content = [sections_beginner[i][\"content\"][0], sections_intermediate[i][\"content\"][0], advanced_sections[i][\"content\"][0]]\n",
        "    section[\"content\"] = content\n",
        "\n",
        "    sections_combined.append(section)"
      ],
      "outputs": [],
      "execution_count": 182,
      "metadata": {
        "gather": {
          "logged": 1750993046067
        }
      }
    },
    {
      "cell_type": "code",
      "source": [
        "sections_combined"
      ],
      "outputs": [
        {
          "output_type": "execute_result",
          "execution_count": 183,
          "data": {
            "text/plain": "[{'id': 'section-0',\n  'title': 'Gateway Load Balancer',\n  'content': [{'type': 'paragraph',\n    'text': 'Gateway Load Balancer is a special type of Azure Load Balancer. It is designed to help your apps work fast and stay available, especially when you use tools made by other companies called Network Virtual Appliances (NVAs).\\n\\nWith Gateway Load Balancer, you can:\\n<ul>\\n  <li>Set up, grow, or manage NVAs easily.</li>\\n  <li>Connect your public internet address to the Load Balancer with just one step.</li>\\n</ul>\\n\\nYou can use Gateway Load Balancer to add things like:\\n<ul>\\n  <li>Firewalls (help block unwanted traffic)</li>\\n  <li>Advanced packet analytics (look closely at the data traveling through your network)</li>\\n  <li>Intrusion detection and prevention systems (spot and stop attacks)</li>\\n  <li>Traffic mirroring (make copies of network traffic for checking)</li>\\n  <li>DDoS protection (protect against attacks that flood your service)</li>\\n  <li>Custom appliances (other tools you want to add)</li>\\n</ul>\\n\\nGateway Load Balancer lets you add or remove these tools easily, without a lot of extra work. It uses \"bump-in-the-wire technology,\" which means it puts these tools in the path of all internet traffic coming in and going out, making sure the tools check all the data before it goes to your app.\\n\\nThis load balancer makes sure that once traffic goes through a specific tool (like an NVA), all future traffic follows the same path. This is called \"flow symmetry\" and \"flow stickiness.\" It ensures everything works well without you having to set it up by hand. This way, the information (called packets) always takes the same route both ways, which is important for many network devices.\\n\\nA health probe checks all ports to make sure backend tools are working and routes traffic using a high-availability ports rule. The Gateway Load Balancer uses something called the VXLAN protocol to send data back and forth. \\n\\n<b>Explanation of difficult terms:</b>\\n<ul>\\n  <li><b>SKU</b>: Means \"Stock Keeping Unit,\" which is just a specific product or version.</li>\\n  <li><b>Azure Load Balancer</b>: A tool from Microsoft that spreads traffic across many servers.</li>\\n  <li><b>Third-party Network Virtual Appliances (NVAs)</b>: Network tools or hardware made by other companies, but run virtually (in software).</li>\\n  <li><b>Chaining</b>: Linking the Gateway Load Balancer to your public address with one step.</li>\\n  <li><b>Public endpoint</b>: The internet address for your service.</li>\\n  <li><b>Firewalls</b>: Block or allow network traffic for security.</li>\\n  <li><b>Advanced packet analytics</b>: Deep look at data moving through the network.</li>\\n  <li><b>Intrusion detection and prevention systems</b>: Spot and block attacks.</li>\\n  <li><b>Traffic mirroring</b>: Making a copy of data as it passes through.</li>\\n  <li><b>DDoS protection</b>: Keeps your service running if attacked with too much traffic.</li>\\n  <li><b>Custom appliances</b>: Any special network tool you add.</li>\\n  <li><b>Bump-in-the-wire technology</b>: Puts tools in the path of all your network traffic.</li>\\n  <li><b>Flows are symmetrical</b>: Data takes the same path going in and out.</li>\\n  <li><b>Flow stickiness</b>: Data from one user always goes through the same route or device.</li>\\n  <li><b>Backend pool</b>: A group of servers or devices that handles the traffic.</li>\\n  <li><b>Flow symmetry</b>: Makes sure traffic uses the same path both ways.</li>\\n  <li><b>Packets traverse</b>: Data travels through the network.</li>\\n  <li><b>Health probe</b>: A tool that checks if servers or devices are working.</li>\\n  <li><b>HA ports rule</b>: A rule that makes sure traffic goes to working devices on any port.</li>\\n  <li><b>VXLAN protocol</b>: A way to send network data inside other network data.</li>\\n</ul>'},\n   {'type': 'paragraph',\n    'text': 'Gateway Load Balancer is a special version of Azure Load Balancer designed for high-performance and high-availability uses, especially when you need to add third-party Network Virtual Appliances (NVAs). With Gateway Load Balancer, you can easily set up, scale, and manage these NVAs. To connect a Gateway Load Balancer to your public endpoint, you just need to make a single selection.\\n\\nYou can use Gateway Load Balancer to add network appliances for different purposes, such as:\\n<ul>\\n<li>Firewalls</li>\\n<li>Advanced packet analysis</li>\\n<li>Intrusion detection and prevention</li>\\n<li>Traffic mirroring</li>\\n<li>DDoS protection</li>\\n<li>Custom network appliances</li>\\n</ul>\\n\\nYou can add or remove these advanced network features easily, without extra management work. Gateway Load Balancer uses a method called “bump-in-the-wire technology,” which makes sure that all data traffic going to and from your public endpoint passes through the appliance first, before reaching your application.\\n\\nFor NVAs to work correctly, it’s important that data flows stay the same in both directions. Gateway Load Balancer keeps each connection (flow) tied to a specific backend appliance and keeps the traffic paths symmetrical. This ensures traffic to your NVA follows the same route in both directions, so your appliances can work without problems.\\n\\nThe health probe in Gateway Load Balancer checks all ports and sends traffic to backend instances using a high-availability (HA) ports rule. Traffic between users and Gateway Load Balancer uses the VXLAN protocol.'},\n   {'type': 'paragraph',\n    'text': '\\n<div class=\"page-metadata-container display-flex gap-xxs justify-content-space-between align-items-center flex-wrap-wrap\" id=\"article-metadata\">\\n<div class=\"margin-block-xxs\">\\n<ul class=\"metadata page-metadata\" data-bi-name=\"page info\" dir=\"ltr\" lang=\"en-us\">\\n<li class=\"visibility-hidden-visual-diff\">\\n<local-time class=\"is-invisible\" data-article-date-source=\"calculated\" datetime=\"2024-08-26T17:04:00.000Z\" format=\"twoDigitNumeric\">\\n\\t\\t\\t\\t2024-08-26\\n\\t\\t\\t</local-time>\\n</li>\\n</ul>\\n</div>\\n<div class=\"margin-block-xxs display-none display-none-print\" data-hide-on-archived=\"\" hidden=\"\" id=\"user-feedback\">\\n<button class=\"button button-sm button-clear button-primary display-none\" data-bi-name=\"user-feedback-button\" data-test-id=\"conceptual-feedback-button\" data-user-feedback-button=\"\" hidden=\"\" id=\"user-feedback-button\" type=\"button\">\\n<span aria-hidden=\"true\" class=\"icon\">\\n<span class=\"docon docon-like\"></span>\\n</span>\\n<span>Feedback</span>\\n</button>\\n</div>\\n</div>\\n<div class=\"margin-block-xxs\">\\n<ul class=\"metadata page-metadata\" data-bi-name=\"page info\" dir=\"ltr\" lang=\"en-us\">\\n<li class=\"visibility-hidden-visual-diff\">\\n<local-time class=\"is-invisible\" data-article-date-source=\"calculated\" datetime=\"2024-08-26T17:04:00.000Z\" format=\"twoDigitNumeric\">\\n\\t\\t\\t\\t2024-08-26\\n\\t\\t\\t</local-time>\\n</li>\\n</ul>\\n</div>\\n<ul class=\"metadata page-metadata\" data-bi-name=\"page info\" dir=\"ltr\" lang=\"en-us\">\\n<li class=\"visibility-hidden-visual-diff\">\\n<local-time class=\"is-invisible\" data-article-date-source=\"calculated\" datetime=\"2024-08-26T17:04:00.000Z\" format=\"twoDigitNumeric\">\\n\\t\\t\\t\\t2024-08-26\\n\\t\\t\\t</local-time>\\n</li>\\n</ul>\\n<li class=\"visibility-hidden-visual-diff\">\\n<local-time class=\"is-invisible\" data-article-date-source=\"calculated\" datetime=\"2024-08-26T17:04:00.000Z\" format=\"twoDigitNumeric\">\\n\\t\\t\\t\\t2024-08-26\\n\\t\\t\\t</local-time>\\n</li>\\n<local-time class=\"is-invisible\" data-article-date-source=\"calculated\" datetime=\"2024-08-26T17:04:00.000Z\" format=\"twoDigitNumeric\">\\n\\t\\t\\t\\t2024-08-26\\n\\t\\t\\t</local-time>\\n\\t\\t\\t\\t2024-08-26\\n\\t\\t\\t\\n\\n\\n\\n<div class=\"margin-block-xxs display-none display-none-print\" data-hide-on-archived=\"\" hidden=\"\" id=\"user-feedback\">\\n<button class=\"button button-sm button-clear button-primary display-none\" data-bi-name=\"user-feedback-button\" data-test-id=\"conceptual-feedback-button\" data-user-feedback-button=\"\" hidden=\"\" id=\"user-feedback-button\" type=\"button\">\\n<span aria-hidden=\"true\" class=\"icon\">\\n<span class=\"docon docon-like\"></span>\\n</span>\\n<span>Feedback</span>\\n</button>\\n</div>\\n<button class=\"button button-sm button-clear button-primary display-none\" data-bi-name=\"user-feedback-button\" data-test-id=\"conceptual-feedback-button\" data-user-feedback-button=\"\" hidden=\"\" id=\"user-feedback-button\" type=\"button\">\\n<span aria-hidden=\"true\" class=\"icon\">\\n<span class=\"docon docon-like\"></span>\\n</span>\\n<span>Feedback</span>\\n</button>\\n<span aria-hidden=\"true\" class=\"icon\">\\n<span class=\"docon docon-like\"></span>\\n</span>\\n<span class=\"docon docon-like\"></span>\\n\\n<span>Feedback</span>Feedback\\n\\n\\n\\n<nav aria-label=\"In this article\" class=\"doc-outline is-hidden-desktop display-none-print margin-bottom-sm\" data-bi-name=\"intopic toc\" id=\"center-doc-outline\">\\n<h2 class=\"title is-6 margin-block-xs\" id=\"ms--in-this-article\">'}]},\n {'id': 'section-2',\n  'title': 'Benefits',\n  'content': [{'type': 'paragraph',\n    'text': '<ul>\\n  <li><b>Easy Connection:</b> You can connect special computer tools (called <i>virtual appliances</i> or <i>network virtual appliances</i>) into your network without any complicated steps or changes. These virtual appliances are software tools that help protect or manage your network.</li>\\n  <li><b>Simple Updates:</b> You can add or remove these virtual appliances from your network whenever you want, without much trouble.</li>\\n  <li><b>Easy to Grow:</b> As your needs grow, you can make your setup bigger easily and without spending too much money.</li>\\n  <li><b>More Reliable:</b> These tools help make sure your network virtual appliances are available when you need them, improving their reliability.</li>\\n  <li><b>Connect Different Groups:</b> You can set up your system so that apps can work together between different <i>tenants</i> (which means different groups of users) and <i>subscriptions</i> (different accounts in Azure with their own resources).</li>\\n</ul>'},\n   {'type': 'paragraph',\n    'text': '<ul>\\n<li>You can add virtual appliances to your network without changing how your network works.</li>\\n<li>You can quickly add or remove network virtual appliances in your network path as needed.</li>\\n<li>You can handle more traffic easily, while keeping your costs under control.</li>\\n<li>You can make your network virtual appliances more reliable and available.</li>\\n<li>You can connect or chain applications that are in different tenants and subscriptions.</li>\\n</ul>'},\n   {'type': 'paragraph',\n    'text': '\\n<p>Gateway Load Balancer has the following benefits:</p>\\n<ul>\\n<li><p>Integrate virtual appliances transparently into the network path.</p>\\n</li>\\n<li><p>Easily add or remove network virtual appliances in the network path.</p>\\n</li>\\n<li><p>Scale with ease while managing costs.</p>\\n</li>\\n<li><p>Improve network virtual appliance availability.</p>\\n</li>\\n<li><p>Chain applications across tenants and subscriptions</p>\\n</li>\\n</ul>\\n'}]},\n {'id': 'section-3',\n  'title': 'Configuration and supported scenarios',\n  'content': [{'type': 'paragraph',\n    'text': 'You can connect (or \"chain\") a Standard Public Load Balancer or the main network settings (called Standard IP configuration) of a virtual machine to a Gateway Load Balancer. \\n\\n<b>What does \"chaining\" mean?</b>\\n<ul>\\n<li>\"Chaining\" means linking the main entry point of a load balancer (called the frontend) or a network card\\'s IP settings (NIC IP configuration) to the main entry point of a Gateway Load Balancer. </li>\\n</ul>\\n\\nOnce the Gateway Load Balancer is linked to another resource (like a Standard Public Load Balancer or a virtual machine), you do not need to add any extra settings (like UDRs, which are special routing rules), to send network traffic to and from your app through the Gateway Load Balancer.\\n\\n<b>What does the Gateway Load Balancer do?</b>\\n<ul>\\n<li>It can check both traffic coming in (inbound) and going out (outbound).</li>\\n</ul>\\n\\n<b>How does it help with outbound traffic and NVAs?</b>\\n<ul>\\n<li>If you want to add devices that inspect or change network traffic (called NVAs, or Network Virtual Appliances) in the path of traffic leaving your network, you must connect the Gateway Load Balancer to the main entry points (frontend IP configurations) that are picked in the outbound rules for your Standard Load Balancer.</li>\\n</ul>\\n\\n<b>Important Note:</b>\\n<ul>\\n<li>You cannot set the Gateway Load Balancer\\'s address as the \"next hop\" in your special routing rules (UDRs).</li>\\n<li>The Gateway Load Balancer must always be directly linked (chained/referenced) by a supported resource, such as a Standard Public Load Balancer or a Standard network card IP configuration.</li>\\n</ul>\\n\\n<i>Explanation of difficult terms:</i>\\n<ul>\\n<li><b>Standard Public Load Balancer</b>: A tool that spreads network traffic across multiple devices from the internet.</li>\\n<li><b>Standard IP configuration</b>: Main network settings for a device in the cloud.</li>\\n<li><b>Chained</b>: Connecting or linking one service to another.</li>\\n<li><b>Load balancer frontend</b>: The main entry point for traffic coming to a load balancer.</li>\\n<li><b>NIC IP configuration</b>: Network settings for a virtual network card attached to a virtual machine.</li>\\n<li><b>Gateway Load Balancer frontend IP configuration</b>: The main entry point of a Gateway Load Balancer.</li>\\n<li><b>Consumer resource</b>: A service or device that uses the load balancer.</li>\\n<li><b>UDRs (user-defined routes)</b>: Custom rules that guide how network traffic moves.</li>\\n<li><b>Traffic inspection</b>: Checking and analyzing network traffic.</li>\\n<li><b>NVAs (Network Virtual Appliances)</b>: Virtual tools or devices that can inspect or change your network traffic.</li>\\n<li><b>Frontend IP configurations</b>: Settings for the entry point of network devices.</li>\\n<li><b>Outbound rules</b>: Rules about traffic leaving your system.</li>\\n<li><b>Next hop</b>: The next stop where network traffic goes.</li>\\n<li><b>Resources must be chained/referenced</b>: Gateway Load Balancer must always be directly connected to supported services.</li>\\n</ul>'},\n   {'type': 'paragraph',\n    'text': '<ul>\\n  <li>You can connect a Standard Public Load Balancer or a Standard IP configuration of a virtual machine to a Gateway Load Balancer. This is called \"chaining.\" Chaining means adding a reference from the load balancer frontend or the network interface card (NIC) IP configuration to the frontend IP of the Gateway Load Balancer.</li>\\n  <li>After you chain the Gateway Load Balancer to a resource (like a Load Balancer or NIC IP configuration), you do not need extra settings such as user-defined routes (UDRs). All traffic to and from your application will automatically go through the Gateway Load Balancer.</li>\\n  <li>Gateway Load Balancer can check both incoming and outgoing traffic. If you want to add a Network Virtual Appliance (NVA) to the outbound traffic path when using a Standard Load Balancer, make sure to chain the Gateway Load Balancer to the frontend IP configurations that are chosen in your outbound rules.</li>\\n  <li><b>Note:</b> You cannot use the Gateway Load Balancer’s frontend IP directly as the next hop in user-defined routes (UDRs). To use the Gateway Load Balancer, you must connect it through a supported consumer resource, like a Standard Public Load Balancer or a Standard NIC IP configuration.</li>\\n</ul>'},\n   {'type': 'paragraph',\n    'text': '\\n<p>A Standard Public Load Balancer or a Standard IP configuration of a virtual machine can be chained to a Gateway Load Balancer. \"Chaining\" refers to the load balancer frontend or NIC IP configuration containing a reference to a Gateway Load Balancer frontend IP configuration. Once the Gateway Load Balancer is chained to a consumer resource, no additional configuration such as UDRs is needed to ensure traffic to and from the application endpoint is sent to the Gateway Load Balancer.</p>\\n<p>Gateway Load Balancer supports both inbound and outbound traffic inspection. For inserting NVAs in the path of outbound traffic with Standard Load Balancer, Gateway Load Balancer must be chained to the frontend IP configurations selected in the configured outbound rules.</p>\\n<div class=\"NOTE\">\\n<p>Note</p>\\n<p>Configuring a Gateway Load Balancer\\'s frontend IP as the next hop in user-defined routes (UDRs) is not supported. Gateway Load Balancer resources must be chained/referenced by a supported consumer resource such as a Standard Public Load Balancer or Standard NIC IP configuration.</p>\\n</div>\\n'}]},\n {'id': 'section-4',\n  'title': 'Data path diagram',\n  'content': [{'type': 'paragraph',\n    'text': 'When you use a Gateway Load Balancer, the data going to your app does not go straight there. Instead, it works like this:\\n\\n<ul>\\n  <li>The data first goes through a special worker called the <b>Standard Load Balancer</b>. Think of this as a gatekeeper that shares work between different helpers.</li>\\n  <li>Next, the data is wrapped in a \"package\" called a <b>VXLAN header</b>. This just means the data is put inside another cover so it can travel safely and be recognized by the right helpers.</li>\\n  <li>This wrapped data now goes to the <b>Gateway Load Balancer</b> (another helper that checks and protects the data).</li>\\n  <li>The Gateway Load Balancer sends the data to special computers called <b>NVAs</b> (Network Virtual Appliances), which do extra checks or work on the data. These NVAs are put in a group called the <b>backend pool</b>, which means a collection of helpers ready to work.</li>\\n  <li>Once the NVAs are done, they send the data back to your app. The data arrives at your app\\'s computers (<b>virtual machines</b>), keeping the original sender\\'s address (<b>source IP preserved</b>), so your app knows where it came from.</li>\\n  <li>The network where your app is (<b>consumer virtual network</b>) and the network providing the helpers (<b>provider virtual network</b>) can be managed separately. They can even belong to different people or organizations (<b>subscriptions</b> or <b>tenants</b>).</li>\\n  <li>This setup makes management easier because different teams can control their own parts without getting in each other\\'s way.</li>\\n</ul>\\n\\nSee the diagram below for a simple picture of how this works.'},\n   {'type': 'paragraph',\n    'text': 'When you use Gateway Load Balancer, network traffic meant for your application first goes through a Standard Load Balancer. This traffic is wrapped (encapsulated) with special VXLAN headers and sent to the Gateway Load Balancer. The Gateway Load Balancer sends the traffic to its network virtual appliances (NVAs) in the backend pool for processing.\\n\\nAfter this, the traffic returns to the original consumer resource, which is the Standard Load Balancer, and then reaches your application’s virtual machines. The source IP address of the traffic is kept the same throughout this process.\\n\\nThe consumer virtual network (where your app runs) and the provider virtual network (where the Gateway Load Balancer and NVAs are) do not have to be in the same subscription or tenant. This makes management simpler and more flexible.\\n\\nPlease refer to the diagram for a visual overview of how the Gateway Load Balancer works.'},\n   {'type': 'paragraph',\n    'text': '\\n<p>With Gateway Load Balancer, traffic intended for the consumer application through a Standard Load Balancer will be encapsulated with VXLAN headers and forwarded first to the Gateway Load Balancer and its configured NVAs in the backend pool. The traffic then returns to the consumer resource (in this case a Standard Load Balancer) and arrives at the consumer application virtual machines with its source IP preserved. The consumer virtual network and provider virtual network can be in different subscriptions or tenants, reducing management overhead.</p>\\n<p><span class=\"mx-imgBorder\">\\n<img alt=\"Diagram of gateway load balancer\" data-linktype=\"relative-path\" src=\"media/gateway-overview/gateway-load-balancer-diagram.png\"/>\\n</span>\\n</p>\\n<p><em>Figure: Diagram of gateway load balancer.</em></p>\\n'}]},\n {'id': 'section-5',\n  'title': 'Components',\n  'content': [{'type': 'paragraph',\n    'text': 'Gateway Load Balancer has these main parts:\\n\\n<ul>\\n  <li>\\n    <b>Frontend IP configuration</b> – This is the private IP address used by your Gateway Load Balancer. You cannot access it directly from outside.\\n    <ul>\\n      <li><i>Frontend IP configuration</i> just means the main address the system uses to accept traffic.</li>\\n    </ul>\\n  </li>\\n  <li>\\n    <b>Load-balancing rules</b> – These rules decide how to send incoming visits to computers in the backend group. The rule connects the main address and port to several computers and ports in the backend.\\n    <ul>\\n      <li>Gateway Load Balancer only uses a special kind of rule called \"HA port rules.\" This means it handles traffic in a highly available way.</li>\\n      <li>Each rule can work with up to two backend groups.</li>\\n      <li><i>Load-balancing rules</i> help make sure all computers handle similar amounts of work.</li>\\n    </ul>\\n  </li>\\n  <li>\\n    <b>Backend pool(s)</b> – This is a group of virtual computers (VMs) or a group of VMs that grow or shrink together (Virtual Machine Scale Set). These computers handle the traffic that comes in.\\n    <ul>\\n      <li>If you get more traffic, you can add more VMs to this group for better performance.</li>\\n      <li>The system changes itself right away (<i>automatic reconfiguration</i>) when you add or remove VMs. You do not need to do anything extra.</li>\\n      <li>This group must be in one virtual network.</li>\\n      <li><i>Backend pool</i> is simply the team of computers doing the main work.</li>\\n      <li><i>Virtual Machine Scale Set</i> means a group of computers that can easily grow or shrink.</li>\\n    </ul>\\n  </li>\\n  <li>\\n    <b>Tunnel interfaces</b> – These help the backend computers manage network traffic the right way.\\n    <ul>\\n      <li>Each group (backend pool) can have up to two tunnel interfaces.</li>\\n      <li><i>Tunnel interfaces</i> are like special channels for traffic. They can be internal or external:</li>\\n      <ul>\\n        <li>Use <i>external tunnel interface</i> when traffic is coming to your backend group.</li>\\n        <li>Use <i>internal tunnel interface</i> when traffic is going from your backend computer to the application.</li>\\n      </ul>\\n    </ul>\\n  </li>\\n  <li>\\n    <b>Chain</b> – You can connect a Gateway Load Balancer to another public load balancer or public IP on a computer.\\n    <ul>\\n      <li>Adding features in order is called <i>service chaining</i>. This connection is called a chain.</li>\\n      <li>If you connect to a Gateway Load Balancer in another account (<i>cross tenant chain</i>), you need:\\n        <ul>\\n          <li>Permission for the resource: Microsoft.Network/loadBalancers/frontendIPConfigurations/join/action.</li>\\n          <li><i>Guest access to the subscription</i> where the Gateway Load Balancer lives.</li>\\n        </ul>\\n      </li>\\n    </ul>\\n  </li>\\n</ul>\\n'},\n   {'type': 'paragraph',\n    'text': 'Gateway Load Balancer is made up of these parts:\\n\\n<ul>\\n<li><b>Frontend IP configuration</b> – This is the private IP address for your Gateway Load Balancer.</li>\\n<li><b>Load-balancing rules</b> – These rules decide how incoming network traffic is split among all the servers (instances) in the backend pool. Each rule links a specific frontend IP address and port to multiple backend IP addresses and ports.\\n  <ul>\\n    <li>Gateway Load Balancer only uses HA port rules.</li>\\n    <li>Each rule can connect to up to two backend pools.</li>\\n  </ul>\\n</li>\\n<li><b>Backend pool(s)</b> – This is a group of virtual machines or virtual machine scale set instances that handle incoming requests. If you need to handle more traffic, you should add more instances to the backend pool. The Load Balancer updates its settings automatically when you add or remove instances. You do not need to do anything extra. The backend pool can include any virtual machine within a single virtual network.</li>\\n<li><b>Tunnel interfaces</b> – The backend pool has tunnel interfaces. These help backend appliances manage network traffic correctly. You can have up to two tunnel interfaces per backend pool. Tunnel interfaces can be internal or external.\\n  <ul>\\n    <li>Use the <i>external</i> type for traffic coming into your backend pool.</li>\\n    <li>Use the <i>internal</i> type for traffic from your appliance to the application.</li>\\n  </ul>\\n</li>\\n<li><b>Chain</b> – A Gateway Load Balancer can be connected (chained) to a Standard Public Load Balancer frontend or a Standard Public IP configuration on a virtual machine. Adding advanced network features in order is called service chaining, and this is known as a chain. A <i>cross tenant chain</i> happens when you chain a Load Balancer frontend or Public IP to a Gateway Load Balancer in a different subscription. For cross tenant chaining, you need:\\n  <ul>\\n    <li>Permission for the resource provider operation <b>Microsoft.Network/loadBalancers/frontendIPConfigurations/join/action</b>.</li>\\n    <li>Guest access to the subscription where the Gateway Load Balancer is set up.</li>\\n  </ul>\\n</li>\\n</ul>'},\n   {'type': 'paragraph',\n    'text': '\\n<p>Gateway Load Balancer consists of the following components:</p>\\n<ul>\\n<li><p><strong>Frontend IP configuration</strong> - The IP address of your Gateway Load Balancer. This IP is private only.</p>\\n</li>\\n<li><p><strong>Load-balancing rules</strong> - A load balancer rule is used to define how incoming traffic is distributed toâ\\x80¯allâ\\x80¯the instances within the backend pool. A load-balancing rule maps a given frontend IP configuration and port to multiple backend IP addresses and ports.</p>\\n<ul>\\n<li><p>Gateway Load Balancer rules can only be HA port rules.</p>\\n</li>\\n<li><p>A Gateway Load Balancer rule can be associated with up to two backend pools.</p>\\n</li>\\n</ul>\\n</li>\\n<li><p><strong>Backend pool(s)</strong> - The group of virtual machines or instances in a Virtual Machine Scale Set that is serving the incoming request. To scale cost-effectively to meet high volumes of incoming traffic, computing guidelines generally recommend adding more instances to the backend pool. Load Balancer instantly reconfigures itself via automatic reconfiguration when you scale instances up or down. Adding or removing VMs from the backend pool reconfigures the load balancer without extra operations. The scope of the backend pool is any virtual machine in a single virtual network.</p>\\n</li>\\n<li><p><strong>Tunnel interfaces</strong> - Gateway Load balancer backend pools have another component called the tunnel interfaces. The tunnel interface enables the appliances in the backend to ensure network flows are handled as expected. Each backend pool can have up to two tunnel interfaces. Tunnel interfaces can be either internal or external. For traffic coming to your backend pool, you should use the external type. For traffic going from your appliance to the application, you should use the internal type.</p>\\n</li>\\n<li><p><strong>Chain</strong> - A Gateway Load Balancer can be referenced by a Standard Public Load Balancer frontend or a Standard Public IP configuration on a virtual machine. The addition of advanced networking capabilities in a specific sequence is known as service chaining. As a result, this reference is called a chain. A Cross tenant chain involves chaining a Load Balancer frontend or Public IP configuration to a Gateway Load Balancer that is in another subscription. For cross tenant chaining, users need:</p>\\n<ul>\\n<li>Permission for the resource provider operation <code>Microsoft.Network/loadBalancers/frontendIPConfigurations/join/action</code>.</li>\\n<li>Guest access to the subscription of the Gateway Load Balancer.</li>\\n</ul>\\n</li>\\n</ul>\\n'}]},\n {'id': 'section-6',\n  'title': 'Pricing',\n  'content': [{'type': 'paragraph',\n    'text': 'To find out how much it costs, please look at <a data-linktype=\"external\" href=\"https://azure.microsoft.com/pricing/details/load-balancer/\">Load Balancer pricing</a>.\\n\\n<b>Explanation:</b>\\n<ul>\\n  <li><i>Load Balancer pricing</i> is a page that shows how much money you need to pay to use the Azure Gateway Load Balancer. This can help you plan your spending.</li>\\n</ul>'},\n   {'type': 'paragraph',\n    'text': 'For details about pricing, visit <a data-linktype=\"external\" href=\"https://azure.microsoft.com/pricing/details/load-balancer/\">Load Balancer pricing</a>.'},\n   {'type': 'paragraph',\n    'text': '\\n<p>For pricing, see <a data-linktype=\"external\" href=\"https://azure.microsoft.com/pricing/details/load-balancer/\">Load Balancer pricing</a>.</p>\\n'}]},\n {'id': 'section-7',\n  'title': 'Limitations',\n  'content': [{'type': 'paragraph',\n    'text': '<ul>\\n<li>Gateway Load Balancer cannot be used together with something called the <b>Global Load Balancer tier</b>. The Global Load Balancer tier is a more advanced option that helps balance internet traffic on a larger, worldwide scale.</li>\\n<li><b>Cross-tenant chaining</b> does not work if you use the <b>Azure portal</b>. Cross-tenant chaining means connecting resources from different organizations or accounts together. The Azure portal is the main website you use to manage Azure services.</li>\\n</ul>'},\n   {'type': 'paragraph',\n    'text': '<ul>\\n<li>Gateway Load Balancer does not support the Global Load Balancer tier.</li>\\n<li>You cannot use cross-tenant chaining in the Azure portal.</li>\\n</ul>'},\n   {'type': 'paragraph',\n    'text': \"\\n<ul>\\n<li>Gateway Load Balancer doesn't work with the Global Load Balancer tier.</li>\\n<li>Cross-tenant chaining isn't supported through the Azure portal.</li>\\n</ul>\\n\"}]},\n {'id': 'section-8',\n  'title': 'Next steps',\n  'content': [{'type': 'paragraph',\n    'text': '<ul>\\n<li>To learn how to make a Gateway Load Balancer, follow the steps in <a data-linktype=\"relative-path\" href=\"tutorial-create-gateway-load-balancer\">Create a Gateway Load Balancer using the Azure portal</a>. <b>Gateway Load Balancer</b> is a special tool in Azure that helps share incoming internet traffic between different computers to make everything work smoothly. The <b>Azure portal</b> is a website where you can manage and set up different Azure services online.</li>\\n<li>Find out how to use Gateway Load Balancer for special situations where you want to control outgoing internet connections, by visiting <a data-linktype=\"relative-path\" href=\"tutorial-gateway-outbound-connectivity\">Gateway Load Balancer for outbound connectivity scenarios</a>. <i>Outbound connectivity scenarios</i> mean ways to manage how things inside your system connect to the internet outside.</li>\\n<li>You can learn more about the regular <b>Azure Load Balancer</b> by going to <a data-linktype=\"relative-path\" href=\"load-balancer-overview\">Azure Load Balancer</a>. It is a tool in Azure that helps keep websites and apps working by spreading work across computers.</li>\\n</ul>'},\n   {'type': 'paragraph',\n    'text': '<ul>\\n<li>Read <a data-linktype=\"relative-path\" href=\"tutorial-create-gateway-load-balancer\">Create a Gateway Load Balancer using the Azure portal</a> to learn how to set up a gateway load balancer.</li>\\n<li>See <a data-linktype=\"relative-path\" href=\"tutorial-gateway-outbound-connectivity\">Gateway Load Balancer for outbound connectivity scenarios</a> to understand how to use a gateway load balancer to manage outgoing network connections.</li>\\n<li>Find out more about <a data-linktype=\"relative-path\" href=\"load-balancer-overview\">Azure Load Balancer</a> and its features.</li>\\n</ul>'},\n   {'type': 'paragraph',\n    'text': '\\n<ul>\\n<li>See <a data-linktype=\"relative-path\" href=\"tutorial-create-gateway-load-balancer\">Create a Gateway Load Balancer using the Azure portal</a> to create a gateway load balancer.</li>\\n<li>Learn how to use <a data-linktype=\"relative-path\" href=\"tutorial-gateway-outbound-connectivity\">Gateway Load Balancer for outbound connectivity scenarios</a>.</li>\\n<li>Learn more about <a data-linktype=\"relative-path\" href=\"load-balancer-overview\">Azure Load Balancer</a>.</li>\\n</ul>\\n'}]},\n {'id': 'section-9',\n  'title': 'Feedback',\n  'content': [{'type': 'paragraph',\n    'text': 'Was this page helpful?\\n<ul>\\n  <li>You can tell us if this page was helpful by clicking \"Yes\" or \"No\".</li>\\n  <li>If you have ideas to make this product better, click <a data-linktype=\"external\" href=\"https://feedback.azure.com/d365community/forum/8ae9bf04-8326-ec11-b6e6-000d3a4f0789?c=e8894060-8326-ec11-b6e6-000d3a4f0789\">Provide product feedback</a>.</li>\\n  <li>If you need help or have questions, visit <a data-linktype=\"external\" href=\"https://learn.microsoft.com/answers/tags/230/azure-load-balancer/\">Get help at Microsoft Q&A</a>.</li>\\n</ul>'},\n   {'type': 'paragraph',\n    'text': 'Was this page helpful? \\n<ul>\\n  <li>Yes</li>\\n  <li>No</li>\\n</ul>\\n<a data-linktype=\"external\" href=\"https://feedback.azure.com/d365community/forum/8ae9bf04-8326-ec11-b6e6-000d3a4f0789?c=e8894060-8326-ec11-b6e6-000d3a4f0789\">Provide product feedback</a> | <a data-linktype=\"external\" href=\"https://learn.microsoft.com/answers/tags/230/azure-load-balancer/\">Get help at Microsoft Q&A</a>'},\n   {'type': 'paragraph',\n    'text': '\\n<div class=\"display-flex flex-wrap-wrap align-items-center\">\\n<p class=\"font-weight-semibold margin-xxs margin-left-none\">\\n\\t\\t\\t\\t\\tWas this page helpful?\\n\\t\\t\\t\\t</p>\\n<div class=\"buttons\">\\n<button aria-pressed=\"false\" class=\"thumb-rating-button like button button-primary button-sm\" data-bi-name=\"button-rating-yes\" data-binary-rating-response=\"rating-yes\" data-test-id=\"footer-rating-yes\" title=\"This article is helpful\" type=\"button\">\\n<span aria-hidden=\"true\" class=\"icon\">\\n<span class=\"docon docon-like\"></span>\\n</span>\\n<span>Yes</span>\\n</button>\\n<button aria-pressed=\"false\" class=\"thumb-rating-button dislike button button-primary button-sm\" data-bi-name=\"button-rating-no\" data-binary-rating-response=\"rating-no\" data-test-id=\"footer-rating-no\" title=\"This article is not helpful\" type=\"button\">\\n<span aria-hidden=\"true\" class=\"icon\">\\n<span class=\"docon docon-dislike\"></span>\\n</span>\\n<span>No</span>\\n</button>\\n</div>\\n</div>\\n<div class=\"display-flex flex-wrap-wrap gap-xxs margin-top-xxs\">\\n<a class=\"has-external-link-indicator\" data-bi-name=\"product-feedback\" href=\"https://feedback.azure.com/d365community/forum/8ae9bf04-8326-ec11-b6e6-000d3a4f0789?c=e8894060-8326-ec11-b6e6-000d3a4f0789\">\\n<span>Provide product feedback</span>\\n</a>\\n<span aria-hidden=\"true\">|</span>\\n<a class=\"has-external-link-indicator\" data-bi-name=\"get-help-at-qna\" href=\"https://learn.microsoft.com/answers/tags/230/azure-load-balancer/\">\\n<span>Get help at Microsoft Q&amp;A</span>\\n</a>\\n</div>\\n'}]},\n {'id': 'section-10',\n  'title': 'Additional resources',\n  'content': [{'type': 'paragraph',\n    'text': '\\n<section class=\"\" data-bi-name=\"recommendations\" hidden=\"\" id=\"right-rail-recommendations-mobile\"></section>\\n<section class=\"\" data-bi-name=\"learning-resource-card\" hidden=\"\" id=\"right-rail-training-mobile\"></section>\\n<section class=\"\" data-bi-name=\"events-card\" hidden=\"\" id=\"right-rail-events-mobile\"></section>\\n<section class=\"margin-top-xxs\" data-bi-name=\"qna-link-card\" hidden=\"\" id=\"right-rail-qna-mobile\"></section>\\n'},\n   {'type': 'paragraph',\n    'text': '\\n<section class=\"\" data-bi-name=\"recommendations\" hidden=\"\" id=\"right-rail-recommendations-mobile\"></section>\\n<section class=\"\" data-bi-name=\"learning-resource-card\" hidden=\"\" id=\"right-rail-training-mobile\"></section>\\n<section class=\"\" data-bi-name=\"events-card\" hidden=\"\" id=\"right-rail-events-mobile\"></section>\\n<section class=\"margin-top-xxs\" data-bi-name=\"qna-link-card\" hidden=\"\" id=\"right-rail-qna-mobile\"></section>\\n'},\n   {'type': 'paragraph',\n    'text': '\\n<section class=\"\" data-bi-name=\"recommendations\" hidden=\"\" id=\"right-rail-recommendations-mobile\"></section>\\n<section class=\"\" data-bi-name=\"learning-resource-card\" hidden=\"\" id=\"right-rail-training-mobile\"></section>\\n<section class=\"\" data-bi-name=\"events-card\" hidden=\"\" id=\"right-rail-events-mobile\"></section>\\n<section class=\"margin-top-xxs\" data-bi-name=\"qna-link-card\" hidden=\"\" id=\"right-rail-qna-mobile\"></section>\\n'}]}]"
          },
          "metadata": {}
        }
      ],
      "execution_count": 183,
      "metadata": {
        "gather": {
          "logged": 1750993055085
        }
      }
    },
    {
      "cell_type": "code",
      "source": [
        "final_json[\"sections\"] = sections_combined"
      ],
      "outputs": [],
      "execution_count": 184,
      "metadata": {
        "gather": {
          "logged": 1750993075509
        }
      }
    },
    {
      "cell_type": "code",
      "source": [],
      "outputs": [],
      "execution_count": null,
      "metadata": {}
    },
    {
      "cell_type": "code",
      "source": [
        "json_str = json.dumps(final_json, indent=4)  # pretty-prints with 4-space indent\n",
        "print(json_str)\n",
        "\n",
        "# 2) To save directly to a file:\n",
        "with open(\"final_version.json\", \"w\", encoding=\"utf-8\") as f:\n",
        "    json.dump(final_json, f, ensure_ascii=False, indent=4)"
      ],
      "outputs": [
        {
          "output_type": "stream",
          "name": "stdout",
          "text": "{\n    \"summaries\": {\n        \"content\": [\n            {\n                \"type\": \"paragraph\",\n                \"text\": \"<ul>\\n  <li><b>Gateway Load Balancer</b> is a special tool in Microsoft Azure that helps you control and manage network traffic for your applications.</li>\\n  <li><b>Main Use:</b> It helps you add extra security or analysis tools (like firewalls or systems that spot bad traffic) to your network easily.</li>\\n  <li><b>Easy to Use:</b> You can add or remove these tools without much extra work.</li>\\n  <li><b>How It Works:</b> All traffic going to your app goes first through these tools, making sure everything is checked and protected.</li>\\n  <li><b>Types of Tools Supported:</b> Firewalls, security scanners, tracking traffic, and more.</li>\\n  <li><b>Reliable and Efficient:</b> It keeps traffic organized, so information goes out and comes back the same way, making things stable and fast.</li>\\n  <li><b>Easy Scaling:</b> You can make your system bigger or smaller as needed without stopping everything.</li>\\n  <li><b>Works Across Companies:</b> You can connect apps and tools even if they are in different company accounts.</li>\\n  <li><b>Parts of Gateway Load Balancer:</b>\\n    <ul>\\n      <li><i>Frontend IP:</i> The private address of the balancer.</li>\\n      <li><i>Load-balancing rules:</i> Decide how to share traffic between many servers.</li>\\n      <li><i>Backend pool:</i> The group of computers handling the jobs or information.</li>\\n      <li><i>Tunnel interfaces:</i> Connections that help guide the traffic for checking.</li>\\n      <li><i>Chain:</i> A link between your network and the Gateway Load Balancer.</li>\\n    </ul>\\n  </li>\\n  <li><b>Limitations:</b> Some advanced setups are not supported, like global usage or certain types of connections in the Azure web portal.</li>\\n</ul>\"\n            },\n            {\n                \"type\": \"paragraph\",\n                \"text\": \"<ul>\\n  <li><b>Gateway Load Balancer</b> is a type (SKU) of Azure Load Balancer designed to add, manage, and scale high-performance third-party Network Virtual Appliances (NVAs) like firewalls, traffic analyzers, or DDoS protection.</li>\\n  <li><b>Easy Integration:</b> Lets you transparently insert NVAs into your application\\u2019s network path, so all traffic to/from your app goes through these appliances without complex setup.</li>\\n  <li><b>Service Chaining:</b> You can chain a Gateway Load Balancer to public endpoints with just one configuration step, ensuring advanced network functions are always included.</li>\\n  <li><b>Maintains Flow Symmetry:</b> Ensures network flows remain symmetrical (both directions use the same path), which is required for most NVAs to work properly.</li>\\n  <li><b>Automatic Scaling:</b> Easily scale up or down by adding/removing backend VMs; load balancer automatically updates itself with no extra configuration needed.</li>\\n  <li><b>Works with Both Traffic Directions:</b> Supports inspection and processing for both inbound and outbound traffic.</li>\\n  <li><b>Data Path:</b> Uses the VXLAN protocol to tunnel and route traffic through NVAs before reaching your app, while keeping the original source IP info.</li>\\n  <li><b>Main Components:</b>\\n    <ul>\\n      <li><i>Frontend IP:</i> Private IP address serving as the entry point.</li>\\n      <li><i>Load-balancing rules:</i> Define how traffic is distributed to backend instances; only supports high availability (HA) port rules.</li>\\n      <li><i>Backend Pool:</i> VM or VM Scale Set instances handling incoming requests; can be scaled easily.</li>\\n      <li><i>Tunnel Interfaces:</i> Manage flow handling between appliances and app; can be configured as internal/external as needed.</li>\\n      <li><i>Chain:</i> The reference linking a public load balancer or VM\\u2019s IP to the Gateway Load Balancer (can be across subscriptions).</li>\\n    </ul>\\n  </li>\\n  <li><b>Limitations:</b>\\n    <ul>\\n      <li>Does not support the Global Load Balancer tier.</li>\\n      <li>Cross-tenant chaining must be done outside the Azure portal.</li>\\n      <li>Cannot be set as a next hop in user-defined routes.</li>\\n    </ul>\\n  </li>\\n  <li><b>Use Cases:</b> Easily integrate firewalls, intrusion detection, packet analytics, traffic monitoring, or custom appliances into Azure applications with minimal extra management.</li>\\n</ul>\"\n            },\n            {\n                \"type\": \"paragraph\",\n                \"text\": \"<ul>\\n  <li><b>Purpose:</b> Gateway Load Balancer is an Azure Load Balancer SKU designed for high performance/high availability with third-party Network Virtual Appliances (NVAs), enabling easy deployment, scaling, and management of NVAs in network paths.</li>\\n  <li><b>Key Scenarios:</b> Enables transparent insertion of appliances for use cases such as firewalls, packet analytics, intrusion protection, traffic mirroring, DDoS, and custom appliances.</li>\\n  <li><b>Operational Model:</b> Ensures all traffic to/from a public endpoint passes through the appliance before reaching its application using \\\"bump-in-the-wire\\\" technology, maintaining flow symmetry and stickiness for seamless NVA operation.</li>\\n  <li><b>Technical Details:</b>\\n    <ul>\\n      <li>Maintains flow stickiness and symmetry for consistent routes, allowing appliances to operate properly without extra configuration.</li>\\n      <li>Health probes monitor all ports and traffic is managed via HA ports rule.</li>\\n      <li>Uses VXLAN protocol for traffic encapsulation between consumer and appliance.</li>\\n      <li>Supports scaling backend pools (VMs or VMSS) automatically as instances are added/removed.</li>\\n      <li>Allows chaining to a Standard Public Load Balancer or VM NIC IP configuration without requiring extra UDRs.</li>\\n      <li>Backend pools use tunnel interfaces (internal/external) for proper traffic flow handling.</li>\\n    </ul>\\n  </li>\\n  <li><b>Benefits:</b>\\n    <ul>\\n      <li>Transparent integration of NVAs.</li>\\n      <li>Easy addition/removal of NVAs with reduced management.</li>\\n      <li>Enhanced NVA availability and cost-effective scaling.</li>\\n      <li>Supports cross-tenant chaining (with some limitations).</li>\\n    </ul>\\n  </li>\\n  <li><b>Limitations:</b>\\n    <ul>\\n      <li>Not compatible with Global Load Balancer tier.</li>\\n      <li>Cross-tenant chaining not available via Azure portal.</li>\\n      <li>Cannot configure Gateway Load Balancer\\u2019s frontend IP as next hop in UDRs.</li>\\n    </ul>\\n  </li>\\n  <li><b>Components:</b>\\n    <ul>\\n      <li>Frontend IP (private only), load-balancing rules (only HA ports), up to two backend pools, tunnel interfaces, and service chaining references.</li>\\n    </ul>\\n  </li>\\n  <li><b>Configuration:</b> Chaining requires referencing Gateway Load Balancer from a supported consumer resource; supports inbound and outbound inspection.</li>\\n</ul>\"\n            }\n        ]\n    },\n    \"sections\": [\n        {\n            \"id\": \"section-0\",\n            \"title\": \"Gateway Load Balancer\",\n            \"content\": [\n                {\n                    \"type\": \"paragraph\",\n                    \"text\": \"Gateway Load Balancer is a special type of Azure Load Balancer. It is designed to help your apps work fast and stay available, especially when you use tools made by other companies called Network Virtual Appliances (NVAs).\\n\\nWith Gateway Load Balancer, you can:\\n<ul>\\n  <li>Set up, grow, or manage NVAs easily.</li>\\n  <li>Connect your public internet address to the Load Balancer with just one step.</li>\\n</ul>\\n\\nYou can use Gateway Load Balancer to add things like:\\n<ul>\\n  <li>Firewalls (help block unwanted traffic)</li>\\n  <li>Advanced packet analytics (look closely at the data traveling through your network)</li>\\n  <li>Intrusion detection and prevention systems (spot and stop attacks)</li>\\n  <li>Traffic mirroring (make copies of network traffic for checking)</li>\\n  <li>DDoS protection (protect against attacks that flood your service)</li>\\n  <li>Custom appliances (other tools you want to add)</li>\\n</ul>\\n\\nGateway Load Balancer lets you add or remove these tools easily, without a lot of extra work. It uses \\\"bump-in-the-wire technology,\\\" which means it puts these tools in the path of all internet traffic coming in and going out, making sure the tools check all the data before it goes to your app.\\n\\nThis load balancer makes sure that once traffic goes through a specific tool (like an NVA), all future traffic follows the same path. This is called \\\"flow symmetry\\\" and \\\"flow stickiness.\\\" It ensures everything works well without you having to set it up by hand. This way, the information (called packets) always takes the same route both ways, which is important for many network devices.\\n\\nA health probe checks all ports to make sure backend tools are working and routes traffic using a high-availability ports rule. The Gateway Load Balancer uses something called the VXLAN protocol to send data back and forth. \\n\\n<b>Explanation of difficult terms:</b>\\n<ul>\\n  <li><b>SKU</b>: Means \\\"Stock Keeping Unit,\\\" which is just a specific product or version.</li>\\n  <li><b>Azure Load Balancer</b>: A tool from Microsoft that spreads traffic across many servers.</li>\\n  <li><b>Third-party Network Virtual Appliances (NVAs)</b>: Network tools or hardware made by other companies, but run virtually (in software).</li>\\n  <li><b>Chaining</b>: Linking the Gateway Load Balancer to your public address with one step.</li>\\n  <li><b>Public endpoint</b>: The internet address for your service.</li>\\n  <li><b>Firewalls</b>: Block or allow network traffic for security.</li>\\n  <li><b>Advanced packet analytics</b>: Deep look at data moving through the network.</li>\\n  <li><b>Intrusion detection and prevention systems</b>: Spot and block attacks.</li>\\n  <li><b>Traffic mirroring</b>: Making a copy of data as it passes through.</li>\\n  <li><b>DDoS protection</b>: Keeps your service running if attacked with too much traffic.</li>\\n  <li><b>Custom appliances</b>: Any special network tool you add.</li>\\n  <li><b>Bump-in-the-wire technology</b>: Puts tools in the path of all your network traffic.</li>\\n  <li><b>Flows are symmetrical</b>: Data takes the same path going in and out.</li>\\n  <li><b>Flow stickiness</b>: Data from one user always goes through the same route or device.</li>\\n  <li><b>Backend pool</b>: A group of servers or devices that handles the traffic.</li>\\n  <li><b>Flow symmetry</b>: Makes sure traffic uses the same path both ways.</li>\\n  <li><b>Packets traverse</b>: Data travels through the network.</li>\\n  <li><b>Health probe</b>: A tool that checks if servers or devices are working.</li>\\n  <li><b>HA ports rule</b>: A rule that makes sure traffic goes to working devices on any port.</li>\\n  <li><b>VXLAN protocol</b>: A way to send network data inside other network data.</li>\\n</ul>\"\n                },\n                {\n                    \"type\": \"paragraph\",\n                    \"text\": \"Gateway Load Balancer is a special version of Azure Load Balancer designed for high-performance and high-availability uses, especially when you need to add third-party Network Virtual Appliances (NVAs). With Gateway Load Balancer, you can easily set up, scale, and manage these NVAs. To connect a Gateway Load Balancer to your public endpoint, you just need to make a single selection.\\n\\nYou can use Gateway Load Balancer to add network appliances for different purposes, such as:\\n<ul>\\n<li>Firewalls</li>\\n<li>Advanced packet analysis</li>\\n<li>Intrusion detection and prevention</li>\\n<li>Traffic mirroring</li>\\n<li>DDoS protection</li>\\n<li>Custom network appliances</li>\\n</ul>\\n\\nYou can add or remove these advanced network features easily, without extra management work. Gateway Load Balancer uses a method called \\u201cbump-in-the-wire technology,\\u201d which makes sure that all data traffic going to and from your public endpoint passes through the appliance first, before reaching your application.\\n\\nFor NVAs to work correctly, it\\u2019s important that data flows stay the same in both directions. Gateway Load Balancer keeps each connection (flow) tied to a specific backend appliance and keeps the traffic paths symmetrical. This ensures traffic to your NVA follows the same route in both directions, so your appliances can work without problems.\\n\\nThe health probe in Gateway Load Balancer checks all ports and sends traffic to backend instances using a high-availability (HA) ports rule. Traffic between users and Gateway Load Balancer uses the VXLAN protocol.\"\n                },\n                {\n                    \"type\": \"paragraph\",\n                    \"text\": \"\\n<div class=\\\"page-metadata-container display-flex gap-xxs justify-content-space-between align-items-center flex-wrap-wrap\\\" id=\\\"article-metadata\\\">\\n<div class=\\\"margin-block-xxs\\\">\\n<ul class=\\\"metadata page-metadata\\\" data-bi-name=\\\"page info\\\" dir=\\\"ltr\\\" lang=\\\"en-us\\\">\\n<li class=\\\"visibility-hidden-visual-diff\\\">\\n<local-time class=\\\"is-invisible\\\" data-article-date-source=\\\"calculated\\\" datetime=\\\"2024-08-26T17:04:00.000Z\\\" format=\\\"twoDigitNumeric\\\">\\n\\t\\t\\t\\t2024-08-26\\n\\t\\t\\t</local-time>\\n</li>\\n</ul>\\n</div>\\n<div class=\\\"margin-block-xxs display-none display-none-print\\\" data-hide-on-archived=\\\"\\\" hidden=\\\"\\\" id=\\\"user-feedback\\\">\\n<button class=\\\"button button-sm button-clear button-primary display-none\\\" data-bi-name=\\\"user-feedback-button\\\" data-test-id=\\\"conceptual-feedback-button\\\" data-user-feedback-button=\\\"\\\" hidden=\\\"\\\" id=\\\"user-feedback-button\\\" type=\\\"button\\\">\\n<span aria-hidden=\\\"true\\\" class=\\\"icon\\\">\\n<span class=\\\"docon docon-like\\\"></span>\\n</span>\\n<span>Feedback</span>\\n</button>\\n</div>\\n</div>\\n<div class=\\\"margin-block-xxs\\\">\\n<ul class=\\\"metadata page-metadata\\\" data-bi-name=\\\"page info\\\" dir=\\\"ltr\\\" lang=\\\"en-us\\\">\\n<li class=\\\"visibility-hidden-visual-diff\\\">\\n<local-time class=\\\"is-invisible\\\" data-article-date-source=\\\"calculated\\\" datetime=\\\"2024-08-26T17:04:00.000Z\\\" format=\\\"twoDigitNumeric\\\">\\n\\t\\t\\t\\t2024-08-26\\n\\t\\t\\t</local-time>\\n</li>\\n</ul>\\n</div>\\n<ul class=\\\"metadata page-metadata\\\" data-bi-name=\\\"page info\\\" dir=\\\"ltr\\\" lang=\\\"en-us\\\">\\n<li class=\\\"visibility-hidden-visual-diff\\\">\\n<local-time class=\\\"is-invisible\\\" data-article-date-source=\\\"calculated\\\" datetime=\\\"2024-08-26T17:04:00.000Z\\\" format=\\\"twoDigitNumeric\\\">\\n\\t\\t\\t\\t2024-08-26\\n\\t\\t\\t</local-time>\\n</li>\\n</ul>\\n<li class=\\\"visibility-hidden-visual-diff\\\">\\n<local-time class=\\\"is-invisible\\\" data-article-date-source=\\\"calculated\\\" datetime=\\\"2024-08-26T17:04:00.000Z\\\" format=\\\"twoDigitNumeric\\\">\\n\\t\\t\\t\\t2024-08-26\\n\\t\\t\\t</local-time>\\n</li>\\n<local-time class=\\\"is-invisible\\\" data-article-date-source=\\\"calculated\\\" datetime=\\\"2024-08-26T17:04:00.000Z\\\" format=\\\"twoDigitNumeric\\\">\\n\\t\\t\\t\\t2024-08-26\\n\\t\\t\\t</local-time>\\n\\t\\t\\t\\t2024-08-26\\n\\t\\t\\t\\n\\n\\n\\n<div class=\\\"margin-block-xxs display-none display-none-print\\\" data-hide-on-archived=\\\"\\\" hidden=\\\"\\\" id=\\\"user-feedback\\\">\\n<button class=\\\"button button-sm button-clear button-primary display-none\\\" data-bi-name=\\\"user-feedback-button\\\" data-test-id=\\\"conceptual-feedback-button\\\" data-user-feedback-button=\\\"\\\" hidden=\\\"\\\" id=\\\"user-feedback-button\\\" type=\\\"button\\\">\\n<span aria-hidden=\\\"true\\\" class=\\\"icon\\\">\\n<span class=\\\"docon docon-like\\\"></span>\\n</span>\\n<span>Feedback</span>\\n</button>\\n</div>\\n<button class=\\\"button button-sm button-clear button-primary display-none\\\" data-bi-name=\\\"user-feedback-button\\\" data-test-id=\\\"conceptual-feedback-button\\\" data-user-feedback-button=\\\"\\\" hidden=\\\"\\\" id=\\\"user-feedback-button\\\" type=\\\"button\\\">\\n<span aria-hidden=\\\"true\\\" class=\\\"icon\\\">\\n<span class=\\\"docon docon-like\\\"></span>\\n</span>\\n<span>Feedback</span>\\n</button>\\n<span aria-hidden=\\\"true\\\" class=\\\"icon\\\">\\n<span class=\\\"docon docon-like\\\"></span>\\n</span>\\n<span class=\\\"docon docon-like\\\"></span>\\n\\n<span>Feedback</span>Feedback\\n\\n\\n\\n<nav aria-label=\\\"In this article\\\" class=\\\"doc-outline is-hidden-desktop display-none-print margin-bottom-sm\\\" data-bi-name=\\\"intopic toc\\\" id=\\\"center-doc-outline\\\">\\n<h2 class=\\\"title is-6 margin-block-xs\\\" id=\\\"ms--in-this-article\\\">\"\n                }\n            ]\n        },\n        {\n            \"id\": \"section-2\",\n            \"title\": \"Benefits\",\n            \"content\": [\n                {\n                    \"type\": \"paragraph\",\n                    \"text\": \"<ul>\\n  <li><b>Easy Connection:</b> You can connect special computer tools (called <i>virtual appliances</i> or <i>network virtual appliances</i>) into your network without any complicated steps or changes. These virtual appliances are software tools that help protect or manage your network.</li>\\n  <li><b>Simple Updates:</b> You can add or remove these virtual appliances from your network whenever you want, without much trouble.</li>\\n  <li><b>Easy to Grow:</b> As your needs grow, you can make your setup bigger easily and without spending too much money.</li>\\n  <li><b>More Reliable:</b> These tools help make sure your network virtual appliances are available when you need them, improving their reliability.</li>\\n  <li><b>Connect Different Groups:</b> You can set up your system so that apps can work together between different <i>tenants</i> (which means different groups of users) and <i>subscriptions</i> (different accounts in Azure with their own resources).</li>\\n</ul>\"\n                },\n                {\n                    \"type\": \"paragraph\",\n                    \"text\": \"<ul>\\n<li>You can add virtual appliances to your network without changing how your network works.</li>\\n<li>You can quickly add or remove network virtual appliances in your network path as needed.</li>\\n<li>You can handle more traffic easily, while keeping your costs under control.</li>\\n<li>You can make your network virtual appliances more reliable and available.</li>\\n<li>You can connect or chain applications that are in different tenants and subscriptions.</li>\\n</ul>\"\n                },\n                {\n                    \"type\": \"paragraph\",\n                    \"text\": \"\\n<p>Gateway Load Balancer has the following benefits:</p>\\n<ul>\\n<li><p>Integrate virtual appliances transparently into the network path.</p>\\n</li>\\n<li><p>Easily add or remove network virtual appliances in the network path.</p>\\n</li>\\n<li><p>Scale with ease while managing costs.</p>\\n</li>\\n<li><p>Improve network virtual appliance availability.</p>\\n</li>\\n<li><p>Chain applications across tenants and subscriptions</p>\\n</li>\\n</ul>\\n\"\n                }\n            ]\n        },\n        {\n            \"id\": \"section-3\",\n            \"title\": \"Configuration and supported scenarios\",\n            \"content\": [\n                {\n                    \"type\": \"paragraph\",\n                    \"text\": \"You can connect (or \\\"chain\\\") a Standard Public Load Balancer or the main network settings (called Standard IP configuration) of a virtual machine to a Gateway Load Balancer. \\n\\n<b>What does \\\"chaining\\\" mean?</b>\\n<ul>\\n<li>\\\"Chaining\\\" means linking the main entry point of a load balancer (called the frontend) or a network card's IP settings (NIC IP configuration) to the main entry point of a Gateway Load Balancer. </li>\\n</ul>\\n\\nOnce the Gateway Load Balancer is linked to another resource (like a Standard Public Load Balancer or a virtual machine), you do not need to add any extra settings (like UDRs, which are special routing rules), to send network traffic to and from your app through the Gateway Load Balancer.\\n\\n<b>What does the Gateway Load Balancer do?</b>\\n<ul>\\n<li>It can check both traffic coming in (inbound) and going out (outbound).</li>\\n</ul>\\n\\n<b>How does it help with outbound traffic and NVAs?</b>\\n<ul>\\n<li>If you want to add devices that inspect or change network traffic (called NVAs, or Network Virtual Appliances) in the path of traffic leaving your network, you must connect the Gateway Load Balancer to the main entry points (frontend IP configurations) that are picked in the outbound rules for your Standard Load Balancer.</li>\\n</ul>\\n\\n<b>Important Note:</b>\\n<ul>\\n<li>You cannot set the Gateway Load Balancer's address as the \\\"next hop\\\" in your special routing rules (UDRs).</li>\\n<li>The Gateway Load Balancer must always be directly linked (chained/referenced) by a supported resource, such as a Standard Public Load Balancer or a Standard network card IP configuration.</li>\\n</ul>\\n\\n<i>Explanation of difficult terms:</i>\\n<ul>\\n<li><b>Standard Public Load Balancer</b>: A tool that spreads network traffic across multiple devices from the internet.</li>\\n<li><b>Standard IP configuration</b>: Main network settings for a device in the cloud.</li>\\n<li><b>Chained</b>: Connecting or linking one service to another.</li>\\n<li><b>Load balancer frontend</b>: The main entry point for traffic coming to a load balancer.</li>\\n<li><b>NIC IP configuration</b>: Network settings for a virtual network card attached to a virtual machine.</li>\\n<li><b>Gateway Load Balancer frontend IP configuration</b>: The main entry point of a Gateway Load Balancer.</li>\\n<li><b>Consumer resource</b>: A service or device that uses the load balancer.</li>\\n<li><b>UDRs (user-defined routes)</b>: Custom rules that guide how network traffic moves.</li>\\n<li><b>Traffic inspection</b>: Checking and analyzing network traffic.</li>\\n<li><b>NVAs (Network Virtual Appliances)</b>: Virtual tools or devices that can inspect or change your network traffic.</li>\\n<li><b>Frontend IP configurations</b>: Settings for the entry point of network devices.</li>\\n<li><b>Outbound rules</b>: Rules about traffic leaving your system.</li>\\n<li><b>Next hop</b>: The next stop where network traffic goes.</li>\\n<li><b>Resources must be chained/referenced</b>: Gateway Load Balancer must always be directly connected to supported services.</li>\\n</ul>\"\n                },\n                {\n                    \"type\": \"paragraph\",\n                    \"text\": \"<ul>\\n  <li>You can connect a Standard Public Load Balancer or a Standard IP configuration of a virtual machine to a Gateway Load Balancer. This is called \\\"chaining.\\\" Chaining means adding a reference from the load balancer frontend or the network interface card (NIC) IP configuration to the frontend IP of the Gateway Load Balancer.</li>\\n  <li>After you chain the Gateway Load Balancer to a resource (like a Load Balancer or NIC IP configuration), you do not need extra settings such as user-defined routes (UDRs). All traffic to and from your application will automatically go through the Gateway Load Balancer.</li>\\n  <li>Gateway Load Balancer can check both incoming and outgoing traffic. If you want to add a Network Virtual Appliance (NVA) to the outbound traffic path when using a Standard Load Balancer, make sure to chain the Gateway Load Balancer to the frontend IP configurations that are chosen in your outbound rules.</li>\\n  <li><b>Note:</b> You cannot use the Gateway Load Balancer\\u2019s frontend IP directly as the next hop in user-defined routes (UDRs). To use the Gateway Load Balancer, you must connect it through a supported consumer resource, like a Standard Public Load Balancer or a Standard NIC IP configuration.</li>\\n</ul>\"\n                },\n                {\n                    \"type\": \"paragraph\",\n                    \"text\": \"\\n<p>A Standard Public Load Balancer or a Standard IP configuration of a virtual machine can be chained to a Gateway Load Balancer. \\\"Chaining\\\" refers to the load balancer frontend or NIC IP configuration containing a reference to a Gateway Load Balancer frontend IP configuration. Once the Gateway Load Balancer is chained to a consumer resource, no additional configuration such as UDRs is needed to ensure traffic to and from the application endpoint is sent to the Gateway Load Balancer.</p>\\n<p>Gateway Load Balancer supports both inbound and outbound traffic inspection. For inserting NVAs in the path of outbound traffic with Standard Load Balancer, Gateway Load Balancer must be chained to the frontend IP configurations selected in the configured outbound rules.</p>\\n<div class=\\\"NOTE\\\">\\n<p>Note</p>\\n<p>Configuring a Gateway Load Balancer's frontend IP as the next hop in user-defined routes (UDRs) is not supported. Gateway Load Balancer resources must be chained/referenced by a supported consumer resource such as a Standard Public Load Balancer or Standard NIC IP configuration.</p>\\n</div>\\n\"\n                }\n            ]\n        },\n        {\n            \"id\": \"section-4\",\n            \"title\": \"Data path diagram\",\n            \"content\": [\n                {\n                    \"type\": \"paragraph\",\n                    \"text\": \"When you use a Gateway Load Balancer, the data going to your app does not go straight there. Instead, it works like this:\\n\\n<ul>\\n  <li>The data first goes through a special worker called the <b>Standard Load Balancer</b>. Think of this as a gatekeeper that shares work between different helpers.</li>\\n  <li>Next, the data is wrapped in a \\\"package\\\" called a <b>VXLAN header</b>. This just means the data is put inside another cover so it can travel safely and be recognized by the right helpers.</li>\\n  <li>This wrapped data now goes to the <b>Gateway Load Balancer</b> (another helper that checks and protects the data).</li>\\n  <li>The Gateway Load Balancer sends the data to special computers called <b>NVAs</b> (Network Virtual Appliances), which do extra checks or work on the data. These NVAs are put in a group called the <b>backend pool</b>, which means a collection of helpers ready to work.</li>\\n  <li>Once the NVAs are done, they send the data back to your app. The data arrives at your app's computers (<b>virtual machines</b>), keeping the original sender's address (<b>source IP preserved</b>), so your app knows where it came from.</li>\\n  <li>The network where your app is (<b>consumer virtual network</b>) and the network providing the helpers (<b>provider virtual network</b>) can be managed separately. They can even belong to different people or organizations (<b>subscriptions</b> or <b>tenants</b>).</li>\\n  <li>This setup makes management easier because different teams can control their own parts without getting in each other's way.</li>\\n</ul>\\n\\nSee the diagram below for a simple picture of how this works.\"\n                },\n                {\n                    \"type\": \"paragraph\",\n                    \"text\": \"When you use Gateway Load Balancer, network traffic meant for your application first goes through a Standard Load Balancer. This traffic is wrapped (encapsulated) with special VXLAN headers and sent to the Gateway Load Balancer. The Gateway Load Balancer sends the traffic to its network virtual appliances (NVAs) in the backend pool for processing.\\n\\nAfter this, the traffic returns to the original consumer resource, which is the Standard Load Balancer, and then reaches your application\\u2019s virtual machines. The source IP address of the traffic is kept the same throughout this process.\\n\\nThe consumer virtual network (where your app runs) and the provider virtual network (where the Gateway Load Balancer and NVAs are) do not have to be in the same subscription or tenant. This makes management simpler and more flexible.\\n\\nPlease refer to the diagram for a visual overview of how the Gateway Load Balancer works.\"\n                },\n                {\n                    \"type\": \"paragraph\",\n                    \"text\": \"\\n<p>With Gateway Load Balancer, traffic intended for the consumer application through a Standard Load Balancer will be encapsulated with VXLAN headers and forwarded first to the Gateway Load Balancer and its configured NVAs in the backend pool. The traffic then returns to the consumer resource (in this case a Standard Load Balancer) and arrives at the consumer application virtual machines with its source IP preserved. The consumer virtual network and provider virtual network can be in different subscriptions or tenants, reducing management overhead.</p>\\n<p><span class=\\\"mx-imgBorder\\\">\\n<img alt=\\\"Diagram of gateway load balancer\\\" data-linktype=\\\"relative-path\\\" src=\\\"media/gateway-overview/gateway-load-balancer-diagram.png\\\"/>\\n</span>\\n</p>\\n<p><em>Figure: Diagram of gateway load balancer.</em></p>\\n\"\n                }\n            ]\n        },\n        {\n            \"id\": \"section-5\",\n            \"title\": \"Components\",\n            \"content\": [\n                {\n                    \"type\": \"paragraph\",\n                    \"text\": \"Gateway Load Balancer has these main parts:\\n\\n<ul>\\n  <li>\\n    <b>Frontend IP configuration</b> \\u2013 This is the private IP address used by your Gateway Load Balancer. You cannot access it directly from outside.\\n    <ul>\\n      <li><i>Frontend IP configuration</i> just means the main address the system uses to accept traffic.</li>\\n    </ul>\\n  </li>\\n  <li>\\n    <b>Load-balancing rules</b> \\u2013 These rules decide how to send incoming visits to computers in the backend group. The rule connects the main address and port to several computers and ports in the backend.\\n    <ul>\\n      <li>Gateway Load Balancer only uses a special kind of rule called \\\"HA port rules.\\\" This means it handles traffic in a highly available way.</li>\\n      <li>Each rule can work with up to two backend groups.</li>\\n      <li><i>Load-balancing rules</i> help make sure all computers handle similar amounts of work.</li>\\n    </ul>\\n  </li>\\n  <li>\\n    <b>Backend pool(s)</b> \\u2013 This is a group of virtual computers (VMs) or a group of VMs that grow or shrink together (Virtual Machine Scale Set). These computers handle the traffic that comes in.\\n    <ul>\\n      <li>If you get more traffic, you can add more VMs to this group for better performance.</li>\\n      <li>The system changes itself right away (<i>automatic reconfiguration</i>) when you add or remove VMs. You do not need to do anything extra.</li>\\n      <li>This group must be in one virtual network.</li>\\n      <li><i>Backend pool</i> is simply the team of computers doing the main work.</li>\\n      <li><i>Virtual Machine Scale Set</i> means a group of computers that can easily grow or shrink.</li>\\n    </ul>\\n  </li>\\n  <li>\\n    <b>Tunnel interfaces</b> \\u2013 These help the backend computers manage network traffic the right way.\\n    <ul>\\n      <li>Each group (backend pool) can have up to two tunnel interfaces.</li>\\n      <li><i>Tunnel interfaces</i> are like special channels for traffic. They can be internal or external:</li>\\n      <ul>\\n        <li>Use <i>external tunnel interface</i> when traffic is coming to your backend group.</li>\\n        <li>Use <i>internal tunnel interface</i> when traffic is going from your backend computer to the application.</li>\\n      </ul>\\n    </ul>\\n  </li>\\n  <li>\\n    <b>Chain</b> \\u2013 You can connect a Gateway Load Balancer to another public load balancer or public IP on a computer.\\n    <ul>\\n      <li>Adding features in order is called <i>service chaining</i>. This connection is called a chain.</li>\\n      <li>If you connect to a Gateway Load Balancer in another account (<i>cross tenant chain</i>), you need:\\n        <ul>\\n          <li>Permission for the resource: Microsoft.Network/loadBalancers/frontendIPConfigurations/join/action.</li>\\n          <li><i>Guest access to the subscription</i> where the Gateway Load Balancer lives.</li>\\n        </ul>\\n      </li>\\n    </ul>\\n  </li>\\n</ul>\\n\"\n                },\n                {\n                    \"type\": \"paragraph\",\n                    \"text\": \"Gateway Load Balancer is made up of these parts:\\n\\n<ul>\\n<li><b>Frontend IP configuration</b> \\u2013 This is the private IP address for your Gateway Load Balancer.</li>\\n<li><b>Load-balancing rules</b> \\u2013 These rules decide how incoming network traffic is split among all the servers (instances) in the backend pool. Each rule links a specific frontend IP address and port to multiple backend IP addresses and ports.\\n  <ul>\\n    <li>Gateway Load Balancer only uses HA port rules.</li>\\n    <li>Each rule can connect to up to two backend pools.</li>\\n  </ul>\\n</li>\\n<li><b>Backend pool(s)</b> \\u2013 This is a group of virtual machines or virtual machine scale set instances that handle incoming requests. If you need to handle more traffic, you should add more instances to the backend pool. The Load Balancer updates its settings automatically when you add or remove instances. You do not need to do anything extra. The backend pool can include any virtual machine within a single virtual network.</li>\\n<li><b>Tunnel interfaces</b> \\u2013 The backend pool has tunnel interfaces. These help backend appliances manage network traffic correctly. You can have up to two tunnel interfaces per backend pool. Tunnel interfaces can be internal or external.\\n  <ul>\\n    <li>Use the <i>external</i> type for traffic coming into your backend pool.</li>\\n    <li>Use the <i>internal</i> type for traffic from your appliance to the application.</li>\\n  </ul>\\n</li>\\n<li><b>Chain</b> \\u2013 A Gateway Load Balancer can be connected (chained) to a Standard Public Load Balancer frontend or a Standard Public IP configuration on a virtual machine. Adding advanced network features in order is called service chaining, and this is known as a chain. A <i>cross tenant chain</i> happens when you chain a Load Balancer frontend or Public IP to a Gateway Load Balancer in a different subscription. For cross tenant chaining, you need:\\n  <ul>\\n    <li>Permission for the resource provider operation <b>Microsoft.Network/loadBalancers/frontendIPConfigurations/join/action</b>.</li>\\n    <li>Guest access to the subscription where the Gateway Load Balancer is set up.</li>\\n  </ul>\\n</li>\\n</ul>\"\n                },\n                {\n                    \"type\": \"paragraph\",\n                    \"text\": \"\\n<p>Gateway Load Balancer consists of the following components:</p>\\n<ul>\\n<li><p><strong>Frontend IP configuration</strong> - The IP address of your Gateway Load Balancer. This IP is private only.</p>\\n</li>\\n<li><p><strong>Load-balancing rules</strong> - A load balancer rule is used to define how incoming traffic is distributed to\\u00e2\\u0080\\u00afall\\u00e2\\u0080\\u00afthe instances within the backend pool. A load-balancing rule maps a given frontend IP configuration and port to multiple backend IP addresses and ports.</p>\\n<ul>\\n<li><p>Gateway Load Balancer rules can only be HA port rules.</p>\\n</li>\\n<li><p>A Gateway Load Balancer rule can be associated with up to two backend pools.</p>\\n</li>\\n</ul>\\n</li>\\n<li><p><strong>Backend pool(s)</strong> - The group of virtual machines or instances in a Virtual Machine Scale Set that is serving the incoming request. To scale cost-effectively to meet high volumes of incoming traffic, computing guidelines generally recommend adding more instances to the backend pool. Load Balancer instantly reconfigures itself via automatic reconfiguration when you scale instances up or down. Adding or removing VMs from the backend pool reconfigures the load balancer without extra operations. The scope of the backend pool is any virtual machine in a single virtual network.</p>\\n</li>\\n<li><p><strong>Tunnel interfaces</strong> - Gateway Load balancer backend pools have another component called the tunnel interfaces. The tunnel interface enables the appliances in the backend to ensure network flows are handled as expected. Each backend pool can have up to two tunnel interfaces. Tunnel interfaces can be either internal or external. For traffic coming to your backend pool, you should use the external type. For traffic going from your appliance to the application, you should use the internal type.</p>\\n</li>\\n<li><p><strong>Chain</strong> - A Gateway Load Balancer can be referenced by a Standard Public Load Balancer frontend or a Standard Public IP configuration on a virtual machine. The addition of advanced networking capabilities in a specific sequence is known as service chaining. As a result, this reference is called a chain. A Cross tenant chain involves chaining a Load Balancer frontend or Public IP configuration to a Gateway Load Balancer that is in another subscription. For cross tenant chaining, users need:</p>\\n<ul>\\n<li>Permission for the resource provider operation <code>Microsoft.Network/loadBalancers/frontendIPConfigurations/join/action</code>.</li>\\n<li>Guest access to the subscription of the Gateway Load Balancer.</li>\\n</ul>\\n</li>\\n</ul>\\n\"\n                }\n            ]\n        },\n        {\n            \"id\": \"section-6\",\n            \"title\": \"Pricing\",\n            \"content\": [\n                {\n                    \"type\": \"paragraph\",\n                    \"text\": \"To find out how much it costs, please look at <a data-linktype=\\\"external\\\" href=\\\"https://azure.microsoft.com/pricing/details/load-balancer/\\\">Load Balancer pricing</a>.\\n\\n<b>Explanation:</b>\\n<ul>\\n  <li><i>Load Balancer pricing</i> is a page that shows how much money you need to pay to use the Azure Gateway Load Balancer. This can help you plan your spending.</li>\\n</ul>\"\n                },\n                {\n                    \"type\": \"paragraph\",\n                    \"text\": \"For details about pricing, visit <a data-linktype=\\\"external\\\" href=\\\"https://azure.microsoft.com/pricing/details/load-balancer/\\\">Load Balancer pricing</a>.\"\n                },\n                {\n                    \"type\": \"paragraph\",\n                    \"text\": \"\\n<p>For pricing, see <a data-linktype=\\\"external\\\" href=\\\"https://azure.microsoft.com/pricing/details/load-balancer/\\\">Load Balancer pricing</a>.</p>\\n\"\n                }\n            ]\n        },\n        {\n            \"id\": \"section-7\",\n            \"title\": \"Limitations\",\n            \"content\": [\n                {\n                    \"type\": \"paragraph\",\n                    \"text\": \"<ul>\\n<li>Gateway Load Balancer cannot be used together with something called the <b>Global Load Balancer tier</b>. The Global Load Balancer tier is a more advanced option that helps balance internet traffic on a larger, worldwide scale.</li>\\n<li><b>Cross-tenant chaining</b> does not work if you use the <b>Azure portal</b>. Cross-tenant chaining means connecting resources from different organizations or accounts together. The Azure portal is the main website you use to manage Azure services.</li>\\n</ul>\"\n                },\n                {\n                    \"type\": \"paragraph\",\n                    \"text\": \"<ul>\\n<li>Gateway Load Balancer does not support the Global Load Balancer tier.</li>\\n<li>You cannot use cross-tenant chaining in the Azure portal.</li>\\n</ul>\"\n                },\n                {\n                    \"type\": \"paragraph\",\n                    \"text\": \"\\n<ul>\\n<li>Gateway Load Balancer doesn't work with the Global Load Balancer tier.</li>\\n<li>Cross-tenant chaining isn't supported through the Azure portal.</li>\\n</ul>\\n\"\n                }\n            ]\n        },\n        {\n            \"id\": \"section-8\",\n            \"title\": \"Next steps\",\n            \"content\": [\n                {\n                    \"type\": \"paragraph\",\n                    \"text\": \"<ul>\\n<li>To learn how to make a Gateway Load Balancer, follow the steps in <a data-linktype=\\\"relative-path\\\" href=\\\"tutorial-create-gateway-load-balancer\\\">Create a Gateway Load Balancer using the Azure portal</a>. <b>Gateway Load Balancer</b> is a special tool in Azure that helps share incoming internet traffic between different computers to make everything work smoothly. The <b>Azure portal</b> is a website where you can manage and set up different Azure services online.</li>\\n<li>Find out how to use Gateway Load Balancer for special situations where you want to control outgoing internet connections, by visiting <a data-linktype=\\\"relative-path\\\" href=\\\"tutorial-gateway-outbound-connectivity\\\">Gateway Load Balancer for outbound connectivity scenarios</a>. <i>Outbound connectivity scenarios</i> mean ways to manage how things inside your system connect to the internet outside.</li>\\n<li>You can learn more about the regular <b>Azure Load Balancer</b> by going to <a data-linktype=\\\"relative-path\\\" href=\\\"load-balancer-overview\\\">Azure Load Balancer</a>. It is a tool in Azure that helps keep websites and apps working by spreading work across computers.</li>\\n</ul>\"\n                },\n                {\n                    \"type\": \"paragraph\",\n                    \"text\": \"<ul>\\n<li>Read <a data-linktype=\\\"relative-path\\\" href=\\\"tutorial-create-gateway-load-balancer\\\">Create a Gateway Load Balancer using the Azure portal</a> to learn how to set up a gateway load balancer.</li>\\n<li>See <a data-linktype=\\\"relative-path\\\" href=\\\"tutorial-gateway-outbound-connectivity\\\">Gateway Load Balancer for outbound connectivity scenarios</a> to understand how to use a gateway load balancer to manage outgoing network connections.</li>\\n<li>Find out more about <a data-linktype=\\\"relative-path\\\" href=\\\"load-balancer-overview\\\">Azure Load Balancer</a> and its features.</li>\\n</ul>\"\n                },\n                {\n                    \"type\": \"paragraph\",\n                    \"text\": \"\\n<ul>\\n<li>See <a data-linktype=\\\"relative-path\\\" href=\\\"tutorial-create-gateway-load-balancer\\\">Create a Gateway Load Balancer using the Azure portal</a> to create a gateway load balancer.</li>\\n<li>Learn how to use <a data-linktype=\\\"relative-path\\\" href=\\\"tutorial-gateway-outbound-connectivity\\\">Gateway Load Balancer for outbound connectivity scenarios</a>.</li>\\n<li>Learn more about <a data-linktype=\\\"relative-path\\\" href=\\\"load-balancer-overview\\\">Azure Load Balancer</a>.</li>\\n</ul>\\n\"\n                }\n            ]\n        },\n        {\n            \"id\": \"section-9\",\n            \"title\": \"Feedback\",\n            \"content\": [\n                {\n                    \"type\": \"paragraph\",\n                    \"text\": \"Was this page helpful?\\n<ul>\\n  <li>You can tell us if this page was helpful by clicking \\\"Yes\\\" or \\\"No\\\".</li>\\n  <li>If you have ideas to make this product better, click <a data-linktype=\\\"external\\\" href=\\\"https://feedback.azure.com/d365community/forum/8ae9bf04-8326-ec11-b6e6-000d3a4f0789?c=e8894060-8326-ec11-b6e6-000d3a4f0789\\\">Provide product feedback</a>.</li>\\n  <li>If you need help or have questions, visit <a data-linktype=\\\"external\\\" href=\\\"https://learn.microsoft.com/answers/tags/230/azure-load-balancer/\\\">Get help at Microsoft Q&A</a>.</li>\\n</ul>\"\n                },\n                {\n                    \"type\": \"paragraph\",\n                    \"text\": \"Was this page helpful? \\n<ul>\\n  <li>Yes</li>\\n  <li>No</li>\\n</ul>\\n<a data-linktype=\\\"external\\\" href=\\\"https://feedback.azure.com/d365community/forum/8ae9bf04-8326-ec11-b6e6-000d3a4f0789?c=e8894060-8326-ec11-b6e6-000d3a4f0789\\\">Provide product feedback</a> | <a data-linktype=\\\"external\\\" href=\\\"https://learn.microsoft.com/answers/tags/230/azure-load-balancer/\\\">Get help at Microsoft Q&A</a>\"\n                },\n                {\n                    \"type\": \"paragraph\",\n                    \"text\": \"\\n<div class=\\\"display-flex flex-wrap-wrap align-items-center\\\">\\n<p class=\\\"font-weight-semibold margin-xxs margin-left-none\\\">\\n\\t\\t\\t\\t\\tWas this page helpful?\\n\\t\\t\\t\\t</p>\\n<div class=\\\"buttons\\\">\\n<button aria-pressed=\\\"false\\\" class=\\\"thumb-rating-button like button button-primary button-sm\\\" data-bi-name=\\\"button-rating-yes\\\" data-binary-rating-response=\\\"rating-yes\\\" data-test-id=\\\"footer-rating-yes\\\" title=\\\"This article is helpful\\\" type=\\\"button\\\">\\n<span aria-hidden=\\\"true\\\" class=\\\"icon\\\">\\n<span class=\\\"docon docon-like\\\"></span>\\n</span>\\n<span>Yes</span>\\n</button>\\n<button aria-pressed=\\\"false\\\" class=\\\"thumb-rating-button dislike button button-primary button-sm\\\" data-bi-name=\\\"button-rating-no\\\" data-binary-rating-response=\\\"rating-no\\\" data-test-id=\\\"footer-rating-no\\\" title=\\\"This article is not helpful\\\" type=\\\"button\\\">\\n<span aria-hidden=\\\"true\\\" class=\\\"icon\\\">\\n<span class=\\\"docon docon-dislike\\\"></span>\\n</span>\\n<span>No</span>\\n</button>\\n</div>\\n</div>\\n<div class=\\\"display-flex flex-wrap-wrap gap-xxs margin-top-xxs\\\">\\n<a class=\\\"has-external-link-indicator\\\" data-bi-name=\\\"product-feedback\\\" href=\\\"https://feedback.azure.com/d365community/forum/8ae9bf04-8326-ec11-b6e6-000d3a4f0789?c=e8894060-8326-ec11-b6e6-000d3a4f0789\\\">\\n<span>Provide product feedback</span>\\n</a>\\n<span aria-hidden=\\\"true\\\">|</span>\\n<a class=\\\"has-external-link-indicator\\\" data-bi-name=\\\"get-help-at-qna\\\" href=\\\"https://learn.microsoft.com/answers/tags/230/azure-load-balancer/\\\">\\n<span>Get help at Microsoft Q&amp;A</span>\\n</a>\\n</div>\\n\"\n                }\n            ]\n        },\n        {\n            \"id\": \"section-10\",\n            \"title\": \"Additional resources\",\n            \"content\": [\n                {\n                    \"type\": \"paragraph\",\n                    \"text\": \"\\n<section class=\\\"\\\" data-bi-name=\\\"recommendations\\\" hidden=\\\"\\\" id=\\\"right-rail-recommendations-mobile\\\"></section>\\n<section class=\\\"\\\" data-bi-name=\\\"learning-resource-card\\\" hidden=\\\"\\\" id=\\\"right-rail-training-mobile\\\"></section>\\n<section class=\\\"\\\" data-bi-name=\\\"events-card\\\" hidden=\\\"\\\" id=\\\"right-rail-events-mobile\\\"></section>\\n<section class=\\\"margin-top-xxs\\\" data-bi-name=\\\"qna-link-card\\\" hidden=\\\"\\\" id=\\\"right-rail-qna-mobile\\\"></section>\\n\"\n                },\n                {\n                    \"type\": \"paragraph\",\n                    \"text\": \"\\n<section class=\\\"\\\" data-bi-name=\\\"recommendations\\\" hidden=\\\"\\\" id=\\\"right-rail-recommendations-mobile\\\"></section>\\n<section class=\\\"\\\" data-bi-name=\\\"learning-resource-card\\\" hidden=\\\"\\\" id=\\\"right-rail-training-mobile\\\"></section>\\n<section class=\\\"\\\" data-bi-name=\\\"events-card\\\" hidden=\\\"\\\" id=\\\"right-rail-events-mobile\\\"></section>\\n<section class=\\\"margin-top-xxs\\\" data-bi-name=\\\"qna-link-card\\\" hidden=\\\"\\\" id=\\\"right-rail-qna-mobile\\\"></section>\\n\"\n                },\n                {\n                    \"type\": \"paragraph\",\n                    \"text\": \"\\n<section class=\\\"\\\" data-bi-name=\\\"recommendations\\\" hidden=\\\"\\\" id=\\\"right-rail-recommendations-mobile\\\"></section>\\n<section class=\\\"\\\" data-bi-name=\\\"learning-resource-card\\\" hidden=\\\"\\\" id=\\\"right-rail-training-mobile\\\"></section>\\n<section class=\\\"\\\" data-bi-name=\\\"events-card\\\" hidden=\\\"\\\" id=\\\"right-rail-events-mobile\\\"></section>\\n<section class=\\\"margin-top-xxs\\\" data-bi-name=\\\"qna-link-card\\\" hidden=\\\"\\\" id=\\\"right-rail-qna-mobile\\\"></section>\\n\"\n                }\n            ]\n        }\n    ]\n}\n"
        }
      ],
      "execution_count": 185,
      "metadata": {
        "gather": {
          "logged": 1750993109722
        }
      }
    },
    {
      "cell_type": "code",
      "source": [],
      "outputs": [],
      "execution_count": null,
      "metadata": {}
    }
  ],
  "metadata": {
    "kernelspec": {
      "name": "python310-sdkv2",
      "language": "python",
      "display_name": "Python 3.10 - SDK v2"
    },
    "language_info": {
      "name": "python",
      "version": "3.10.16",
      "mimetype": "text/x-python",
      "codemirror_mode": {
        "name": "ipython",
        "version": 3
      },
      "pygments_lexer": "ipython3",
      "nbconvert_exporter": "python",
      "file_extension": ".py"
    },
    "microsoft": {
      "ms_spell_check": {
        "ms_spell_check_language": "en"
      },
      "host": {
        "AzureML": {
          "notebookHasBeenCompleted": true
        }
      }
    },
    "kernel_info": {
      "name": "python310-sdkv2"
    },
    "nteract": {
      "version": "nteract-front-end@1.0.0"
    }
  },
  "nbformat": 4,
  "nbformat_minor": 2
}